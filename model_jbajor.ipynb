{
 "cells": [
  {
   "cell_type": "code",
   "execution_count": 78,
   "metadata": {},
   "outputs": [],
   "source": [
    "import pandas as pd\n",
    "import numpy as np\n",
    "import altair as alt\n",
    "import matplotlib.pyplot as plt"
   ]
  },
  {
   "cell_type": "code",
   "execution_count": 79,
   "metadata": {},
   "outputs": [
    {
     "name": "stderr",
     "output_type": "stream",
     "text": [
      "/var/folders/rl/dnlq62k50fd_dd8959xr62nh0000gn/T/ipykernel_31457/3584906996.py:1: DtypeWarning: Columns (56,58,63) have mixed types. Specify dtype option on import or set low_memory=False.\n",
      "  data = pd.read_csv('Android_Malware.csv', index_col=0)\n"
     ]
    }
   ],
   "source": [
    "data = pd.read_csv('Android_Malware.csv', index_col=0)"
   ]
  },
  {
   "cell_type": "markdown",
   "metadata": {},
   "source": [
    "## Initial EDA\n",
    "### Data Integrity Inspection"
   ]
  },
  {
   "cell_type": "code",
   "execution_count": 80,
   "metadata": {},
   "outputs": [
    {
     "data": {
      "text/html": [
       "<div>\n",
       "<style scoped>\n",
       "    .dataframe tbody tr th:only-of-type {\n",
       "        vertical-align: middle;\n",
       "    }\n",
       "\n",
       "    .dataframe tbody tr th {\n",
       "        vertical-align: top;\n",
       "    }\n",
       "\n",
       "    .dataframe thead th {\n",
       "        text-align: right;\n",
       "    }\n",
       "</style>\n",
       "<table border=\"1\" class=\"dataframe\">\n",
       "  <thead>\n",
       "    <tr style=\"text-align: right;\">\n",
       "      <th></th>\n",
       "      <th>Flow ID</th>\n",
       "      <th>Source IP</th>\n",
       "      <th>Source Port</th>\n",
       "      <th>Destination IP</th>\n",
       "      <th>Destination Port</th>\n",
       "      <th>Protocol</th>\n",
       "      <th>Timestamp</th>\n",
       "      <th>Flow Duration</th>\n",
       "      <th>Total Fwd Packets</th>\n",
       "      <th>Total Backward Packets</th>\n",
       "      <th>...</th>\n",
       "      <th>min_seg_size_forward</th>\n",
       "      <th>Active Mean</th>\n",
       "      <th>Active Std</th>\n",
       "      <th>Active Max</th>\n",
       "      <th>Active Min</th>\n",
       "      <th>Idle Mean</th>\n",
       "      <th>Idle Std</th>\n",
       "      <th>Idle Max</th>\n",
       "      <th>Idle Min</th>\n",
       "      <th>Label</th>\n",
       "    </tr>\n",
       "  </thead>\n",
       "  <tbody>\n",
       "    <tr>\n",
       "      <th>0</th>\n",
       "      <td>172.217.6.202-10.42.0.211-443-50004-6</td>\n",
       "      <td>10.42.0.211</td>\n",
       "      <td>50004</td>\n",
       "      <td>172.217.6.202</td>\n",
       "      <td>443.0</td>\n",
       "      <td>6.0</td>\n",
       "      <td>13/06/2017 11:52:39</td>\n",
       "      <td>37027</td>\n",
       "      <td>1</td>\n",
       "      <td>1</td>\n",
       "      <td>...</td>\n",
       "      <td>32.0</td>\n",
       "      <td>0.0</td>\n",
       "      <td>0.0</td>\n",
       "      <td>0.0</td>\n",
       "      <td>0.0</td>\n",
       "      <td>0.0</td>\n",
       "      <td>0.0</td>\n",
       "      <td>0.0</td>\n",
       "      <td>0.0</td>\n",
       "      <td>Android_Adware</td>\n",
       "    </tr>\n",
       "    <tr>\n",
       "      <th>1</th>\n",
       "      <td>172.217.6.202-10.42.0.211-443-35455-6</td>\n",
       "      <td>10.42.0.211</td>\n",
       "      <td>35455</td>\n",
       "      <td>172.217.6.202</td>\n",
       "      <td>443.0</td>\n",
       "      <td>6.0</td>\n",
       "      <td>13/06/2017 11:52:39</td>\n",
       "      <td>36653</td>\n",
       "      <td>1</td>\n",
       "      <td>1</td>\n",
       "      <td>...</td>\n",
       "      <td>32.0</td>\n",
       "      <td>0.0</td>\n",
       "      <td>0.0</td>\n",
       "      <td>0.0</td>\n",
       "      <td>0.0</td>\n",
       "      <td>0.0</td>\n",
       "      <td>0.0</td>\n",
       "      <td>0.0</td>\n",
       "      <td>0.0</td>\n",
       "      <td>Android_Adware</td>\n",
       "    </tr>\n",
       "    <tr>\n",
       "      <th>2</th>\n",
       "      <td>131.253.61.68-10.42.0.211-443-51775-6</td>\n",
       "      <td>10.42.0.211</td>\n",
       "      <td>51775</td>\n",
       "      <td>131.253.61.68</td>\n",
       "      <td>443.0</td>\n",
       "      <td>6.0</td>\n",
       "      <td>13/06/2017 11:52:42</td>\n",
       "      <td>534099</td>\n",
       "      <td>8</td>\n",
       "      <td>12</td>\n",
       "      <td>...</td>\n",
       "      <td>20.0</td>\n",
       "      <td>0.0</td>\n",
       "      <td>0.0</td>\n",
       "      <td>0.0</td>\n",
       "      <td>0.0</td>\n",
       "      <td>0.0</td>\n",
       "      <td>0.0</td>\n",
       "      <td>0.0</td>\n",
       "      <td>0.0</td>\n",
       "      <td>Android_Adware</td>\n",
       "    </tr>\n",
       "    <tr>\n",
       "      <th>3</th>\n",
       "      <td>131.253.61.68-10.42.0.211-443-51775-6</td>\n",
       "      <td>10.42.0.211</td>\n",
       "      <td>51775</td>\n",
       "      <td>131.253.61.68</td>\n",
       "      <td>443.0</td>\n",
       "      <td>6.0</td>\n",
       "      <td>13/06/2017 11:52:43</td>\n",
       "      <td>9309</td>\n",
       "      <td>3</td>\n",
       "      <td>0</td>\n",
       "      <td>...</td>\n",
       "      <td>20.0</td>\n",
       "      <td>0.0</td>\n",
       "      <td>0.0</td>\n",
       "      <td>0.0</td>\n",
       "      <td>0.0</td>\n",
       "      <td>0.0</td>\n",
       "      <td>0.0</td>\n",
       "      <td>0.0</td>\n",
       "      <td>0.0</td>\n",
       "      <td>Android_Adware</td>\n",
       "    </tr>\n",
       "    <tr>\n",
       "      <th>4</th>\n",
       "      <td>131.253.61.68-10.42.0.211-443-51776-6</td>\n",
       "      <td>10.42.0.211</td>\n",
       "      <td>51776</td>\n",
       "      <td>131.253.61.68</td>\n",
       "      <td>443.0</td>\n",
       "      <td>6.0</td>\n",
       "      <td>13/06/2017 11:52:42</td>\n",
       "      <td>19890496</td>\n",
       "      <td>8</td>\n",
       "      <td>6</td>\n",
       "      <td>...</td>\n",
       "      <td>20.0</td>\n",
       "      <td>0.0</td>\n",
       "      <td>0.0</td>\n",
       "      <td>0.0</td>\n",
       "      <td>0.0</td>\n",
       "      <td>0.0</td>\n",
       "      <td>0.0</td>\n",
       "      <td>0.0</td>\n",
       "      <td>0.0</td>\n",
       "      <td>Android_Adware</td>\n",
       "    </tr>\n",
       "    <tr>\n",
       "      <th>...</th>\n",
       "      <td>...</td>\n",
       "      <td>...</td>\n",
       "      <td>...</td>\n",
       "      <td>...</td>\n",
       "      <td>...</td>\n",
       "      <td>...</td>\n",
       "      <td>...</td>\n",
       "      <td>...</td>\n",
       "      <td>...</td>\n",
       "      <td>...</td>\n",
       "      <td>...</td>\n",
       "      <td>...</td>\n",
       "      <td>...</td>\n",
       "      <td>...</td>\n",
       "      <td>...</td>\n",
       "      <td>...</td>\n",
       "      <td>...</td>\n",
       "      <td>...</td>\n",
       "      <td>...</td>\n",
       "      <td>...</td>\n",
       "      <td>...</td>\n",
       "    </tr>\n",
       "    <tr>\n",
       "      <th>405</th>\n",
       "      <td>172.217.7.14-10.42.0.211-80-38405-6</td>\n",
       "      <td>172.217.7.14</td>\n",
       "      <td>80</td>\n",
       "      <td>10.42.0.211</td>\n",
       "      <td>38405.0</td>\n",
       "      <td>6.0</td>\n",
       "      <td>17/06/2017 01:29:11</td>\n",
       "      <td>126711</td>\n",
       "      <td>1</td>\n",
       "      <td>1</td>\n",
       "      <td>...</td>\n",
       "      <td>32.0</td>\n",
       "      <td>0.0</td>\n",
       "      <td>0.0</td>\n",
       "      <td>0.0</td>\n",
       "      <td>0.0</td>\n",
       "      <td>0.0</td>\n",
       "      <td>0.0</td>\n",
       "      <td>0.0</td>\n",
       "      <td>0.0</td>\n",
       "      <td>Benign</td>\n",
       "    </tr>\n",
       "    <tr>\n",
       "      <th>406</th>\n",
       "      <td>10.42.0.211-10.42.0.1-7632-53-17</td>\n",
       "      <td>10.42.0.211</td>\n",
       "      <td>7632</td>\n",
       "      <td>10.42.0.1</td>\n",
       "      <td>53.0</td>\n",
       "      <td>17.0</td>\n",
       "      <td>17/06/2017 01:30:33</td>\n",
       "      <td>48012</td>\n",
       "      <td>1</td>\n",
       "      <td>1</td>\n",
       "      <td>...</td>\n",
       "      <td>32.0</td>\n",
       "      <td>0.0</td>\n",
       "      <td>0.0</td>\n",
       "      <td>0.0</td>\n",
       "      <td>0.0</td>\n",
       "      <td>0.0</td>\n",
       "      <td>0.0</td>\n",
       "      <td>0.0</td>\n",
       "      <td>0.0</td>\n",
       "      <td>Benign</td>\n",
       "    </tr>\n",
       "    <tr>\n",
       "      <th>407</th>\n",
       "      <td>10.42.0.211-104.192.110.245-45970-443-6</td>\n",
       "      <td>10.42.0.211</td>\n",
       "      <td>45970</td>\n",
       "      <td>104.192.110.245</td>\n",
       "      <td>443.0</td>\n",
       "      <td>6.0</td>\n",
       "      <td>17/06/2017 01:29:45</td>\n",
       "      <td>20028018</td>\n",
       "      <td>11</td>\n",
       "      <td>8</td>\n",
       "      <td>...</td>\n",
       "      <td>20.0</td>\n",
       "      <td>367528.0</td>\n",
       "      <td>0.0</td>\n",
       "      <td>367528.0</td>\n",
       "      <td>367528.0</td>\n",
       "      <td>19660490.0</td>\n",
       "      <td>0.0</td>\n",
       "      <td>19660490.0</td>\n",
       "      <td>19660490.0</td>\n",
       "      <td>Benign</td>\n",
       "    </tr>\n",
       "    <tr>\n",
       "      <th>408</th>\n",
       "      <td>10.42.0.211-10.42.0.1-51982-53-17</td>\n",
       "      <td>10.42.0.211</td>\n",
       "      <td>51982</td>\n",
       "      <td>10.42.0.1</td>\n",
       "      <td>53.0</td>\n",
       "      <td>17.0</td>\n",
       "      <td>17/06/2017 01:29:45</td>\n",
       "      <td>347926</td>\n",
       "      <td>1</td>\n",
       "      <td>1</td>\n",
       "      <td>...</td>\n",
       "      <td>20.0</td>\n",
       "      <td>0.0</td>\n",
       "      <td>0.0</td>\n",
       "      <td>0.0</td>\n",
       "      <td>0.0</td>\n",
       "      <td>0.0</td>\n",
       "      <td>0.0</td>\n",
       "      <td>0.0</td>\n",
       "      <td>0.0</td>\n",
       "      <td>Benign</td>\n",
       "    </tr>\n",
       "    <tr>\n",
       "      <th>409</th>\n",
       "      <td>10.42.0.211-10.42.0.1-9320-53-17</td>\n",
       "      <td>10.42.0.211</td>\n",
       "      <td>9320</td>\n",
       "      <td>10.42.0.1</td>\n",
       "      <td>53.0</td>\n",
       "      <td>17.0</td>\n",
       "      <td>17/06/2017 01:30:33</td>\n",
       "      <td>125473</td>\n",
       "      <td>1</td>\n",
       "      <td>1</td>\n",
       "      <td>...</td>\n",
       "      <td>32.0</td>\n",
       "      <td>0.0</td>\n",
       "      <td>0.0</td>\n",
       "      <td>0.0</td>\n",
       "      <td>0.0</td>\n",
       "      <td>0.0</td>\n",
       "      <td>0.0</td>\n",
       "      <td>0.0</td>\n",
       "      <td>0.0</td>\n",
       "      <td>Benign</td>\n",
       "    </tr>\n",
       "  </tbody>\n",
       "</table>\n",
       "<p>355630 rows × 85 columns</p>\n",
       "</div>"
      ],
      "text/plain": [
       "                                     Flow ID     Source IP   Source Port  \\\n",
       "0      172.217.6.202-10.42.0.211-443-50004-6   10.42.0.211         50004   \n",
       "1      172.217.6.202-10.42.0.211-443-35455-6   10.42.0.211         35455   \n",
       "2      131.253.61.68-10.42.0.211-443-51775-6   10.42.0.211         51775   \n",
       "3      131.253.61.68-10.42.0.211-443-51775-6   10.42.0.211         51775   \n",
       "4      131.253.61.68-10.42.0.211-443-51776-6   10.42.0.211         51776   \n",
       "..                                       ...           ...           ...   \n",
       "405      172.217.7.14-10.42.0.211-80-38405-6  172.217.7.14            80   \n",
       "406         10.42.0.211-10.42.0.1-7632-53-17   10.42.0.211          7632   \n",
       "407  10.42.0.211-104.192.110.245-45970-443-6   10.42.0.211         45970   \n",
       "408        10.42.0.211-10.42.0.1-51982-53-17   10.42.0.211         51982   \n",
       "409         10.42.0.211-10.42.0.1-9320-53-17   10.42.0.211          9320   \n",
       "\n",
       "      Destination IP   Destination Port   Protocol            Timestamp  \\\n",
       "0      172.217.6.202              443.0        6.0  13/06/2017 11:52:39   \n",
       "1      172.217.6.202              443.0        6.0  13/06/2017 11:52:39   \n",
       "2      131.253.61.68              443.0        6.0  13/06/2017 11:52:42   \n",
       "3      131.253.61.68              443.0        6.0  13/06/2017 11:52:43   \n",
       "4      131.253.61.68              443.0        6.0  13/06/2017 11:52:42   \n",
       "..               ...                ...        ...                  ...   \n",
       "405      10.42.0.211            38405.0        6.0  17/06/2017 01:29:11   \n",
       "406        10.42.0.1               53.0       17.0  17/06/2017 01:30:33   \n",
       "407  104.192.110.245              443.0        6.0  17/06/2017 01:29:45   \n",
       "408        10.42.0.1               53.0       17.0  17/06/2017 01:29:45   \n",
       "409        10.42.0.1               53.0       17.0  17/06/2017 01:30:33   \n",
       "\n",
       "      Flow Duration   Total Fwd Packets   Total Backward Packets  ...  \\\n",
       "0             37027                   1                        1  ...   \n",
       "1             36653                   1                        1  ...   \n",
       "2            534099                   8                       12  ...   \n",
       "3              9309                   3                        0  ...   \n",
       "4          19890496                   8                        6  ...   \n",
       "..              ...                 ...                      ...  ...   \n",
       "405          126711                   1                        1  ...   \n",
       "406           48012                   1                        1  ...   \n",
       "407        20028018                  11                        8  ...   \n",
       "408          347926                   1                        1  ...   \n",
       "409          125473                   1                        1  ...   \n",
       "\n",
       "      min_seg_size_forward  Active Mean   Active Std   Active Max  \\\n",
       "0                     32.0          0.0          0.0          0.0   \n",
       "1                     32.0          0.0          0.0          0.0   \n",
       "2                     20.0          0.0          0.0          0.0   \n",
       "3                     20.0          0.0          0.0          0.0   \n",
       "4                     20.0          0.0          0.0          0.0   \n",
       "..                     ...          ...          ...          ...   \n",
       "405                   32.0          0.0          0.0          0.0   \n",
       "406                   32.0          0.0          0.0          0.0   \n",
       "407                   20.0     367528.0          0.0     367528.0   \n",
       "408                   20.0          0.0          0.0          0.0   \n",
       "409                   32.0          0.0          0.0          0.0   \n",
       "\n",
       "      Active Min   Idle Mean   Idle Std    Idle Max    Idle Min  \\\n",
       "0            0.0         0.0        0.0         0.0         0.0   \n",
       "1            0.0         0.0        0.0         0.0         0.0   \n",
       "2            0.0         0.0        0.0         0.0         0.0   \n",
       "3            0.0         0.0        0.0         0.0         0.0   \n",
       "4            0.0         0.0        0.0         0.0         0.0   \n",
       "..           ...         ...        ...         ...         ...   \n",
       "405          0.0         0.0        0.0         0.0         0.0   \n",
       "406          0.0         0.0        0.0         0.0         0.0   \n",
       "407     367528.0  19660490.0        0.0  19660490.0  19660490.0   \n",
       "408          0.0         0.0        0.0         0.0         0.0   \n",
       "409          0.0         0.0        0.0         0.0         0.0   \n",
       "\n",
       "              Label  \n",
       "0    Android_Adware  \n",
       "1    Android_Adware  \n",
       "2    Android_Adware  \n",
       "3    Android_Adware  \n",
       "4    Android_Adware  \n",
       "..              ...  \n",
       "405          Benign  \n",
       "406          Benign  \n",
       "407          Benign  \n",
       "408          Benign  \n",
       "409          Benign  \n",
       "\n",
       "[355630 rows x 85 columns]"
      ]
     },
     "execution_count": 80,
     "metadata": {},
     "output_type": "execute_result"
    }
   ],
   "source": [
    "data"
   ]
  },
  {
   "cell_type": "code",
   "execution_count": 81,
   "metadata": {},
   "outputs": [
    {
     "data": {
      "text/html": [
       "<div>\n",
       "<style scoped>\n",
       "    .dataframe tbody tr th:only-of-type {\n",
       "        vertical-align: middle;\n",
       "    }\n",
       "\n",
       "    .dataframe tbody tr th {\n",
       "        vertical-align: top;\n",
       "    }\n",
       "\n",
       "    .dataframe thead th {\n",
       "        text-align: right;\n",
       "    }\n",
       "</style>\n",
       "<table border=\"1\" class=\"dataframe\">\n",
       "  <thead>\n",
       "    <tr style=\"text-align: right;\">\n",
       "      <th></th>\n",
       "      <th>Flow ID</th>\n",
       "      <th>Source IP</th>\n",
       "      <th>Source Port</th>\n",
       "      <th>Destination IP</th>\n",
       "      <th>Destination Port</th>\n",
       "      <th>Protocol</th>\n",
       "      <th>Timestamp</th>\n",
       "      <th>Flow Duration</th>\n",
       "      <th>Total Fwd Packets</th>\n",
       "      <th>Total Backward Packets</th>\n",
       "      <th>...</th>\n",
       "      <th>min_seg_size_forward</th>\n",
       "      <th>Active Mean</th>\n",
       "      <th>Active Std</th>\n",
       "      <th>Active Max</th>\n",
       "      <th>Active Min</th>\n",
       "      <th>Idle Mean</th>\n",
       "      <th>Idle Std</th>\n",
       "      <th>Idle Max</th>\n",
       "      <th>Idle Min</th>\n",
       "      <th>Label</th>\n",
       "    </tr>\n",
       "  </thead>\n",
       "  <tbody>\n",
       "    <tr>\n",
       "      <th>0</th>\n",
       "      <td>172.217.6.202-10.42.0.211-443-50004-6</td>\n",
       "      <td>10.42.0.211</td>\n",
       "      <td>50004</td>\n",
       "      <td>172.217.6.202</td>\n",
       "      <td>443.0</td>\n",
       "      <td>6.0</td>\n",
       "      <td>13/06/2017 11:52:39</td>\n",
       "      <td>37027</td>\n",
       "      <td>1</td>\n",
       "      <td>1</td>\n",
       "      <td>...</td>\n",
       "      <td>32.0</td>\n",
       "      <td>0.0</td>\n",
       "      <td>0.0</td>\n",
       "      <td>0.0</td>\n",
       "      <td>0.0</td>\n",
       "      <td>0.0</td>\n",
       "      <td>0.0</td>\n",
       "      <td>0.0</td>\n",
       "      <td>0.0</td>\n",
       "      <td>Android_Adware</td>\n",
       "    </tr>\n",
       "    <tr>\n",
       "      <th>1</th>\n",
       "      <td>172.217.6.202-10.42.0.211-443-35455-6</td>\n",
       "      <td>10.42.0.211</td>\n",
       "      <td>35455</td>\n",
       "      <td>172.217.6.202</td>\n",
       "      <td>443.0</td>\n",
       "      <td>6.0</td>\n",
       "      <td>13/06/2017 11:52:39</td>\n",
       "      <td>36653</td>\n",
       "      <td>1</td>\n",
       "      <td>1</td>\n",
       "      <td>...</td>\n",
       "      <td>32.0</td>\n",
       "      <td>0.0</td>\n",
       "      <td>0.0</td>\n",
       "      <td>0.0</td>\n",
       "      <td>0.0</td>\n",
       "      <td>0.0</td>\n",
       "      <td>0.0</td>\n",
       "      <td>0.0</td>\n",
       "      <td>0.0</td>\n",
       "      <td>Android_Adware</td>\n",
       "    </tr>\n",
       "    <tr>\n",
       "      <th>2</th>\n",
       "      <td>131.253.61.68-10.42.0.211-443-51775-6</td>\n",
       "      <td>10.42.0.211</td>\n",
       "      <td>51775</td>\n",
       "      <td>131.253.61.68</td>\n",
       "      <td>443.0</td>\n",
       "      <td>6.0</td>\n",
       "      <td>13/06/2017 11:52:42</td>\n",
       "      <td>534099</td>\n",
       "      <td>8</td>\n",
       "      <td>12</td>\n",
       "      <td>...</td>\n",
       "      <td>20.0</td>\n",
       "      <td>0.0</td>\n",
       "      <td>0.0</td>\n",
       "      <td>0.0</td>\n",
       "      <td>0.0</td>\n",
       "      <td>0.0</td>\n",
       "      <td>0.0</td>\n",
       "      <td>0.0</td>\n",
       "      <td>0.0</td>\n",
       "      <td>Android_Adware</td>\n",
       "    </tr>\n",
       "    <tr>\n",
       "      <th>3</th>\n",
       "      <td>131.253.61.68-10.42.0.211-443-51775-6</td>\n",
       "      <td>10.42.0.211</td>\n",
       "      <td>51775</td>\n",
       "      <td>131.253.61.68</td>\n",
       "      <td>443.0</td>\n",
       "      <td>6.0</td>\n",
       "      <td>13/06/2017 11:52:43</td>\n",
       "      <td>9309</td>\n",
       "      <td>3</td>\n",
       "      <td>0</td>\n",
       "      <td>...</td>\n",
       "      <td>20.0</td>\n",
       "      <td>0.0</td>\n",
       "      <td>0.0</td>\n",
       "      <td>0.0</td>\n",
       "      <td>0.0</td>\n",
       "      <td>0.0</td>\n",
       "      <td>0.0</td>\n",
       "      <td>0.0</td>\n",
       "      <td>0.0</td>\n",
       "      <td>Android_Adware</td>\n",
       "    </tr>\n",
       "    <tr>\n",
       "      <th>4</th>\n",
       "      <td>131.253.61.68-10.42.0.211-443-51776-6</td>\n",
       "      <td>10.42.0.211</td>\n",
       "      <td>51776</td>\n",
       "      <td>131.253.61.68</td>\n",
       "      <td>443.0</td>\n",
       "      <td>6.0</td>\n",
       "      <td>13/06/2017 11:52:42</td>\n",
       "      <td>19890496</td>\n",
       "      <td>8</td>\n",
       "      <td>6</td>\n",
       "      <td>...</td>\n",
       "      <td>20.0</td>\n",
       "      <td>0.0</td>\n",
       "      <td>0.0</td>\n",
       "      <td>0.0</td>\n",
       "      <td>0.0</td>\n",
       "      <td>0.0</td>\n",
       "      <td>0.0</td>\n",
       "      <td>0.0</td>\n",
       "      <td>0.0</td>\n",
       "      <td>Android_Adware</td>\n",
       "    </tr>\n",
       "  </tbody>\n",
       "</table>\n",
       "<p>5 rows × 85 columns</p>\n",
       "</div>"
      ],
      "text/plain": [
       "                                 Flow ID    Source IP   Source Port  \\\n",
       "0  172.217.6.202-10.42.0.211-443-50004-6  10.42.0.211         50004   \n",
       "1  172.217.6.202-10.42.0.211-443-35455-6  10.42.0.211         35455   \n",
       "2  131.253.61.68-10.42.0.211-443-51775-6  10.42.0.211         51775   \n",
       "3  131.253.61.68-10.42.0.211-443-51775-6  10.42.0.211         51775   \n",
       "4  131.253.61.68-10.42.0.211-443-51776-6  10.42.0.211         51776   \n",
       "\n",
       "   Destination IP   Destination Port   Protocol            Timestamp  \\\n",
       "0   172.217.6.202              443.0        6.0  13/06/2017 11:52:39   \n",
       "1   172.217.6.202              443.0        6.0  13/06/2017 11:52:39   \n",
       "2   131.253.61.68              443.0        6.0  13/06/2017 11:52:42   \n",
       "3   131.253.61.68              443.0        6.0  13/06/2017 11:52:43   \n",
       "4   131.253.61.68              443.0        6.0  13/06/2017 11:52:42   \n",
       "\n",
       "    Flow Duration   Total Fwd Packets   Total Backward Packets  ...  \\\n",
       "0           37027                   1                        1  ...   \n",
       "1           36653                   1                        1  ...   \n",
       "2          534099                   8                       12  ...   \n",
       "3            9309                   3                        0  ...   \n",
       "4        19890496                   8                        6  ...   \n",
       "\n",
       "    min_seg_size_forward  Active Mean   Active Std   Active Max   Active Min  \\\n",
       "0                   32.0          0.0          0.0          0.0          0.0   \n",
       "1                   32.0          0.0          0.0          0.0          0.0   \n",
       "2                   20.0          0.0          0.0          0.0          0.0   \n",
       "3                   20.0          0.0          0.0          0.0          0.0   \n",
       "4                   20.0          0.0          0.0          0.0          0.0   \n",
       "\n",
       "   Idle Mean   Idle Std   Idle Max   Idle Min           Label  \n",
       "0        0.0        0.0        0.0        0.0  Android_Adware  \n",
       "1        0.0        0.0        0.0        0.0  Android_Adware  \n",
       "2        0.0        0.0        0.0        0.0  Android_Adware  \n",
       "3        0.0        0.0        0.0        0.0  Android_Adware  \n",
       "4        0.0        0.0        0.0        0.0  Android_Adware  \n",
       "\n",
       "[5 rows x 85 columns]"
      ]
     },
     "execution_count": 81,
     "metadata": {},
     "output_type": "execute_result"
    }
   ],
   "source": [
    "data.head()"
   ]
  },
  {
   "cell_type": "code",
   "execution_count": 82,
   "metadata": {},
   "outputs": [
    {
     "name": "stdout",
     "output_type": "stream",
     "text": [
      "<class 'pandas.core.frame.DataFrame'>\n",
      "Int64Index: 355630 entries, 0 to 409\n",
      "Data columns (total 85 columns):\n",
      " #   Column                        Non-Null Count   Dtype  \n",
      "---  ------                        --------------   -----  \n",
      " 0   Flow ID                       355629 non-null  object \n",
      " 1    Source IP                    355630 non-null  object \n",
      " 2    Source Port                  355630 non-null  int64  \n",
      " 3    Destination IP               355630 non-null  object \n",
      " 4    Destination Port             355630 non-null  float64\n",
      " 5    Protocol                     355630 non-null  float64\n",
      " 6    Timestamp                    355630 non-null  object \n",
      " 7    Flow Duration                355630 non-null  int64  \n",
      " 8    Total Fwd Packets            355630 non-null  int64  \n",
      " 9    Total Backward Packets       355630 non-null  int64  \n",
      " 10  Total Length of Fwd Packets   355630 non-null  float64\n",
      " 11   Total Length of Bwd Packets  355630 non-null  float64\n",
      " 12   Fwd Packet Length Max        355630 non-null  float64\n",
      " 13   Fwd Packet Length Min        355630 non-null  float64\n",
      " 14   Fwd Packet Length Mean       355630 non-null  float64\n",
      " 15   Fwd Packet Length Std        355630 non-null  float64\n",
      " 16  Bwd Packet Length Max         355630 non-null  float64\n",
      " 17   Bwd Packet Length Min        355630 non-null  float64\n",
      " 18   Bwd Packet Length Mean       355630 non-null  float64\n",
      " 19   Bwd Packet Length Std        355630 non-null  float64\n",
      " 20  Flow Bytes/s                  355630 non-null  float64\n",
      " 21   Flow Packets/s               355630 non-null  float64\n",
      " 22   Flow IAT Mean                355630 non-null  float64\n",
      " 23   Flow IAT Std                 355630 non-null  float64\n",
      " 24   Flow IAT Max                 355630 non-null  float64\n",
      " 25   Flow IAT Min                 355630 non-null  float64\n",
      " 26  Fwd IAT Total                 355630 non-null  float64\n",
      " 27   Fwd IAT Mean                 355630 non-null  float64\n",
      " 28   Fwd IAT Std                  355630 non-null  float64\n",
      " 29   Fwd IAT Max                  355630 non-null  float64\n",
      " 30   Fwd IAT Min                  355630 non-null  float64\n",
      " 31  Bwd IAT Total                 355630 non-null  float64\n",
      " 32   Bwd IAT Mean                 355630 non-null  float64\n",
      " 33   Bwd IAT Std                  355630 non-null  float64\n",
      " 34   Bwd IAT Max                  355630 non-null  float64\n",
      " 35   Bwd IAT Min                  355630 non-null  float64\n",
      " 36  Fwd PSH Flags                 355630 non-null  float64\n",
      " 37   Bwd PSH Flags                355630 non-null  float64\n",
      " 38   Fwd URG Flags                355630 non-null  int64  \n",
      " 39   Bwd URG Flags                355630 non-null  int64  \n",
      " 40   Fwd Header Length            355630 non-null  int64  \n",
      " 41   Bwd Header Length            355630 non-null  int64  \n",
      " 42  Fwd Packets/s                 355630 non-null  float64\n",
      " 43   Bwd Packets/s                355629 non-null  float64\n",
      " 44   Min Packet Length            355629 non-null  float64\n",
      " 45   Max Packet Length            355629 non-null  float64\n",
      " 46   Packet Length Mean           355629 non-null  float64\n",
      " 47   Packet Length Std            355629 non-null  float64\n",
      " 48   Packet Length Variance       355629 non-null  float64\n",
      " 49  FIN Flag Count                355629 non-null  float64\n",
      " 50   SYN Flag Count               355629 non-null  float64\n",
      " 51   RST Flag Count               355629 non-null  float64\n",
      " 52   PSH Flag Count               355629 non-null  float64\n",
      " 53   ACK Flag Count               355629 non-null  float64\n",
      " 54   URG Flag Count               355629 non-null  float64\n",
      " 55   CWE Flag Count               355629 non-null  object \n",
      " 56   ECE Flag Count               355628 non-null  float64\n",
      " 57   Down/Up Ratio                355628 non-null  object \n",
      " 58   Average Packet Size          355627 non-null  float64\n",
      " 59   Avg Fwd Segment Size         355627 non-null  float64\n",
      " 60   Avg Bwd Segment Size         355627 non-null  float64\n",
      " 61   Fwd Header Length.1          355627 non-null  float64\n",
      " 62  Fwd Avg Bytes/Bulk            355627 non-null  object \n",
      " 63   Fwd Avg Packets/Bulk         355626 non-null  float64\n",
      " 64   Fwd Avg Bulk Rate            355626 non-null  float64\n",
      " 65   Bwd Avg Bytes/Bulk           355626 non-null  float64\n",
      " 66   Bwd Avg Packets/Bulk         355626 non-null  float64\n",
      " 67  Bwd Avg Bulk Rate             355626 non-null  float64\n",
      " 68  Subflow Fwd Packets           355626 non-null  float64\n",
      " 69   Subflow Fwd Bytes            355626 non-null  float64\n",
      " 70   Subflow Bwd Packets          355626 non-null  float64\n",
      " 71   Subflow Bwd Bytes            355626 non-null  float64\n",
      " 72  Init_Win_bytes_forward        355626 non-null  float64\n",
      " 73   Init_Win_bytes_backward      355626 non-null  float64\n",
      " 74   act_data_pkt_fwd             355626 non-null  float64\n",
      " 75   min_seg_size_forward         355626 non-null  float64\n",
      " 76  Active Mean                   355626 non-null  float64\n",
      " 77   Active Std                   355626 non-null  float64\n",
      " 78   Active Max                   355626 non-null  float64\n",
      " 79   Active Min                   355626 non-null  float64\n",
      " 80  Idle Mean                     355626 non-null  float64\n",
      " 81   Idle Std                     355626 non-null  float64\n",
      " 82   Idle Max                     355626 non-null  float64\n",
      " 83   Idle Min                     355626 non-null  float64\n",
      " 84  Label                         355630 non-null  object \n",
      "dtypes: float64(69), int64(8), object(8)\n",
      "memory usage: 233.3+ MB\n"
     ]
    }
   ],
   "source": [
    "data.info()"
   ]
  },
  {
   "cell_type": "code",
   "execution_count": 83,
   "metadata": {},
   "outputs": [
    {
     "data": {
      "text/plain": [
       "<AxesSubplot: >"
      ]
     },
     "execution_count": 83,
     "metadata": {},
     "output_type": "execute_result"
    },
    {
     "data": {
      "image/png": "[encoded data removed]",
      "text/plain": [
       "<Figure size 640x480 with 1 Axes>"
      ]
     },
     "metadata": {},
     "output_type": "display_data"
    }
   ],
   "source": [
    "data[\"Label\"].value_counts().plot(kind = \"bar\")"
   ]
  },
  {
   "cell_type": "markdown",
   "metadata": {},
   "source": [
    "### Removing Duplicates"
   ]
  },
  {
   "cell_type": "code",
   "execution_count": 84,
   "metadata": {},
   "outputs": [
    {
     "data": {
      "text/html": [
       "<div>\n",
       "<style scoped>\n",
       "    .dataframe tbody tr th:only-of-type {\n",
       "        vertical-align: middle;\n",
       "    }\n",
       "\n",
       "    .dataframe tbody tr th {\n",
       "        vertical-align: top;\n",
       "    }\n",
       "\n",
       "    .dataframe thead th {\n",
       "        text-align: right;\n",
       "    }\n",
       "</style>\n",
       "<table border=\"1\" class=\"dataframe\">\n",
       "  <thead>\n",
       "    <tr style=\"text-align: right;\">\n",
       "      <th></th>\n",
       "      <th>Flow ID</th>\n",
       "      <th>Source IP</th>\n",
       "      <th>Source Port</th>\n",
       "      <th>Destination IP</th>\n",
       "      <th>Destination Port</th>\n",
       "      <th>Protocol</th>\n",
       "      <th>Timestamp</th>\n",
       "      <th>Flow Duration</th>\n",
       "      <th>Total Fwd Packets</th>\n",
       "      <th>Total Backward Packets</th>\n",
       "      <th>...</th>\n",
       "      <th>min_seg_size_forward</th>\n",
       "      <th>Active Mean</th>\n",
       "      <th>Active Std</th>\n",
       "      <th>Active Max</th>\n",
       "      <th>Active Min</th>\n",
       "      <th>Idle Mean</th>\n",
       "      <th>Idle Std</th>\n",
       "      <th>Idle Max</th>\n",
       "      <th>Idle Min</th>\n",
       "      <th>Label</th>\n",
       "    </tr>\n",
       "  </thead>\n",
       "  <tbody>\n",
       "    <tr>\n",
       "      <th>90</th>\n",
       "      <td>203.205.158.60-10.42.0.211-80-48574-6</td>\n",
       "      <td>203.205.158.60</td>\n",
       "      <td>80</td>\n",
       "      <td>10.42.0.211</td>\n",
       "      <td>48574.0</td>\n",
       "      <td>6.0</td>\n",
       "      <td>27/06/2017 02:23:49</td>\n",
       "      <td>4</td>\n",
       "      <td>2</td>\n",
       "      <td>0</td>\n",
       "      <td>...</td>\n",
       "      <td>32.0</td>\n",
       "      <td>0.0</td>\n",
       "      <td>0.0</td>\n",
       "      <td>0.0</td>\n",
       "      <td>0.0</td>\n",
       "      <td>0.0</td>\n",
       "      <td>0.0</td>\n",
       "      <td>0.0</td>\n",
       "      <td>0.0</td>\n",
       "      <td>Android_Scareware</td>\n",
       "    </tr>\n",
       "    <tr>\n",
       "      <th>94</th>\n",
       "      <td>10.42.0.211-111.206.25.159-33521-80-6</td>\n",
       "      <td>111.206.25.159</td>\n",
       "      <td>80</td>\n",
       "      <td>10.42.0.211</td>\n",
       "      <td>33521.0</td>\n",
       "      <td>6.0</td>\n",
       "      <td>27/06/2017 02:23:49</td>\n",
       "      <td>8</td>\n",
       "      <td>2</td>\n",
       "      <td>0</td>\n",
       "      <td>...</td>\n",
       "      <td>20.0</td>\n",
       "      <td>0.0</td>\n",
       "      <td>0.0</td>\n",
       "      <td>0.0</td>\n",
       "      <td>0.0</td>\n",
       "      <td>0.0</td>\n",
       "      <td>0.0</td>\n",
       "      <td>0.0</td>\n",
       "      <td>0.0</td>\n",
       "      <td>Android_Scareware</td>\n",
       "    </tr>\n",
       "    <tr>\n",
       "      <th>438</th>\n",
       "      <td>10.42.0.211-106.39.169.66-38659-443-6</td>\n",
       "      <td>10.42.0.211</td>\n",
       "      <td>38659</td>\n",
       "      <td>106.39.169.66</td>\n",
       "      <td>443.0</td>\n",
       "      <td>6.0</td>\n",
       "      <td>27/06/2017 02:29:27</td>\n",
       "      <td>5</td>\n",
       "      <td>2</td>\n",
       "      <td>0</td>\n",
       "      <td>...</td>\n",
       "      <td>20.0</td>\n",
       "      <td>0.0</td>\n",
       "      <td>0.0</td>\n",
       "      <td>0.0</td>\n",
       "      <td>0.0</td>\n",
       "      <td>0.0</td>\n",
       "      <td>0.0</td>\n",
       "      <td>0.0</td>\n",
       "      <td>0.0</td>\n",
       "      <td>Android_Scareware</td>\n",
       "    </tr>\n",
       "    <tr>\n",
       "      <th>475</th>\n",
       "      <td>10.42.0.211-119.146.74.34-36805-80-6</td>\n",
       "      <td>119.146.74.34</td>\n",
       "      <td>80</td>\n",
       "      <td>10.42.0.211</td>\n",
       "      <td>36805.0</td>\n",
       "      <td>6.0</td>\n",
       "      <td>27/06/2017 02:29:30</td>\n",
       "      <td>10</td>\n",
       "      <td>2</td>\n",
       "      <td>0</td>\n",
       "      <td>...</td>\n",
       "      <td>20.0</td>\n",
       "      <td>0.0</td>\n",
       "      <td>0.0</td>\n",
       "      <td>0.0</td>\n",
       "      <td>0.0</td>\n",
       "      <td>0.0</td>\n",
       "      <td>0.0</td>\n",
       "      <td>0.0</td>\n",
       "      <td>0.0</td>\n",
       "      <td>Android_Scareware</td>\n",
       "    </tr>\n",
       "    <tr>\n",
       "      <th>476</th>\n",
       "      <td>10.42.0.211-119.146.74.48-33523-80-6</td>\n",
       "      <td>119.146.74.48</td>\n",
       "      <td>80</td>\n",
       "      <td>10.42.0.211</td>\n",
       "      <td>33523.0</td>\n",
       "      <td>6.0</td>\n",
       "      <td>27/06/2017 02:29:30</td>\n",
       "      <td>8</td>\n",
       "      <td>2</td>\n",
       "      <td>0</td>\n",
       "      <td>...</td>\n",
       "      <td>20.0</td>\n",
       "      <td>0.0</td>\n",
       "      <td>0.0</td>\n",
       "      <td>0.0</td>\n",
       "      <td>0.0</td>\n",
       "      <td>0.0</td>\n",
       "      <td>0.0</td>\n",
       "      <td>0.0</td>\n",
       "      <td>0.0</td>\n",
       "      <td>Android_Scareware</td>\n",
       "    </tr>\n",
       "    <tr>\n",
       "      <th>...</th>\n",
       "      <td>...</td>\n",
       "      <td>...</td>\n",
       "      <td>...</td>\n",
       "      <td>...</td>\n",
       "      <td>...</td>\n",
       "      <td>...</td>\n",
       "      <td>...</td>\n",
       "      <td>...</td>\n",
       "      <td>...</td>\n",
       "      <td>...</td>\n",
       "      <td>...</td>\n",
       "      <td>...</td>\n",
       "      <td>...</td>\n",
       "      <td>...</td>\n",
       "      <td>...</td>\n",
       "      <td>...</td>\n",
       "      <td>...</td>\n",
       "      <td>...</td>\n",
       "      <td>...</td>\n",
       "      <td>...</td>\n",
       "      <td>...</td>\n",
       "    </tr>\n",
       "    <tr>\n",
       "      <th>406</th>\n",
       "      <td>10.42.0.211-118.178.143.65-50070-80-6</td>\n",
       "      <td>10.42.0.211</td>\n",
       "      <td>50070</td>\n",
       "      <td>118.178.143.65</td>\n",
       "      <td>80.0</td>\n",
       "      <td>6.0</td>\n",
       "      <td>30/06/2017 02:48:06</td>\n",
       "      <td>8769698</td>\n",
       "      <td>4</td>\n",
       "      <td>4</td>\n",
       "      <td>...</td>\n",
       "      <td>32.0</td>\n",
       "      <td>0.0</td>\n",
       "      <td>0.0</td>\n",
       "      <td>0.0</td>\n",
       "      <td>0.0</td>\n",
       "      <td>0.0</td>\n",
       "      <td>0.0</td>\n",
       "      <td>0.0</td>\n",
       "      <td>0.0</td>\n",
       "      <td>Android_SMS_Malware</td>\n",
       "    </tr>\n",
       "    <tr>\n",
       "      <th>407</th>\n",
       "      <td>140.205.61.26-10.42.0.211-80-47648-6</td>\n",
       "      <td>10.42.0.211</td>\n",
       "      <td>47648</td>\n",
       "      <td>140.205.61.26</td>\n",
       "      <td>80.0</td>\n",
       "      <td>6.0</td>\n",
       "      <td>30/06/2017 02:48:17</td>\n",
       "      <td>892843</td>\n",
       "      <td>5</td>\n",
       "      <td>6</td>\n",
       "      <td>...</td>\n",
       "      <td>20.0</td>\n",
       "      <td>0.0</td>\n",
       "      <td>0.0</td>\n",
       "      <td>0.0</td>\n",
       "      <td>0.0</td>\n",
       "      <td>0.0</td>\n",
       "      <td>0.0</td>\n",
       "      <td>0.0</td>\n",
       "      <td>0.0</td>\n",
       "      <td>Android_SMS_Malware</td>\n",
       "    </tr>\n",
       "    <tr>\n",
       "      <th>408</th>\n",
       "      <td>140.205.61.26-10.42.0.211-80-47648-6</td>\n",
       "      <td>10.42.0.211</td>\n",
       "      <td>47648</td>\n",
       "      <td>140.205.61.26</td>\n",
       "      <td>80.0</td>\n",
       "      <td>6.0</td>\n",
       "      <td>30/06/2017 02:48:18</td>\n",
       "      <td>109</td>\n",
       "      <td>2</td>\n",
       "      <td>0</td>\n",
       "      <td>...</td>\n",
       "      <td>20.0</td>\n",
       "      <td>0.0</td>\n",
       "      <td>0.0</td>\n",
       "      <td>0.0</td>\n",
       "      <td>0.0</td>\n",
       "      <td>0.0</td>\n",
       "      <td>0.0</td>\n",
       "      <td>0.0</td>\n",
       "      <td>0.0</td>\n",
       "      <td>Android_SMS_Malware</td>\n",
       "    </tr>\n",
       "    <tr>\n",
       "      <th>409</th>\n",
       "      <td>10.42.0.211-121.41.62.82-44183-1088-6</td>\n",
       "      <td>10.42.0.211</td>\n",
       "      <td>44183</td>\n",
       "      <td>121.41.62.82</td>\n",
       "      <td>1088.0</td>\n",
       "      <td>6.0</td>\n",
       "      <td>30/06/2017 02:48:17</td>\n",
       "      <td>12192623</td>\n",
       "      <td>2</td>\n",
       "      <td>0</td>\n",
       "      <td>...</td>\n",
       "      <td>32.0</td>\n",
       "      <td>0.0</td>\n",
       "      <td>0.0</td>\n",
       "      <td>0.0</td>\n",
       "      <td>0.0</td>\n",
       "      <td>0.0</td>\n",
       "      <td>0.0</td>\n",
       "      <td>0.0</td>\n",
       "      <td>0.0</td>\n",
       "      <td>Android_SMS_Malware</td>\n",
       "    </tr>\n",
       "    <tr>\n",
       "      <th>410</th>\n",
       "      <td>10.42.0.211-101.37.105.10-48779-6880-6</td>\n",
       "      <td>10.42.0.211</td>\n",
       "      <td>48779</td>\n",
       "      <td>101.37.105.10</td>\n",
       "      <td>6880.0</td>\n",
       "      <td>6.0</td>\n",
       "      <td>30/06/2017 02:48:21</td>\n",
       "      <td>16057007</td>\n",
       "      <td>2</td>\n",
       "      <td>0</td>\n",
       "      <td>...</td>\n",
       "      <td>20.0</td>\n",
       "      <td>0.0</td>\n",
       "      <td>0.0</td>\n",
       "      <td>0.0</td>\n",
       "      <td>0.0</td>\n",
       "      <td>0.0</td>\n",
       "      <td>0.0</td>\n",
       "      <td>0.0</td>\n",
       "      <td>0.0</td>\n",
       "      <td>Android_SMS_Malware</td>\n",
       "    </tr>\n",
       "  </tbody>\n",
       "</table>\n",
       "<p>2885 rows × 85 columns</p>\n",
       "</div>"
      ],
      "text/plain": [
       "                                    Flow ID       Source IP   Source Port  \\\n",
       "90    203.205.158.60-10.42.0.211-80-48574-6  203.205.158.60            80   \n",
       "94    10.42.0.211-111.206.25.159-33521-80-6  111.206.25.159            80   \n",
       "438   10.42.0.211-106.39.169.66-38659-443-6     10.42.0.211         38659   \n",
       "475    10.42.0.211-119.146.74.34-36805-80-6   119.146.74.34            80   \n",
       "476    10.42.0.211-119.146.74.48-33523-80-6   119.146.74.48            80   \n",
       "..                                      ...             ...           ...   \n",
       "406   10.42.0.211-118.178.143.65-50070-80-6     10.42.0.211         50070   \n",
       "407    140.205.61.26-10.42.0.211-80-47648-6     10.42.0.211         47648   \n",
       "408    140.205.61.26-10.42.0.211-80-47648-6     10.42.0.211         47648   \n",
       "409   10.42.0.211-121.41.62.82-44183-1088-6     10.42.0.211         44183   \n",
       "410  10.42.0.211-101.37.105.10-48779-6880-6     10.42.0.211         48779   \n",
       "\n",
       "     Destination IP   Destination Port   Protocol            Timestamp  \\\n",
       "90      10.42.0.211            48574.0        6.0  27/06/2017 02:23:49   \n",
       "94      10.42.0.211            33521.0        6.0  27/06/2017 02:23:49   \n",
       "438   106.39.169.66              443.0        6.0  27/06/2017 02:29:27   \n",
       "475     10.42.0.211            36805.0        6.0  27/06/2017 02:29:30   \n",
       "476     10.42.0.211            33523.0        6.0  27/06/2017 02:29:30   \n",
       "..              ...                ...        ...                  ...   \n",
       "406  118.178.143.65               80.0        6.0  30/06/2017 02:48:06   \n",
       "407   140.205.61.26               80.0        6.0  30/06/2017 02:48:17   \n",
       "408   140.205.61.26               80.0        6.0  30/06/2017 02:48:18   \n",
       "409    121.41.62.82             1088.0        6.0  30/06/2017 02:48:17   \n",
       "410   101.37.105.10             6880.0        6.0  30/06/2017 02:48:21   \n",
       "\n",
       "      Flow Duration   Total Fwd Packets   Total Backward Packets  ...  \\\n",
       "90                4                   2                        0  ...   \n",
       "94                8                   2                        0  ...   \n",
       "438               5                   2                        0  ...   \n",
       "475              10                   2                        0  ...   \n",
       "476               8                   2                        0  ...   \n",
       "..              ...                 ...                      ...  ...   \n",
       "406         8769698                   4                        4  ...   \n",
       "407          892843                   5                        6  ...   \n",
       "408             109                   2                        0  ...   \n",
       "409        12192623                   2                        0  ...   \n",
       "410        16057007                   2                        0  ...   \n",
       "\n",
       "      min_seg_size_forward  Active Mean   Active Std   Active Max  \\\n",
       "90                    32.0          0.0          0.0          0.0   \n",
       "94                    20.0          0.0          0.0          0.0   \n",
       "438                   20.0          0.0          0.0          0.0   \n",
       "475                   20.0          0.0          0.0          0.0   \n",
       "476                   20.0          0.0          0.0          0.0   \n",
       "..                     ...          ...          ...          ...   \n",
       "406                   32.0          0.0          0.0          0.0   \n",
       "407                   20.0          0.0          0.0          0.0   \n",
       "408                   20.0          0.0          0.0          0.0   \n",
       "409                   32.0          0.0          0.0          0.0   \n",
       "410                   20.0          0.0          0.0          0.0   \n",
       "\n",
       "      Active Min  Idle Mean   Idle Std   Idle Max   Idle Min  \\\n",
       "90           0.0        0.0        0.0        0.0        0.0   \n",
       "94           0.0        0.0        0.0        0.0        0.0   \n",
       "438          0.0        0.0        0.0        0.0        0.0   \n",
       "475          0.0        0.0        0.0        0.0        0.0   \n",
       "476          0.0        0.0        0.0        0.0        0.0   \n",
       "..           ...        ...        ...        ...        ...   \n",
       "406          0.0        0.0        0.0        0.0        0.0   \n",
       "407          0.0        0.0        0.0        0.0        0.0   \n",
       "408          0.0        0.0        0.0        0.0        0.0   \n",
       "409          0.0        0.0        0.0        0.0        0.0   \n",
       "410          0.0        0.0        0.0        0.0        0.0   \n",
       "\n",
       "                   Label  \n",
       "90     Android_Scareware  \n",
       "94     Android_Scareware  \n",
       "438    Android_Scareware  \n",
       "475    Android_Scareware  \n",
       "476    Android_Scareware  \n",
       "..                   ...  \n",
       "406  Android_SMS_Malware  \n",
       "407  Android_SMS_Malware  \n",
       "408  Android_SMS_Malware  \n",
       "409  Android_SMS_Malware  \n",
       "410  Android_SMS_Malware  \n",
       "\n",
       "[2885 rows x 85 columns]"
      ]
     },
     "execution_count": 84,
     "metadata": {},
     "output_type": "execute_result"
    }
   ],
   "source": [
    "data[data.duplicated()]"
   ]
  },
  {
   "cell_type": "code",
   "execution_count": 85,
   "metadata": {},
   "outputs": [],
   "source": [
    "data = data.drop_duplicates()"
   ]
  },
  {
   "cell_type": "markdown",
   "metadata": {},
   "source": [
    "### Data Sparcity checks"
   ]
  },
  {
   "cell_type": "code",
   "execution_count": 86,
   "metadata": {},
   "outputs": [
    {
     "data": {
      "text/plain": [
       "Index([' ECE Flag Count', ' Fwd Avg Packets/Bulk', ' Fwd Avg Bulk Rate',\n",
       "       ' Bwd Avg Bytes/Bulk', ' Bwd Avg Packets/Bulk', 'Bwd Avg Bulk Rate'],\n",
       "      dtype='object')"
      ]
     },
     "execution_count": 86,
     "metadata": {},
     "output_type": "execute_result"
    }
   ],
   "source": [
    "# If a column has only one unique value, it essentially does nothing from an ML standpoint and should be removed\n",
    "data.columns[data.nunique()==1]"
   ]
  },
  {
   "cell_type": "code",
   "execution_count": 87,
   "metadata": {},
   "outputs": [],
   "source": [
    "# We drop the above columns from the data here\n",
    "data = data.drop(columns=data.columns[data.nunique()==1])"
   ]
  },
  {
   "cell_type": "code",
   "execution_count": 88,
   "metadata": {},
   "outputs": [
    {
     "data": {
      "text/plain": [
       "Flow ID              50.165133\n",
       " Source IP            0.718933\n",
       " Source Port         14.555274\n",
       " Destination IP       1.345448\n",
       " Destination Port     5.502275\n",
       "                       ...    \n",
       "Idle Mean            11.289458\n",
       " Idle Std             2.519384\n",
       " Idle Max            11.279820\n",
       " Idle Min            11.278402\n",
       "Label                 0.001134\n",
       "Length: 79, dtype: float64"
      ]
     },
     "execution_count": 88,
     "metadata": {},
     "output_type": "execute_result"
    }
   ],
   "source": [
    "# Percentage of each row that is unique\n",
    "# Difficult to use this as a method of filtering based on the size of our data, as we see a lot of our categorical features have very low values\n",
    "data.nunique()/len(data)*100"
   ]
  },
  {
   "cell_type": "markdown",
   "metadata": {},
   "source": [
    "We can use a variance threshold to take care of numerical features that are highly sparse. This can be visualized by plotting change in selected features vs variance threshold, as we do below"
   ]
  },
  {
   "cell_type": "code",
   "execution_count": null,
   "metadata": {},
   "outputs": [
    {
     "name": "stdout",
     "output_type": "stream",
     "text": [
      "\n",
      "Threshold=0.00, Features=85\n",
      "\n",
      "Threshold=0.05, Features=77\n",
      "\n",
      "Threshold=0.10, Features=74\n",
      "\n",
      "Threshold=0.15, Features=74\n",
      "\n",
      "Threshold=0.20, Features=72\n",
      "\n",
      "Threshold=0.25, Features=68\n",
      "\n",
      "Threshold=0.30, Features=68\n",
      "\n",
      "Threshold=0.35, Features=68\n",
      "\n",
      "Threshold=0.40, Features=68\n",
      "\n",
      "Threshold=0.45, Features=67\n"
     ]
    },
    {
     "data": {
      "text/html": [
       "\n",
       "<div id=\"altair-viz-8650dbb0606947529a77a219c33ba629\"></div>\n",
       "<script type=\"text/javascript\">\n",
       "  var VEGA_DEBUG = (typeof VEGA_DEBUG == \"undefined\") ? {} : VEGA_DEBUG;\n",
       "  (function(spec, embedOpt){\n",
       "    let outputDiv = document.currentScript.previousElementSibling;\n",
       "    if (outputDiv.id !== \"altair-viz-8650dbb0606947529a77a219c33ba629\") {\n",
       "      outputDiv = document.getElementById(\"altair-viz-8650dbb0606947529a77a219c33ba629\");\n",
       "    }\n",
       "    const paths = {\n",
       "      \"vega\": \"https://cdn.jsdelivr.net/npm//vega@5?noext\",\n",
       "      \"vega-lib\": \"https://cdn.jsdelivr.net/npm//vega-lib?noext\",\n",
       "      \"vega-lite\": \"https://cdn.jsdelivr.net/npm//vega-lite@4.17.0?noext\",\n",
       "      \"vega-embed\": \"https://cdn.jsdelivr.net/npm//vega-embed@6?noext\",\n",
       "    };\n",
       "\n",
       "    function maybeLoadScript(lib, version) {\n",
       "      var key = `${lib.replace(\"-\", \"\")}_version`;\n",
       "      return (VEGA_DEBUG[key] == version) ?\n",
       "        Promise.resolve(paths[lib]) :\n",
       "        new Promise(function(resolve, reject) {\n",
       "          var s = document.createElement('script');\n",
       "          document.getElementsByTagName(\"head\")[0].appendChild(s);\n",
       "          s.async = true;\n",
       "          s.onload = () => {\n",
       "            VEGA_DEBUG[key] = version;\n",
       "            return resolve(paths[lib]);\n",
       "          };\n",
       "          s.onerror = () => reject(`Error loading script: ${paths[lib]}`);\n",
       "          s.src = paths[lib];\n",
       "        });\n",
       "    }\n",
       "\n",
       "    function showError(err) {\n",
       "      outputDiv.innerHTML = `<div class=\"error\" style=\"color:red;\">${err}</div>`;\n",
       "      throw err;\n",
       "    }\n",
       "\n",
       "    function displayChart(vegaEmbed) {\n",
       "      vegaEmbed(outputDiv, spec, embedOpt)\n",
       "        .catch(err => showError(`Javascript Error: ${err.message}<br>This usually means there's a typo in your chart specification. See the javascript console for the full traceback.`));\n",
       "    }\n",
       "\n",
       "    if(typeof define === \"function\" && define.amd) {\n",
       "      requirejs.config({paths});\n",
       "      require([\"vega-embed\"], displayChart, err => showError(`Error loading script: ${err.message}`));\n",
       "    } else {\n",
       "      maybeLoadScript(\"vega\", \"5\")\n",
       "        .then(() => maybeLoadScript(\"vega-lite\", \"4.17.0\"))\n",
       "        .then(() => maybeLoadScript(\"vega-embed\", \"6\"))\n",
       "        .catch(showError)\n",
       "        .then(() => displayChart(vegaEmbed));\n",
       "    }\n",
       "  })({\"config\": {\"view\": {\"continuousWidth\": 400, \"continuousHeight\": 300}}, \"data\": {\"name\": \"data-78ae24cb509995865a79fca63bce86d5\"}, \"mark\": \"line\", \"encoding\": {\"x\": {\"field\": \"threshold\", \"type\": \"quantitative\"}, \"y\": {\"field\": \"n_features\", \"type\": \"quantitative\"}}, \"$schema\": \"https://vega.github.io/schema/vega-lite/v4.17.0.json\", \"datasets\": {\"data-78ae24cb509995865a79fca63bce86d5\": [{\"threshold\": 0.0, \"n_features\": 85}, {\"threshold\": 0.05, \"n_features\": 77}, {\"threshold\": 0.1, \"n_features\": 74}, {\"threshold\": 0.15000000000000002, \"n_features\": 74}, {\"threshold\": 0.2, \"n_features\": 72}, {\"threshold\": 0.25, \"n_features\": 68}, {\"threshold\": 0.30000000000000004, \"n_features\": 68}, {\"threshold\": 0.35000000000000003, \"n_features\": 68}, {\"threshold\": 0.4, \"n_features\": 68}, {\"threshold\": 0.45, \"n_features\": 67}]}}, {\"mode\": \"vega-lite\"});\n",
       "</script>"
      ],
      "text/plain": [
       "alt.Chart(...)"
      ]
     },
     "metadata": {},
     "output_type": "display_data"
    }
   ],
   "source": [
    "from sklearn.feature_selection import VarianceThreshold\n",
    "\n",
    "data_num = data.select_dtypes(exclude='object')\n",
    "\n",
    "x_eda = data_num.iloc[:, :-1] # Take until the last column\n",
    "y_eda = data_num.iloc[:, -1] # Take the last column\n",
    "\n",
    "transform = VarianceThreshold()\n",
    "\n",
    "variance_thresholds = np.arange(start=0.0, stop=0.5, step=0.05)\n",
    "\n",
    "results = []\n",
    "\n",
    "for t in variance_thresholds:\n",
    "    \n",
    "    transform = VarianceThreshold(threshold=t)\n",
    "    \n",
    "    X_sel = transform.fit_transform(x_eda)\n",
    "    print()\n",
    "    rows, cols = X_sel.shape\n",
    "    n_features = cols\n",
    "    print('Threshold=%.2f, Features=%d' % (t, n_features))\n",
    "    \n",
    "    results.append(n_features)\n",
    "    \n",
    "d2 = pd.DataFrame({'threshold': variance_thresholds, 'n_features': results})\n",
    "alt.Chart(d2).mark_line().encode(\n",
    "    x='threshold',\n",
    "    y='n_features')"
   ]
  },
  {
   "cell_type": "markdown",
   "metadata": {},
   "source": [
    "Using a variance threshold to filter features does not do much to narrow things down in this case, focusing on only our numerical features. As stated above, we need to use a different approach to deal with sparse categorical features"
   ]
  },
  {
   "cell_type": "markdown",
   "metadata": {},
   "source": [
    "## Non-numerical Data Analysis\n",
    "\n",
    "Much of our data seems to be numerical, but there are a few columns that are not numerical. Additionally, just looking at a glance, there are some columns that are numerical but cannot actually be interpreted as ordinal data (Destination Port, for example). Both of these have to be dealt with in different ways.\n",
    "\n",
    "first of all, lets look at our object columns"
   ]
  },
  {
   "cell_type": "code",
   "execution_count": 89,
   "metadata": {},
   "outputs": [
    {
     "data": {
      "text/html": [
       "<div>\n",
       "<style scoped>\n",
       "    .dataframe tbody tr th:only-of-type {\n",
       "        vertical-align: middle;\n",
       "    }\n",
       "\n",
       "    .dataframe tbody tr th {\n",
       "        vertical-align: top;\n",
       "    }\n",
       "\n",
       "    .dataframe thead th {\n",
       "        text-align: right;\n",
       "    }\n",
       "</style>\n",
       "<table border=\"1\" class=\"dataframe\">\n",
       "  <thead>\n",
       "    <tr style=\"text-align: right;\">\n",
       "      <th></th>\n",
       "      <th>Flow ID</th>\n",
       "      <th>Source IP</th>\n",
       "      <th>Destination IP</th>\n",
       "      <th>Timestamp</th>\n",
       "      <th>CWE Flag Count</th>\n",
       "      <th>Down/Up Ratio</th>\n",
       "      <th>Fwd Avg Bytes/Bulk</th>\n",
       "      <th>Label</th>\n",
       "    </tr>\n",
       "  </thead>\n",
       "  <tbody>\n",
       "    <tr>\n",
       "      <th>0</th>\n",
       "      <td>172.217.6.202-10.42.0.211-443-50004-6</td>\n",
       "      <td>10.42.0.211</td>\n",
       "      <td>172.217.6.202</td>\n",
       "      <td>13/06/2017 11:52:39</td>\n",
       "      <td>0</td>\n",
       "      <td>1.0</td>\n",
       "      <td>0</td>\n",
       "      <td>Android_Adware</td>\n",
       "    </tr>\n",
       "    <tr>\n",
       "      <th>1</th>\n",
       "      <td>172.217.6.202-10.42.0.211-443-35455-6</td>\n",
       "      <td>10.42.0.211</td>\n",
       "      <td>172.217.6.202</td>\n",
       "      <td>13/06/2017 11:52:39</td>\n",
       "      <td>0</td>\n",
       "      <td>1.0</td>\n",
       "      <td>0</td>\n",
       "      <td>Android_Adware</td>\n",
       "    </tr>\n",
       "    <tr>\n",
       "      <th>2</th>\n",
       "      <td>131.253.61.68-10.42.0.211-443-51775-6</td>\n",
       "      <td>10.42.0.211</td>\n",
       "      <td>131.253.61.68</td>\n",
       "      <td>13/06/2017 11:52:42</td>\n",
       "      <td>0</td>\n",
       "      <td>1.0</td>\n",
       "      <td>0</td>\n",
       "      <td>Android_Adware</td>\n",
       "    </tr>\n",
       "    <tr>\n",
       "      <th>3</th>\n",
       "      <td>131.253.61.68-10.42.0.211-443-51775-6</td>\n",
       "      <td>10.42.0.211</td>\n",
       "      <td>131.253.61.68</td>\n",
       "      <td>13/06/2017 11:52:43</td>\n",
       "      <td>0</td>\n",
       "      <td>0.0</td>\n",
       "      <td>0</td>\n",
       "      <td>Android_Adware</td>\n",
       "    </tr>\n",
       "    <tr>\n",
       "      <th>4</th>\n",
       "      <td>131.253.61.68-10.42.0.211-443-51776-6</td>\n",
       "      <td>10.42.0.211</td>\n",
       "      <td>131.253.61.68</td>\n",
       "      <td>13/06/2017 11:52:42</td>\n",
       "      <td>0</td>\n",
       "      <td>0.0</td>\n",
       "      <td>0</td>\n",
       "      <td>Android_Adware</td>\n",
       "    </tr>\n",
       "    <tr>\n",
       "      <th>...</th>\n",
       "      <td>...</td>\n",
       "      <td>...</td>\n",
       "      <td>...</td>\n",
       "      <td>...</td>\n",
       "      <td>...</td>\n",
       "      <td>...</td>\n",
       "      <td>...</td>\n",
       "      <td>...</td>\n",
       "    </tr>\n",
       "    <tr>\n",
       "      <th>405</th>\n",
       "      <td>172.217.7.14-10.42.0.211-80-38405-6</td>\n",
       "      <td>172.217.7.14</td>\n",
       "      <td>10.42.0.211</td>\n",
       "      <td>17/06/2017 01:29:11</td>\n",
       "      <td>0</td>\n",
       "      <td>1.0</td>\n",
       "      <td>0</td>\n",
       "      <td>Benign</td>\n",
       "    </tr>\n",
       "    <tr>\n",
       "      <th>406</th>\n",
       "      <td>10.42.0.211-10.42.0.1-7632-53-17</td>\n",
       "      <td>10.42.0.211</td>\n",
       "      <td>10.42.0.1</td>\n",
       "      <td>17/06/2017 01:30:33</td>\n",
       "      <td>0</td>\n",
       "      <td>1.0</td>\n",
       "      <td>0</td>\n",
       "      <td>Benign</td>\n",
       "    </tr>\n",
       "    <tr>\n",
       "      <th>407</th>\n",
       "      <td>10.42.0.211-104.192.110.245-45970-443-6</td>\n",
       "      <td>10.42.0.211</td>\n",
       "      <td>104.192.110.245</td>\n",
       "      <td>17/06/2017 01:29:45</td>\n",
       "      <td>0</td>\n",
       "      <td>0.0</td>\n",
       "      <td>0</td>\n",
       "      <td>Benign</td>\n",
       "    </tr>\n",
       "    <tr>\n",
       "      <th>408</th>\n",
       "      <td>10.42.0.211-10.42.0.1-51982-53-17</td>\n",
       "      <td>10.42.0.211</td>\n",
       "      <td>10.42.0.1</td>\n",
       "      <td>17/06/2017 01:29:45</td>\n",
       "      <td>0</td>\n",
       "      <td>1.0</td>\n",
       "      <td>0</td>\n",
       "      <td>Benign</td>\n",
       "    </tr>\n",
       "    <tr>\n",
       "      <th>409</th>\n",
       "      <td>10.42.0.211-10.42.0.1-9320-53-17</td>\n",
       "      <td>10.42.0.211</td>\n",
       "      <td>10.42.0.1</td>\n",
       "      <td>17/06/2017 01:30:33</td>\n",
       "      <td>0</td>\n",
       "      <td>1.0</td>\n",
       "      <td>0</td>\n",
       "      <td>Benign</td>\n",
       "    </tr>\n",
       "  </tbody>\n",
       "</table>\n",
       "<p>352745 rows × 8 columns</p>\n",
       "</div>"
      ],
      "text/plain": [
       "                                     Flow ID     Source IP   Destination IP  \\\n",
       "0      172.217.6.202-10.42.0.211-443-50004-6   10.42.0.211    172.217.6.202   \n",
       "1      172.217.6.202-10.42.0.211-443-35455-6   10.42.0.211    172.217.6.202   \n",
       "2      131.253.61.68-10.42.0.211-443-51775-6   10.42.0.211    131.253.61.68   \n",
       "3      131.253.61.68-10.42.0.211-443-51775-6   10.42.0.211    131.253.61.68   \n",
       "4      131.253.61.68-10.42.0.211-443-51776-6   10.42.0.211    131.253.61.68   \n",
       "..                                       ...           ...              ...   \n",
       "405      172.217.7.14-10.42.0.211-80-38405-6  172.217.7.14      10.42.0.211   \n",
       "406         10.42.0.211-10.42.0.1-7632-53-17   10.42.0.211        10.42.0.1   \n",
       "407  10.42.0.211-104.192.110.245-45970-443-6   10.42.0.211  104.192.110.245   \n",
       "408        10.42.0.211-10.42.0.1-51982-53-17   10.42.0.211        10.42.0.1   \n",
       "409         10.42.0.211-10.42.0.1-9320-53-17   10.42.0.211        10.42.0.1   \n",
       "\n",
       "               Timestamp  CWE Flag Count  Down/Up Ratio Fwd Avg Bytes/Bulk  \\\n",
       "0    13/06/2017 11:52:39               0            1.0                  0   \n",
       "1    13/06/2017 11:52:39               0            1.0                  0   \n",
       "2    13/06/2017 11:52:42               0            1.0                  0   \n",
       "3    13/06/2017 11:52:43               0            0.0                  0   \n",
       "4    13/06/2017 11:52:42               0            0.0                  0   \n",
       "..                   ...             ...            ...                ...   \n",
       "405  17/06/2017 01:29:11               0            1.0                  0   \n",
       "406  17/06/2017 01:30:33               0            1.0                  0   \n",
       "407  17/06/2017 01:29:45               0            0.0                  0   \n",
       "408  17/06/2017 01:29:45               0            1.0                  0   \n",
       "409  17/06/2017 01:30:33               0            1.0                  0   \n",
       "\n",
       "              Label  \n",
       "0    Android_Adware  \n",
       "1    Android_Adware  \n",
       "2    Android_Adware  \n",
       "3    Android_Adware  \n",
       "4    Android_Adware  \n",
       "..              ...  \n",
       "405          Benign  \n",
       "406          Benign  \n",
       "407          Benign  \n",
       "408          Benign  \n",
       "409          Benign  \n",
       "\n",
       "[352745 rows x 8 columns]"
      ]
     },
     "execution_count": 89,
     "metadata": {},
     "output_type": "execute_result"
    }
   ],
   "source": [
    "data.select_dtypes(include='object')"
   ]
  },
  {
   "cell_type": "markdown",
   "metadata": {},
   "source": [
    "### Dealing with object cols that should be numerical"
   ]
  },
  {
   "cell_type": "markdown",
   "metadata": {},
   "source": [
    "Here we can already see that there are a few columns that don't seem to belong here, namely `CWE Flag Count`, `Down/Up Ratio`, and `Fwd Avg Bytes/Bulk`\n"
   ]
  },
  {
   "cell_type": "code",
   "execution_count": 90,
   "metadata": {},
   "outputs": [
    {
     "data": {
      "text/plain": [
       "array([0, nan, '0', 'SCAREWARE'], dtype=object)"
      ]
     },
     "execution_count": 90,
     "metadata": {},
     "output_type": "execute_result"
    }
   ],
   "source": [
    "# this column seems to encode 0 in a few different ways and also has a seperate SCAREWARE label that does not make sense in this context\n",
    "# We have no real way to clean this, so it should be dropped\n",
    "data[' CWE Flag Count'].unique()"
   ]
  },
  {
   "cell_type": "code",
   "execution_count": 91,
   "metadata": {},
   "outputs": [
    {
     "data": {
      "text/plain": [
       "array([1.0, 0.0, 2.0, 3.0, 8.0, 4.0, 5.0, 9.0, 6.0, 12.0, 7.0, 10.0, 11.0,\n",
       "       '1', '0', '7', '2', '3', '4', '11', '5', '12', '8', 'BENIGN', nan,\n",
       "       75.0], dtype=object)"
      ]
     },
     "execution_count": 91,
     "metadata": {},
     "output_type": "execute_result"
    }
   ],
   "source": [
    "# This column seems like it should be numerically interpretable, but has a few issues with the encoding. Some intergers are strings, and there is an out of place BENIGN label again\n",
    "# This can be cleaned manually\n",
    "data[' Down/Up Ratio'].unique()"
   ]
  },
  {
   "cell_type": "code",
   "execution_count": 92,
   "metadata": {},
   "outputs": [],
   "source": [
    "# cleaning Down/Up Ratio\n",
    "data.loc[data[' Down/Up Ratio'] == 'BENIGN', ' Down/Up Ratio'] = pd.NA\n",
    "data[' Down/Up Ratio'] = data[' Down/Up Ratio'].apply(lambda x: int(x) if not pd.isna(x) else pd.NA)\n",
    "data[' Down/Up Ratio'] = data[' Down/Up Ratio'].astype('Int64')"
   ]
  },
  {
   "cell_type": "code",
   "execution_count": 93,
   "metadata": {},
   "outputs": [
    {
     "data": {
      "text/plain": [
       "array([0, '0', 'BENIGN', '0.0', nan], dtype=object)"
      ]
     },
     "execution_count": 93,
     "metadata": {},
     "output_type": "execute_result"
    }
   ],
   "source": [
    "# similar to CWE Flag Count, this is just varying flavors of 0/null with an out of place BENIGN lable\n",
    "# will also be dropped\n",
    "data['Fwd Avg Bytes/Bulk'].unique()"
   ]
  },
  {
   "cell_type": "code",
   "execution_count": 94,
   "metadata": {},
   "outputs": [],
   "source": [
    "# drop the two unconvertable columns\n",
    "data = data.drop(columns=['Fwd Avg Bytes/Bulk', ' CWE Flag Count'])"
   ]
  },
  {
   "cell_type": "markdown",
   "metadata": {},
   "source": [
    "### Dealing with true object columns\n",
    "\n",
    "Now we have to deal with our non-numerical inputs, the most important of which is likely to be the IP adress of the traffic. There are many ways we can go about converting these into numerical features, but the first we will try is simply splitting at the period and encoding each section as a different numerical column. Even these seperate components cannot be interpreted in an ordinal manner, so we will likely have to have to encode them as one-hot categorical columns to treat them properly"
   ]
  },
  {
   "cell_type": "code",
   "execution_count": 95,
   "metadata": {},
   "outputs": [
    {
     "data": {
      "text/plain": [
       "0        172.217.6.202-10.42.0.211-443-50004-6\n",
       "1        172.217.6.202-10.42.0.211-443-35455-6\n",
       "2        131.253.61.68-10.42.0.211-443-51775-6\n",
       "3        131.253.61.68-10.42.0.211-443-51775-6\n",
       "4        131.253.61.68-10.42.0.211-443-51776-6\n",
       "                        ...                   \n",
       "405        172.217.7.14-10.42.0.211-80-38405-6\n",
       "406           10.42.0.211-10.42.0.1-7632-53-17\n",
       "407    10.42.0.211-104.192.110.245-45970-443-6\n",
       "408          10.42.0.211-10.42.0.1-51982-53-17\n",
       "409           10.42.0.211-10.42.0.1-9320-53-17\n",
       "Name: Flow ID, Length: 352745, dtype: object"
      ]
     },
     "execution_count": 95,
     "metadata": {},
     "output_type": "execute_result"
    }
   ],
   "source": [
    "# Flow ID seems to be derivative of other columns and can be dropped as it adds no new information (just destination ip - source ip - timestamp)\n",
    "data['Flow ID']"
   ]
  },
  {
   "cell_type": "code",
   "execution_count": 96,
   "metadata": {},
   "outputs": [],
   "source": [
    "# dropping Flow ID\n",
    "data = data.drop(columns=['Flow ID'])"
   ]
  },
  {
   "cell_type": "code",
   "execution_count": 97,
   "metadata": {},
   "outputs": [
    {
     "data": {
      "text/html": [
       "<div>\n",
       "<style scoped>\n",
       "    .dataframe tbody tr th:only-of-type {\n",
       "        vertical-align: middle;\n",
       "    }\n",
       "\n",
       "    .dataframe tbody tr th {\n",
       "        vertical-align: top;\n",
       "    }\n",
       "\n",
       "    .dataframe thead th {\n",
       "        text-align: right;\n",
       "    }\n",
       "</style>\n",
       "<table border=\"1\" class=\"dataframe\">\n",
       "  <thead>\n",
       "    <tr style=\"text-align: right;\">\n",
       "      <th></th>\n",
       "      <th>Source IP</th>\n",
       "      <th>Source Port</th>\n",
       "      <th>Destination IP</th>\n",
       "      <th>Destination Port</th>\n",
       "      <th>Protocol</th>\n",
       "      <th>Timestamp</th>\n",
       "      <th>Flow Duration</th>\n",
       "      <th>Total Fwd Packets</th>\n",
       "      <th>Total Backward Packets</th>\n",
       "      <th>Total Length of Fwd Packets</th>\n",
       "      <th>...</th>\n",
       "      <th>min_seg_size_forward</th>\n",
       "      <th>Active Mean</th>\n",
       "      <th>Active Std</th>\n",
       "      <th>Active Max</th>\n",
       "      <th>Active Min</th>\n",
       "      <th>Idle Mean</th>\n",
       "      <th>Idle Std</th>\n",
       "      <th>Idle Max</th>\n",
       "      <th>Idle Min</th>\n",
       "      <th>Label</th>\n",
       "    </tr>\n",
       "  </thead>\n",
       "  <tbody>\n",
       "    <tr>\n",
       "      <th>2557</th>\n",
       "      <td>291380.770637023</td>\n",
       "      <td>1045267</td>\n",
       "      <td>17</td>\n",
       "      <td>1.328159e+06</td>\n",
       "      <td>442719.666667</td>\n",
       "      <td>534188.743461834</td>\n",
       "      <td>1045267</td>\n",
       "      <td>27165</td>\n",
       "      <td>1319105</td>\n",
       "      <td>146567.222222</td>\n",
       "      <td>...</td>\n",
       "      <td>NaN</td>\n",
       "      <td>NaN</td>\n",
       "      <td>NaN</td>\n",
       "      <td>NaN</td>\n",
       "      <td>NaN</td>\n",
       "      <td>NaN</td>\n",
       "      <td>NaN</td>\n",
       "      <td>NaN</td>\n",
       "      <td>NaN</td>\n",
       "      <td>Android_Scareware</td>\n",
       "    </tr>\n",
       "    <tr>\n",
       "      <th>2756</th>\n",
       "      <td>0</td>\n",
       "      <td>0</td>\n",
       "      <td>0</td>\n",
       "      <td>0.000000e+00</td>\n",
       "      <td>0.000000</td>\n",
       "      <td>0</td>\n",
       "      <td>0</td>\n",
       "      <td>0</td>\n",
       "      <td>0</td>\n",
       "      <td>0.000000</td>\n",
       "      <td>...</td>\n",
       "      <td>NaN</td>\n",
       "      <td>NaN</td>\n",
       "      <td>NaN</td>\n",
       "      <td>NaN</td>\n",
       "      <td>NaN</td>\n",
       "      <td>NaN</td>\n",
       "      <td>NaN</td>\n",
       "      <td>NaN</td>\n",
       "      <td>NaN</td>\n",
       "      <td>Android_SMS_Malware</td>\n",
       "    </tr>\n",
       "    <tr>\n",
       "      <th>2877</th>\n",
       "      <td>281</td>\n",
       "      <td>124560</td>\n",
       "      <td>17794.2857142857</td>\n",
       "      <td>2.884435e+04</td>\n",
       "      <td>65812.000000</td>\n",
       "      <td>3</td>\n",
       "      <td>0</td>\n",
       "      <td>0</td>\n",
       "      <td>0</td>\n",
       "      <td>0.000000</td>\n",
       "      <td>...</td>\n",
       "      <td>NaN</td>\n",
       "      <td>NaN</td>\n",
       "      <td>NaN</td>\n",
       "      <td>NaN</td>\n",
       "      <td>NaN</td>\n",
       "      <td>NaN</td>\n",
       "      <td>NaN</td>\n",
       "      <td>NaN</td>\n",
       "      <td>NaN</td>\n",
       "      <td>Android_SMS_Malware</td>\n",
       "    </tr>\n",
       "  </tbody>\n",
       "</table>\n",
       "<p>3 rows × 76 columns</p>\n",
       "</div>"
      ],
      "text/plain": [
       "             Source IP   Source Port    Destination IP   Destination Port  \\\n",
       "2557  291380.770637023       1045267                17       1.328159e+06   \n",
       "2756                 0             0                 0       0.000000e+00   \n",
       "2877               281        124560  17794.2857142857       2.884435e+04   \n",
       "\n",
       "           Protocol         Timestamp   Flow Duration   Total Fwd Packets  \\\n",
       "2557  442719.666667  534188.743461834         1045267               27165   \n",
       "2756       0.000000                 0               0                   0   \n",
       "2877   65812.000000                 3               0                   0   \n",
       "\n",
       "       Total Backward Packets  Total Length of Fwd Packets  ...  \\\n",
       "2557                  1319105                146567.222222  ...   \n",
       "2756                        0                     0.000000  ...   \n",
       "2877                        0                     0.000000  ...   \n",
       "\n",
       "       min_seg_size_forward  Active Mean   Active Std   Active Max  \\\n",
       "2557                    NaN          NaN          NaN          NaN   \n",
       "2756                    NaN          NaN          NaN          NaN   \n",
       "2877                    NaN          NaN          NaN          NaN   \n",
       "\n",
       "       Active Min  Idle Mean   Idle Std   Idle Max   Idle Min  \\\n",
       "2557          NaN        NaN        NaN        NaN        NaN   \n",
       "2756          NaN        NaN        NaN        NaN        NaN   \n",
       "2877          NaN        NaN        NaN        NaN        NaN   \n",
       "\n",
       "                    Label  \n",
       "2557    Android_Scareware  \n",
       "2756  Android_SMS_Malware  \n",
       "2877  Android_SMS_Malware  \n",
       "\n",
       "[3 rows x 76 columns]"
      ]
     },
     "execution_count": 97,
     "metadata": {},
     "output_type": "execute_result"
    }
   ],
   "source": [
    "# these rows are very broken\n",
    "data[data[' Source IP'].str.count('\\.') < 3]"
   ]
  },
  {
   "cell_type": "code",
   "execution_count": 98,
   "metadata": {},
   "outputs": [
    {
     "data": {
      "text/plain": [
       "Int64Index([2557, 2756, 2877], dtype='int64')"
      ]
     },
     "execution_count": 98,
     "metadata": {},
     "output_type": "execute_result"
    }
   ],
   "source": [
    "data[data[\" Source IP\"].str.count(\"\\.\") < 3].index\n"
   ]
  },
  {
   "cell_type": "code",
   "execution_count": 99,
   "metadata": {},
   "outputs": [
    {
     "data": {
      "text/plain": [
       "Int64Index([2557, 2756, 2877], dtype='int64')"
      ]
     },
     "execution_count": 99,
     "metadata": {},
     "output_type": "execute_result"
    }
   ],
   "source": [
    "data[data[\" Destination IP\"].str.count(\"\\.\") < 3].index\n"
   ]
  },
  {
   "cell_type": "code",
   "execution_count": 100,
   "metadata": {},
   "outputs": [],
   "source": [
    "data = data.drop(labels=data[data[\" Source IP\"].str.count(\"\\.\") < 3].index, axis=0)\n"
   ]
  },
  {
   "cell_type": "code",
   "execution_count": 101,
   "metadata": {},
   "outputs": [],
   "source": [
    "data[[\"source_ip_1\", \"source_ip_2\", \"source_ip_3\", \"source_ip_4\"]] = data[\n",
    "    \" Source IP\"\n",
    "].str.split(\".\", expand=True)\n"
   ]
  },
  {
   "cell_type": "code",
   "execution_count": 102,
   "metadata": {},
   "outputs": [],
   "source": [
    "data[\n",
    "    [\"destination_ip_1\", \"destination_ip_2\", \"destination_ip_3\", \"destination_ip_4\"]\n",
    "] = data[\" Destination IP\"].str.split(\".\", expand=True)\n"
   ]
  },
  {
   "cell_type": "code",
   "execution_count": 103,
   "metadata": {},
   "outputs": [],
   "source": [
    "data[\n",
    "    [\n",
    "        \"destination_ip_1\",\n",
    "        \"destination_ip_2\",\n",
    "        \"destination_ip_3\",\n",
    "        \"destination_ip_4\",\n",
    "        \"source_ip_1\",\n",
    "        \"source_ip_2\",\n",
    "        \"source_ip_3\",\n",
    "        \"source_ip_4\",\n",
    "    ]\n",
    "] = data[\n",
    "    [\n",
    "        \"destination_ip_1\",\n",
    "        \"destination_ip_2\",\n",
    "        \"destination_ip_3\",\n",
    "        \"destination_ip_4\",\n",
    "        \"source_ip_1\",\n",
    "        \"source_ip_2\",\n",
    "        \"source_ip_3\",\n",
    "        \"source_ip_4\",\n",
    "    ]\n",
    "].astype(\n",
    "    \"Int32\"\n",
    ")\n",
    "\n",
    "# remove original source and destination IP categories\n",
    "data = data.drop(columns=[\" Destination IP\", \" Source IP\"])"
   ]
  },
  {
   "attachments": {},
   "cell_type": "markdown",
   "metadata": {},
   "source": [
    "### Dealing with numerical columns that should be treated as object columns (classes)\n",
    "\n",
    "There are multiple interger/float columns that cannot really be treated as ordinal data and should not be fed into the model as an interger. Things like port number should have no mathematical impact on the outcome, as they are just numerical identifiers to call out a wide variety of different ports with no real significance to the magnitude of the number (for our purposes, at least).\n",
    "\n",
    "Interestingly, out first pass of models did not remove this type of numerical data, and it turns out that destination port was consistently the most important feature for fit models. Why this is can be for multiple reasons, but it may be that the average of the port numbers is slightly lower/higher for positive samples than for other samples"
   ]
  },
  {
   "cell_type": "code",
   "execution_count": 104,
   "metadata": {},
   "outputs": [
    {
     "data": {
      "text/plain": [
       "443.0      137642\n",
       "80.0       100282\n",
       "53.0        66712\n",
       "0.0          2152\n",
       "1900.0       1756\n",
       "            ...  \n",
       "34636.0         1\n",
       "42916.0         1\n",
       "43330.0         1\n",
       "34649.0         1\n",
       "56948.0         1\n",
       "Name:  Destination Port, Length: 19397, dtype: int64"
      ]
     },
     "execution_count": 104,
     "metadata": {},
     "output_type": "execute_result"
    }
   ],
   "source": [
    "# Ideally, features like port number should be encoded as categorical information, but there might be too many values to properly do that\n",
    "data[' Destination Port'].value_counts()"
   ]
  },
  {
   "cell_type": "code",
   "execution_count": 105,
   "metadata": {},
   "outputs": [
    {
     "data": {
      "text/plain": [
       "443      19652\n",
       "80       13758\n",
       "0         2152\n",
       "60774     1502\n",
       "43477      754\n",
       "         ...  \n",
       "25975        1\n",
       "16798        1\n",
       "10258        1\n",
       "20517        1\n",
       "9320         1\n",
       "Name:  Source Port, Length: 51331, dtype: int64"
      ]
     },
     "execution_count": 105,
     "metadata": {},
     "output_type": "execute_result"
    }
   ],
   "source": [
    "data[' Source Port'].value_counts()"
   ]
  },
  {
   "attachments": {},
   "cell_type": "markdown",
   "metadata": {},
   "source": [
    "We see that there are 19397 individual values for destination port and 51331 for source port, but the majority are explained by the top 5 or so ports\n",
    "\n",
    "To encode this column, we can take these top 5 ports and turn them into one-hot categorical features, and then have a final feature for other. Alternativley, we can leave out the other feature, and just have features indicating whether or not the source/destination port is one of those top 5."
   ]
  },
  {
   "cell_type": "code",
   "execution_count": 107,
   "metadata": {},
   "outputs": [],
   "source": [
    "def convert_ports(df:pd.DataFrame, top_n_ports:int=5):\n",
    "    \"\"\"\n",
    "    Helper function to convert categorial columns to dummies using only the top n values\n",
    "    \"\"\"\n",
    "\n",
    "    top_dest_ports = df[' Destination Port'].value_counts().index[:top_n_ports]\n",
    "    top_src_ports = df[' Source Port'].value_counts().index[:top_n_ports]\n",
    "    \n",
    "    dest_ports = df[' Destination Port'].to_numpy()\n",
    "    src_ports = df[' Source Port'].to_numpy()\n",
    "\n",
    "    port_dummies = {}\n",
    "    for port in top_dest_ports:\n",
    "        col = np.array(dest_ports == port, dtype=int)\n",
    "        port_dummies[f'destination_port_{port}'] = col\n",
    "\n",
    "    for port in top_src_ports:\n",
    "        col = np.array(src_ports == port, dtype=int)\n",
    "        port_dummies[f'source_port_{port}'] = col\n",
    "\n",
    "\n",
    "    df = df.drop(columns=[' Destination Port', ' Source Port']).reset_index(drop=True)\n",
    "\n",
    "    port_dummies = pd.DataFrame(data=port_dummies)\n",
    "\n",
    "    return pd.concat([df, port_dummies], axis=1)\n",
    "\n",
    "\n",
    "data = convert_ports(data, top_n_ports=6)"
   ]
  },
  {
   "cell_type": "markdown",
   "metadata": {},
   "source": [
    "There are many rows and a few columns that are considered categoricals, so we don't want to just use the percentage of unique values per column as a deciding factor. Instead, we have to take into account the percent contribution of each unique value to each column. For example, if a column has 4 unique labels but one label takes up 99.9% of the rows, it likely does not add much modeling capability."
   ]
  },
  {
   "cell_type": "markdown",
   "metadata": {},
   "source": [
    "### Checking for outliers"
   ]
  },
  {
   "cell_type": "code",
   "execution_count": 104,
   "metadata": {},
   "outputs": [
    {
     "data": {
      "text/plain": [
       "{'whiskers': [<matplotlib.lines.Line2D at 0x2a1e8c490>,\n",
       "  <matplotlib.lines.Line2D at 0x2a1e8c730>],\n",
       " 'caps': [<matplotlib.lines.Line2D at 0x2a1e8c9d0>,\n",
       "  <matplotlib.lines.Line2D at 0x2a1e8cc70>],\n",
       " 'boxes': [<matplotlib.lines.Line2D at 0x2a1e8c1f0>],\n",
       " 'medians': [<matplotlib.lines.Line2D at 0x2a1e8cf10>],\n",
       " 'fliers': [<matplotlib.lines.Line2D at 0x2a1c761f0>],\n",
       " 'means': []}"
      ]
     },
     "execution_count": 104,
     "metadata": {},
     "output_type": "execute_result"
    },
    {
     "data": {
      "image/png": "[encoded data removed]",
      "text/plain": [
       "<Figure size 640x480 with 1 Axes>"
      ]
     },
     "metadata": {},
     "output_type": "display_data"
    }
   ],
   "source": [
    "plt.boxplot(data[' Total Backward Packets'])"
   ]
  },
  {
   "cell_type": "code",
   "execution_count": 105,
   "metadata": {},
   "outputs": [
    {
     "data": {
      "text/plain": [
       "{'whiskers': [<matplotlib.lines.Line2D at 0x2a111f2b0>,\n",
       "  <matplotlib.lines.Line2D at 0x2a111f550>],\n",
       " 'caps': [<matplotlib.lines.Line2D at 0x2a111f7f0>,\n",
       "  <matplotlib.lines.Line2D at 0x2a111fa90>],\n",
       " 'boxes': [<matplotlib.lines.Line2D at 0x295194970>],\n",
       " 'medians': [<matplotlib.lines.Line2D at 0x2a111fd30>],\n",
       " 'fliers': [<matplotlib.lines.Line2D at 0x2a111ffd0>],\n",
       " 'means': []}"
      ]
     },
     "execution_count": 105,
     "metadata": {},
     "output_type": "execute_result"
    },
    {
     "data": {
      "image/png": "[encoded data removed]",
      "text/plain": [
       "<Figure size 640x480 with 1 Axes>"
      ]
     },
     "metadata": {},
     "output_type": "display_data"
    }
   ],
   "source": [
    "plt.boxplot(data[' Fwd Packet Length Max'])"
   ]
  },
  {
   "cell_type": "code",
   "execution_count": 106,
   "metadata": {},
   "outputs": [],
   "source": [
    "def count_outliers(data):\n",
    "    q25, q75 = np.percentile(data, 25), np.percentile(data, 75)\n",
    "    iqr = q75 - q25\n",
    "    cut_off = iqr * 1.5\n",
    "    lower, upper = q25 - cut_off, q75 + cut_off\n",
    "    outliers = [x for x in data if x < lower or x > upper]\n",
    "    return len(outliers)"
   ]
  },
  {
   "cell_type": "code",
   "execution_count": 107,
   "metadata": {},
   "outputs": [
    {
     "data": {
      "text/plain": [
       "27599"
      ]
     },
     "execution_count": 107,
     "metadata": {},
     "output_type": "execute_result"
    }
   ],
   "source": [
    "count_outliers(data[' Fwd Packet Length Max'])"
   ]
  },
  {
   "cell_type": "code",
   "execution_count": 108,
   "metadata": {},
   "outputs": [
    {
     "name": "stdout",
     "output_type": "stream",
     "text": [
      " Source Port : 44815\n",
      " Destination Port : 45145\n",
      " Protocol : 78242\n",
      " Flow Duration : 48201\n",
      " Total Fwd Packets : 37345\n",
      " Total Backward Packets : 40308\n",
      "Total Length of Fwd Packets : 47030\n",
      " Total Length of Bwd Packets : 74677\n",
      " Fwd Packet Length Max : 27599\n",
      " Fwd Packet Length Min : 10512\n",
      " Fwd Packet Length Mean : 43507\n",
      " Fwd Packet Length Std : 41325\n",
      "Bwd Packet Length Max : 69755\n",
      " Bwd Packet Length Min : 75559\n",
      " Bwd Packet Length Mean : 57762\n",
      " Bwd Packet Length Std : 70389\n",
      "Flow Bytes/s : 56932\n",
      " Flow Packets/s : 62316\n",
      " Flow IAT Mean : 47596\n",
      " Flow IAT Std : 64893\n",
      " Flow IAT Max : 47032\n",
      " Flow IAT Min : 65301\n",
      "Fwd IAT Total : 51998\n",
      " Fwd IAT Mean : 58966\n",
      " Fwd IAT Std : 70020\n",
      " Fwd IAT Max : 55286\n",
      " Fwd IAT Min : 76096\n",
      "Bwd IAT Total : 65918\n",
      " Bwd IAT Mean : 70491\n",
      " Bwd IAT Std : 70741\n",
      " Bwd IAT Max : 64875\n",
      " Bwd IAT Min : 65251\n",
      "Fwd PSH Flags : 23024\n",
      " Fwd Header Length : 49899\n",
      " Bwd Header Length : 45385\n",
      "Fwd Packets/s : 62987\n",
      "source_ip_1 : 36650\n",
      "source_ip_2 : 36650\n",
      "source_ip_3 : 33919\n",
      "source_ip_4 : 31373\n"
     ]
    }
   ],
   "source": [
    "for i in range(len(data.columns)):\n",
    "    try:\n",
    "        if count_outliers(data.iloc[:,i])>0:\n",
    "            print(data.columns[i],\":\",count_outliers(data.iloc[:,i]))\n",
    "    except:\n",
    "        continue"
   ]
  },
  {
   "cell_type": "code",
   "execution_count": 109,
   "metadata": {},
   "outputs": [
    {
     "data": {
      "text/plain": [
       "Android_Adware         147351\n",
       "Android_Scareware      116989\n",
       "Android_SMS_Malware     64492\n",
       "Benign                  23708\n",
       "Name: Label, dtype: int64"
      ]
     },
     "execution_count": 109,
     "metadata": {},
     "output_type": "execute_result"
    }
   ],
   "source": [
    "# Checking the balance of the output variable\n",
    "data['Label'].value_counts()"
   ]
  },
  {
   "cell_type": "code",
   "execution_count": 110,
   "metadata": {},
   "outputs": [
    {
     "data": {
      "text/plain": [
       " Bwd Packets/s              1\n",
       " Min Packet Length          1\n",
       " Max Packet Length          1\n",
       " Packet Length Mean         1\n",
       " Packet Length Std          1\n",
       " Packet Length Variance     1\n",
       "FIN Flag Count              1\n",
       " SYN Flag Count             1\n",
       " RST Flag Count             1\n",
       " PSH Flag Count             1\n",
       " ACK Flag Count             1\n",
       " URG Flag Count             1\n",
       " Down/Up Ratio              1\n",
       " Average Packet Size        1\n",
       " Avg Fwd Segment Size       1\n",
       " Avg Bwd Segment Size       1\n",
       " Fwd Header Length.1        1\n",
       "Subflow Fwd Packets         1\n",
       " Subflow Fwd Bytes          1\n",
       " Subflow Bwd Packets        1\n",
       " Subflow Bwd Bytes          1\n",
       "Init_Win_bytes_forward      1\n",
       " Init_Win_bytes_backward    1\n",
       " act_data_pkt_fwd           1\n",
       " min_seg_size_forward       1\n",
       "Active Mean                 1\n",
       " Active Std                 1\n",
       " Active Max                 1\n",
       " Active Min                 1\n",
       "Idle Mean                   1\n",
       " Idle Std                   1\n",
       " Idle Max                   1\n",
       " Idle Min                   1\n",
       "dtype: int64"
      ]
     },
     "execution_count": 110,
     "metadata": {},
     "output_type": "execute_result"
    }
   ],
   "source": [
    "# Finding null values per column\n",
    "data.isna().sum()[data.isna().sum() > 0]"
   ]
  },
  {
   "cell_type": "code",
   "execution_count": 111,
   "metadata": {},
   "outputs": [],
   "source": [
    "data = data.dropna()"
   ]
  },
  {
   "cell_type": "code",
   "execution_count": 112,
   "metadata": {},
   "outputs": [
    {
     "data": {
      "text/plain": [
       "[' Source Port',\n",
       " ' Destination Port',\n",
       " ' Protocol',\n",
       " ' Flow Duration',\n",
       " ' Total Fwd Packets',\n",
       " ' Total Backward Packets',\n",
       " 'Total Length of Fwd Packets',\n",
       " ' Total Length of Bwd Packets',\n",
       " ' Fwd Packet Length Max',\n",
       " ' Fwd Packet Length Min',\n",
       " ' Fwd Packet Length Mean',\n",
       " ' Fwd Packet Length Std',\n",
       " 'Bwd Packet Length Max',\n",
       " ' Bwd Packet Length Min',\n",
       " ' Bwd Packet Length Mean',\n",
       " ' Bwd Packet Length Std',\n",
       " 'Flow Bytes/s',\n",
       " ' Flow Packets/s',\n",
       " ' Flow IAT Mean',\n",
       " ' Flow IAT Std',\n",
       " ' Flow IAT Max',\n",
       " ' Flow IAT Min',\n",
       " 'Fwd IAT Total',\n",
       " ' Fwd IAT Mean',\n",
       " ' Fwd IAT Std',\n",
       " ' Fwd IAT Max',\n",
       " ' Fwd IAT Min',\n",
       " 'Bwd IAT Total',\n",
       " ' Bwd IAT Mean',\n",
       " ' Bwd IAT Std',\n",
       " ' Bwd IAT Max',\n",
       " ' Bwd IAT Min',\n",
       " 'Fwd PSH Flags',\n",
       " ' Bwd PSH Flags',\n",
       " ' Fwd URG Flags',\n",
       " ' Bwd URG Flags',\n",
       " ' Fwd Header Length',\n",
       " ' Bwd Header Length',\n",
       " 'Fwd Packets/s',\n",
       " ' Bwd Packets/s',\n",
       " ' Min Packet Length',\n",
       " ' Max Packet Length',\n",
       " ' Packet Length Mean',\n",
       " ' Packet Length Std',\n",
       " ' Packet Length Variance',\n",
       " 'FIN Flag Count',\n",
       " ' SYN Flag Count',\n",
       " ' RST Flag Count',\n",
       " ' PSH Flag Count',\n",
       " ' ACK Flag Count',\n",
       " ' URG Flag Count',\n",
       " ' Down/Up Ratio',\n",
       " ' Average Packet Size',\n",
       " ' Avg Fwd Segment Size',\n",
       " ' Avg Bwd Segment Size',\n",
       " ' Fwd Header Length.1',\n",
       " 'Subflow Fwd Packets',\n",
       " ' Subflow Fwd Bytes',\n",
       " ' Subflow Bwd Packets',\n",
       " ' Subflow Bwd Bytes',\n",
       " 'Init_Win_bytes_forward',\n",
       " ' Init_Win_bytes_backward',\n",
       " ' act_data_pkt_fwd',\n",
       " ' min_seg_size_forward',\n",
       " 'Active Mean',\n",
       " ' Active Std',\n",
       " ' Active Max',\n",
       " ' Active Min',\n",
       " 'Idle Mean',\n",
       " ' Idle Std',\n",
       " ' Idle Max',\n",
       " ' Idle Min',\n",
       " 'source_ip_1',\n",
       " 'source_ip_2',\n",
       " 'source_ip_3',\n",
       " 'source_ip_4',\n",
       " 'destination_ip_1',\n",
       " 'destination_ip_2',\n",
       " 'destination_ip_3',\n",
       " 'destination_ip_4',\n",
       " 'Label']"
      ]
     },
     "execution_count": 112,
     "metadata": {},
     "output_type": "execute_result"
    }
   ],
   "source": [
    "list(data.select_dtypes(exclude=np.dtype('object')).columns) + ['Label']"
   ]
  },
  {
   "cell_type": "code",
   "execution_count": 113,
   "metadata": {},
   "outputs": [],
   "source": [
    "from sklearn.ensemble import RandomForestClassifier\n",
    "from sklearn.model_selection import train_test_split\n",
    "from sklearn.metrics import ConfusionMatrixDisplay\n",
    "from sklearn.metrics import accuracy_score, precision_score, recall_score, f1_score, confusion_matrix\n",
    "\n",
    "\n",
    "rfc = RandomForestClassifier(n_jobs=-1, class_weight='balanced')\n",
    "\n",
    "# The data is not yet clean, so we will use just the numerical data as a worst-case-scenario baseline\n",
    "\n",
    "data_num = data[list(data.select_dtypes(exclude=np.dtype('object')).columns) + ['Label']]\n",
    "\n",
    "X = data_num.drop(columns='Label')\n",
    "Y = data_num['Label']\n",
    "\n",
    "x_train, x_val, y_train, y_val = train_test_split(X, Y, train_size=0.8, random_state=1)\n"
   ]
  },
  {
   "cell_type": "code",
   "execution_count": 114,
   "metadata": {},
   "outputs": [
    {
     "ename": "KeyboardInterrupt",
     "evalue": "",
     "output_type": "error",
     "traceback": [
      "\u001b[0;31m---------------------------------------------------------------------------\u001b[0m",
      "\u001b[0;31mKeyboardInterrupt\u001b[0m                         Traceback (most recent call last)",
      "Cell \u001b[0;32mIn[114], line 1\u001b[0m\n\u001b[0;32m----> 1\u001b[0m rfc\u001b[39m.\u001b[39;49mfit(x_train, y_train)\n\u001b[1;32m      3\u001b[0m ConfusionMatrixDisplay\u001b[39m.\u001b[39mfrom_estimator(rfc, x_val, y_val)\n\u001b[1;32m      5\u001b[0m plt\u001b[39m.\u001b[39mshow()\n",
      "File \u001b[0;32m~/mambaforge/envs/BD/lib/python3.9/site-packages/sklearn/ensemble/_forest.py:474\u001b[0m, in \u001b[0;36mBaseForest.fit\u001b[0;34m(self, X, y, sample_weight)\u001b[0m\n\u001b[1;32m    463\u001b[0m trees \u001b[39m=\u001b[39m [\n\u001b[1;32m    464\u001b[0m     \u001b[39mself\u001b[39m\u001b[39m.\u001b[39m_make_estimator(append\u001b[39m=\u001b[39m\u001b[39mFalse\u001b[39;00m, random_state\u001b[39m=\u001b[39mrandom_state)\n\u001b[1;32m    465\u001b[0m     \u001b[39mfor\u001b[39;00m i \u001b[39min\u001b[39;00m \u001b[39mrange\u001b[39m(n_more_estimators)\n\u001b[1;32m    466\u001b[0m ]\n\u001b[1;32m    468\u001b[0m \u001b[39m# Parallel loop: we prefer the threading backend as the Cython code\u001b[39;00m\n\u001b[1;32m    469\u001b[0m \u001b[39m# for fitting the trees is internally releasing the Python GIL\u001b[39;00m\n\u001b[1;32m    470\u001b[0m \u001b[39m# making threading more efficient than multiprocessing in\u001b[39;00m\n\u001b[1;32m    471\u001b[0m \u001b[39m# that case. However, for joblib 0.12+ we respect any\u001b[39;00m\n\u001b[1;32m    472\u001b[0m \u001b[39m# parallel_backend contexts set at a higher level,\u001b[39;00m\n\u001b[1;32m    473\u001b[0m \u001b[39m# since correctness does not rely on using threads.\u001b[39;00m\n\u001b[0;32m--> 474\u001b[0m trees \u001b[39m=\u001b[39m Parallel(\n\u001b[1;32m    475\u001b[0m     n_jobs\u001b[39m=\u001b[39;49m\u001b[39mself\u001b[39;49m\u001b[39m.\u001b[39;49mn_jobs,\n\u001b[1;32m    476\u001b[0m     verbose\u001b[39m=\u001b[39;49m\u001b[39mself\u001b[39;49m\u001b[39m.\u001b[39;49mverbose,\n\u001b[1;32m    477\u001b[0m     prefer\u001b[39m=\u001b[39;49m\u001b[39m\"\u001b[39;49m\u001b[39mthreads\u001b[39;49m\u001b[39m\"\u001b[39;49m,\n\u001b[1;32m    478\u001b[0m )(\n\u001b[1;32m    479\u001b[0m     delayed(_parallel_build_trees)(\n\u001b[1;32m    480\u001b[0m         t,\n\u001b[1;32m    481\u001b[0m         \u001b[39mself\u001b[39;49m\u001b[39m.\u001b[39;49mbootstrap,\n\u001b[1;32m    482\u001b[0m         X,\n\u001b[1;32m    483\u001b[0m         y,\n\u001b[1;32m    484\u001b[0m         sample_weight,\n\u001b[1;32m    485\u001b[0m         i,\n\u001b[1;32m    486\u001b[0m         \u001b[39mlen\u001b[39;49m(trees),\n\u001b[1;32m    487\u001b[0m         verbose\u001b[39m=\u001b[39;49m\u001b[39mself\u001b[39;49m\u001b[39m.\u001b[39;49mverbose,\n\u001b[1;32m    488\u001b[0m         class_weight\u001b[39m=\u001b[39;49m\u001b[39mself\u001b[39;49m\u001b[39m.\u001b[39;49mclass_weight,\n\u001b[1;32m    489\u001b[0m         n_samples_bootstrap\u001b[39m=\u001b[39;49mn_samples_bootstrap,\n\u001b[1;32m    490\u001b[0m     )\n\u001b[1;32m    491\u001b[0m     \u001b[39mfor\u001b[39;49;00m i, t \u001b[39min\u001b[39;49;00m \u001b[39menumerate\u001b[39;49m(trees)\n\u001b[1;32m    492\u001b[0m )\n\u001b[1;32m    494\u001b[0m \u001b[39m# Collect newly grown trees\u001b[39;00m\n\u001b[1;32m    495\u001b[0m \u001b[39mself\u001b[39m\u001b[39m.\u001b[39mestimators_\u001b[39m.\u001b[39mextend(trees)\n",
      "File \u001b[0;32m~/mambaforge/envs/BD/lib/python3.9/site-packages/joblib/parallel.py:1098\u001b[0m, in \u001b[0;36mParallel.__call__\u001b[0;34m(self, iterable)\u001b[0m\n\u001b[1;32m   1095\u001b[0m     \u001b[39mself\u001b[39m\u001b[39m.\u001b[39m_iterating \u001b[39m=\u001b[39m \u001b[39mFalse\u001b[39;00m\n\u001b[1;32m   1097\u001b[0m \u001b[39mwith\u001b[39;00m \u001b[39mself\u001b[39m\u001b[39m.\u001b[39m_backend\u001b[39m.\u001b[39mretrieval_context():\n\u001b[0;32m-> 1098\u001b[0m     \u001b[39mself\u001b[39;49m\u001b[39m.\u001b[39;49mretrieve()\n\u001b[1;32m   1099\u001b[0m \u001b[39m# Make sure that we get a last message telling us we are done\u001b[39;00m\n\u001b[1;32m   1100\u001b[0m elapsed_time \u001b[39m=\u001b[39m time\u001b[39m.\u001b[39mtime() \u001b[39m-\u001b[39m \u001b[39mself\u001b[39m\u001b[39m.\u001b[39m_start_time\n",
      "File \u001b[0;32m~/mambaforge/envs/BD/lib/python3.9/site-packages/joblib/parallel.py:975\u001b[0m, in \u001b[0;36mParallel.retrieve\u001b[0;34m(self)\u001b[0m\n\u001b[1;32m    973\u001b[0m \u001b[39mtry\u001b[39;00m:\n\u001b[1;32m    974\u001b[0m     \u001b[39mif\u001b[39;00m \u001b[39mgetattr\u001b[39m(\u001b[39mself\u001b[39m\u001b[39m.\u001b[39m_backend, \u001b[39m'\u001b[39m\u001b[39msupports_timeout\u001b[39m\u001b[39m'\u001b[39m, \u001b[39mFalse\u001b[39;00m):\n\u001b[0;32m--> 975\u001b[0m         \u001b[39mself\u001b[39m\u001b[39m.\u001b[39m_output\u001b[39m.\u001b[39mextend(job\u001b[39m.\u001b[39;49mget(timeout\u001b[39m=\u001b[39;49m\u001b[39mself\u001b[39;49m\u001b[39m.\u001b[39;49mtimeout))\n\u001b[1;32m    976\u001b[0m     \u001b[39melse\u001b[39;00m:\n\u001b[1;32m    977\u001b[0m         \u001b[39mself\u001b[39m\u001b[39m.\u001b[39m_output\u001b[39m.\u001b[39mextend(job\u001b[39m.\u001b[39mget())\n",
      "File \u001b[0;32m~/mambaforge/envs/BD/lib/python3.9/multiprocessing/pool.py:765\u001b[0m, in \u001b[0;36mApplyResult.get\u001b[0;34m(self, timeout)\u001b[0m\n\u001b[1;32m    764\u001b[0m \u001b[39mdef\u001b[39;00m \u001b[39mget\u001b[39m(\u001b[39mself\u001b[39m, timeout\u001b[39m=\u001b[39m\u001b[39mNone\u001b[39;00m):\n\u001b[0;32m--> 765\u001b[0m     \u001b[39mself\u001b[39;49m\u001b[39m.\u001b[39;49mwait(timeout)\n\u001b[1;32m    766\u001b[0m     \u001b[39mif\u001b[39;00m \u001b[39mnot\u001b[39;00m \u001b[39mself\u001b[39m\u001b[39m.\u001b[39mready():\n\u001b[1;32m    767\u001b[0m         \u001b[39mraise\u001b[39;00m \u001b[39mTimeoutError\u001b[39;00m\n",
      "File \u001b[0;32m~/mambaforge/envs/BD/lib/python3.9/multiprocessing/pool.py:762\u001b[0m, in \u001b[0;36mApplyResult.wait\u001b[0;34m(self, timeout)\u001b[0m\n\u001b[1;32m    761\u001b[0m \u001b[39mdef\u001b[39;00m \u001b[39mwait\u001b[39m(\u001b[39mself\u001b[39m, timeout\u001b[39m=\u001b[39m\u001b[39mNone\u001b[39;00m):\n\u001b[0;32m--> 762\u001b[0m     \u001b[39mself\u001b[39;49m\u001b[39m.\u001b[39;49m_event\u001b[39m.\u001b[39;49mwait(timeout)\n",
      "File \u001b[0;32m~/mambaforge/envs/BD/lib/python3.9/threading.py:581\u001b[0m, in \u001b[0;36mEvent.wait\u001b[0;34m(self, timeout)\u001b[0m\n\u001b[1;32m    579\u001b[0m signaled \u001b[39m=\u001b[39m \u001b[39mself\u001b[39m\u001b[39m.\u001b[39m_flag\n\u001b[1;32m    580\u001b[0m \u001b[39mif\u001b[39;00m \u001b[39mnot\u001b[39;00m signaled:\n\u001b[0;32m--> 581\u001b[0m     signaled \u001b[39m=\u001b[39m \u001b[39mself\u001b[39;49m\u001b[39m.\u001b[39;49m_cond\u001b[39m.\u001b[39;49mwait(timeout)\n\u001b[1;32m    582\u001b[0m \u001b[39mreturn\u001b[39;00m signaled\n",
      "File \u001b[0;32m~/mambaforge/envs/BD/lib/python3.9/threading.py:312\u001b[0m, in \u001b[0;36mCondition.wait\u001b[0;34m(self, timeout)\u001b[0m\n\u001b[1;32m    310\u001b[0m \u001b[39mtry\u001b[39;00m:    \u001b[39m# restore state no matter what (e.g., KeyboardInterrupt)\u001b[39;00m\n\u001b[1;32m    311\u001b[0m     \u001b[39mif\u001b[39;00m timeout \u001b[39mis\u001b[39;00m \u001b[39mNone\u001b[39;00m:\n\u001b[0;32m--> 312\u001b[0m         waiter\u001b[39m.\u001b[39;49macquire()\n\u001b[1;32m    313\u001b[0m         gotit \u001b[39m=\u001b[39m \u001b[39mTrue\u001b[39;00m\n\u001b[1;32m    314\u001b[0m     \u001b[39melse\u001b[39;00m:\n",
      "\u001b[0;31mKeyboardInterrupt\u001b[0m: "
     ]
    }
   ],
   "source": [
    "rfc.fit(x_train, y_train)\n",
    "\n",
    "ConfusionMatrixDisplay.from_estimator(rfc, x_val, y_val)\n",
    "\n",
    "plt.show()"
   ]
  },
  {
   "cell_type": "code",
   "execution_count": null,
   "metadata": {},
   "outputs": [
    {
     "name": "stdout",
     "output_type": "stream",
     "text": [
      "Accuracy: 0.63\n",
      "Precision: 0.62\n",
      "Recall: 0.63\n",
      "F1 score: 0.62\n",
      "Confusion matrix:\n",
      " [[22785   791  5508   510]\n",
      " [ 2269  6820  3716    94]\n",
      " [ 6366  2687 13815   383]\n",
      " [ 2100   208  1444  1012]]\n"
     ]
    }
   ],
   "source": [
    "y_pred = rfc.predict(x_val)\n",
    "accuracy = accuracy_score(y_val, y_pred)\n",
    "precision = precision_score(y_val, y_pred, average='weighted')\n",
    "recall = recall_score(y_val, y_pred, average='weighted')\n",
    "f1 = f1_score(y_val, y_pred, average='weighted')\n",
    "conf_matrix = confusion_matrix(y_val, y_pred)\n",
    "\n",
    "print(\"Accuracy: {:.2f}\".format(accuracy))\n",
    "print(\"Precision: {:.2f}\".format(precision))\n",
    "print(\"Recall: {:.2f}\".format(recall))\n",
    "print(\"F1 score: {:.2f}\".format(f1))\n",
    "print(\"Confusion matrix:\\n\", conf_matrix)"
   ]
  },
  {
   "cell_type": "markdown",
   "metadata": {},
   "source": [
    "Initial results seem poor, likely due to a painfully unbalanced dataset, among other factors. Due to the volume of data availible, balancing will be a simple as downsampling the positive classes to fall in line with the benign class. In an actual model use case, a higher false positive rate will be beneficial as with most antivirus solutions."
   ]
  },
  {
   "cell_type": "code",
   "execution_count": null,
   "metadata": {},
   "outputs": [],
   "source": [
    "from sklearn.utils import resample"
   ]
  },
  {
   "cell_type": "code",
   "execution_count": null,
   "metadata": {},
   "outputs": [
    {
     "data": {
      "text/plain": [
       "array(['Android_Adware', 'Android_Scareware', 'Android_SMS_Malware',\n",
       "       'Benign'], dtype=object)"
      ]
     },
     "execution_count": 39,
     "metadata": {},
     "output_type": "execute_result"
    }
   ],
   "source": [
    "data[\"Label\"].unique()"
   ]
  },
  {
   "cell_type": "code",
   "execution_count": null,
   "metadata": {},
   "outputs": [],
   "source": [
    "Android_Adware = data[data[\"Label\"] == 'Android_Adware']\n",
    "Android_Scareware = data[data[\"Label\"] == 'Android_Scareware']\n",
    "Android_SMS_Malware = data[data[\"Label\"] == 'Android_SMS_Malware']\n",
    "Benign = data[data[\"Label\"] == 'Benign']"
   ]
  },
  {
   "cell_type": "code",
   "execution_count": null,
   "metadata": {},
   "outputs": [
    {
     "name": "stdout",
     "output_type": "stream",
     "text": [
      "147351 116989 64491 23708\n"
     ]
    }
   ],
   "source": [
    "print(len(Android_Adware),len(Android_Scareware) , len(Android_SMS_Malware) , len(Benign))"
   ]
  },
  {
   "cell_type": "code",
   "execution_count": null,
   "metadata": {},
   "outputs": [],
   "source": [
    "classes = [Android_Adware,Android_Scareware , Android_SMS_Malware , Benign]\n",
    "downsampled_classes = []\n",
    "for i in classes :\n",
    "    ds = resample( i,replace=False,n_samples=len(Benign),random_state=123)\n",
    "    downsampled_classes.append(ds)"
   ]
  },
  {
   "cell_type": "code",
   "execution_count": null,
   "metadata": {},
   "outputs": [],
   "source": [
    "down_sampled = pd.concat(downsampled_classes)"
   ]
  },
  {
   "cell_type": "code",
   "execution_count": 1,
   "metadata": {},
   "outputs": [
    {
     "ename": "NameError",
     "evalue": "name 'down_sampled' is not defined",
     "output_type": "error",
     "traceback": [
      "\u001b[0;31m---------------------------------------------------------------------------\u001b[0m",
      "\u001b[0;31mNameError\u001b[0m                                 Traceback (most recent call last)",
      "Cell \u001b[0;32mIn[1], line 1\u001b[0m\n\u001b[0;32m----> 1\u001b[0m down_sampled[\u001b[39m\"\u001b[39m\u001b[39mLabel\u001b[39m\u001b[39m\"\u001b[39m]\u001b[39m.\u001b[39mvalue_counts()\u001b[39m.\u001b[39mplot(kind\u001b[39m=\u001b[39m\u001b[39m'\u001b[39m\u001b[39mbar\u001b[39m\u001b[39m'\u001b[39m)\n",
      "\u001b[0;31mNameError\u001b[0m: name 'down_sampled' is not defined"
     ]
    }
   ],
   "source": [
    "down_sampled[\"Label\"].value_counts().plot(kind='bar')"
   ]
  },
  {
   "cell_type": "code",
   "execution_count": null,
   "metadata": {},
   "outputs": [
    {
     "data": {
      "image/png": "[encoded data removed]",
      "text/plain": [
       "<Figure size 640x480 with 1 Axes>"
      ]
     },
     "metadata": {},
     "output_type": "display_data"
    }
   ],
   "source": [
    "corr_matrix = down_sampled.corr()\n",
    "corr_with_label = corr_matrix['Label'].drop(\"Label\")\n",
    "corr_with_label[abs(corr_with_label)>0.01].plot(kind = 'bar')\n",
    "plt.show()"
   ]
  },
  {
   "cell_type": "code",
   "execution_count": null,
   "metadata": {},
   "outputs": [],
   "source": [
    "data_num = down_sampled[list(down_sampled.select_dtypes(exclude=np.dtype('object')).columns) + ['Label']]\n",
    "\n",
    "X = data_num.drop(columns='Label')\n",
    "Y = data_num['Label']\n",
    "\n",
    "x_train, x_val, y_train, y_val = train_test_split(X, Y, train_size=0.8, random_state=1)"
   ]
  },
  {
   "cell_type": "code",
   "execution_count": null,
   "metadata": {},
   "outputs": [
    {
     "data": {
      "image/png": "[encoded data removed]",
      "text/plain": [
       "<Figure size 640x480 with 2 Axes>"
      ]
     },
     "metadata": {},
     "output_type": "display_data"
    }
   ],
   "source": [
    "rfc.fit(x_train, y_train)\n",
    "\n",
    "ConfusionMatrixDisplay.from_estimator(rfc, x_val, y_val)\n",
    "\n",
    "plt.show()"
   ]
  },
  {
   "cell_type": "code",
   "execution_count": null,
   "metadata": {},
   "outputs": [
    {
     "name": "stdout",
     "output_type": "stream",
     "text": [
      "Accuracy: 0.53\n",
      "Precision: 0.53\n",
      "Recall: 0.53\n",
      "F1 score: 0.53\n",
      "Confusion matrix:\n",
      " [[2485  471  980  949]\n",
      " [ 439 2879  874  525]\n",
      " [ 850  949 1971  916]\n",
      " [ 670  413  811 2785]]\n"
     ]
    }
   ],
   "source": [
    "y_pred = rfc.predict(x_val)\n",
    "accuracy = accuracy_score(y_val, y_pred)\n",
    "precision = precision_score(y_val, y_pred, average='weighted')\n",
    "recall = recall_score(y_val, y_pred, average='weighted')\n",
    "f1 = f1_score(y_val, y_pred, average='weighted')\n",
    "conf_matrix = confusion_matrix(y_val, y_pred)\n",
    "\n",
    "print(\"Accuracy: {:.2f}\".format(accuracy))\n",
    "print(\"Precision: {:.2f}\".format(precision))\n",
    "print(\"Recall: {:.2f}\".format(recall))\n",
    "print(\"F1 score: {:.2f}\".format(f1))\n",
    "print(\"Confusion matrix:\\n\", conf_matrix)"
   ]
  },
  {
   "cell_type": "code",
   "execution_count": null,
   "metadata": {},
   "outputs": [],
   "source": [
    "down_sampled[\"Label\"] = down_sampled[\"Label\"].apply(lambda x: 0 if x == \"Benign\" else 1)"
   ]
  },
  {
   "cell_type": "code",
   "execution_count": null,
   "metadata": {},
   "outputs": [
    {
     "name": "stdout",
     "output_type": "stream",
     "text": [
      "Accuracy: 0.80\n",
      "Precision: 0.79\n",
      "Recall: 0.80\n",
      "F1 score: 0.78\n"
     ]
    }
   ],
   "source": [
    "data_num = down_sampled[list(down_sampled.select_dtypes(exclude=np.dtype('object')).columns)]\n",
    "\n",
    "X = data_num.drop(columns='Label')\n",
    "Y = data_num['Label']\n",
    "\n",
    "x_train, x_val, y_train, y_val = train_test_split(X, Y, train_size=0.8, random_state=1)\n",
    "\n",
    "\n",
    "rfc.fit(x_train, y_train)\n",
    "\n",
    "# ConfusionMatrixDisplay.from_estimator(rfc, x_val, y_val)\n",
    "\n",
    "# plt.show()\n",
    "\n",
    "y_pred = rfc.predict(x_val)\n",
    "accuracy = accuracy_score(y_val, y_pred)\n",
    "precision = precision_score(y_val, y_pred, average='weighted')\n",
    "recall = recall_score(y_val, y_pred, average='weighted')\n",
    "f1 = f1_score(y_val, y_pred, average='weighted')\n",
    "# conf_matrix = confusion_matrix(y_val, y_pred)\n",
    "\n",
    "print(\"Accuracy: {:.2f}\".format(accuracy))\n",
    "print(\"Precision: {:.2f}\".format(precision))\n",
    "print(\"Recall: {:.2f}\".format(recall))\n",
    "print(\"F1 score: {:.2f}\".format(f1))\n",
    "# print(\"Confusion matrix:\\n\", conf_matrix)"
   ]
  },
  {
   "cell_type": "code",
   "execution_count": null,
   "metadata": {},
   "outputs": [],
   "source": [
    "from sklearn.metrics import roc_curve\n",
    "y_prob = rfc.predict_proba(x_val)[:, 1]  # Probability estimates of the positive class\n",
    "fpr, tpr, thresholds = roc_curve(y_val, y_prob)"
   ]
  },
  {
   "cell_type": "code",
   "execution_count": null,
   "metadata": {},
   "outputs": [],
   "source": [
    "idx = np.where(thresholds == 0.5)[0][0]\n",
    "fpr_at_threshold = fpr[idx]"
   ]
  },
  {
   "cell_type": "code",
   "execution_count": null,
   "metadata": {},
   "outputs": [
    {
     "data": {
      "text/plain": [
       "[<matplotlib.lines.Line2D at 0x2951dd490>]"
      ]
     },
     "execution_count": 52,
     "metadata": {},
     "output_type": "execute_result"
    },
    {
     "data": {
      "image/png": "[encoded data removed]",
      "text/plain": [
       "<Figure size 640x480 with 1 Axes>"
      ]
     },
     "metadata": {},
     "output_type": "display_data"
    }
   ],
   "source": [
    "plt.plot(fpr,tpr)"
   ]
  },
  {
   "cell_type": "code",
   "execution_count": null,
   "metadata": {},
   "outputs": [],
   "source": [
    "mask = y_val == 0"
   ]
  },
  {
   "cell_type": "code",
   "execution_count": null,
   "metadata": {},
   "outputs": [],
   "source": [
    "y_pred = rfc.predict(x_val[mask])\n",
    "accuracy = accuracy_score(y_val[mask], y_pred)"
   ]
  },
  {
   "cell_type": "code",
   "execution_count": null,
   "metadata": {},
   "outputs": [
    {
     "data": {
      "text/plain": [
       "0.4017952553964522"
      ]
     },
     "execution_count": 55,
     "metadata": {},
     "output_type": "execute_result"
    }
   ],
   "source": [
    "accuracy"
   ]
  },
  {
   "cell_type": "code",
   "execution_count": null,
   "metadata": {},
   "outputs": [],
   "source": [
    "from sklearn.model_selection import GridSearchCV"
   ]
  },
  {
   "cell_type": "code",
   "execution_count": null,
   "metadata": {},
   "outputs": [
    {
     "name": "stdout",
     "output_type": "stream",
     "text": [
      "Fitting 5 folds for each of 27 candidates, totalling 135 fits\n",
      "[CV] END ..max_depth=5, min_samples_split=2, n_estimators=50; total time=   1.7s\n",
      "[CV] END ..max_depth=5, min_samples_split=2, n_estimators=50; total time=   0.6s\n",
      "[CV] END ..max_depth=5, min_samples_split=2, n_estimators=50; total time=   0.5s\n",
      "[CV] END ..max_depth=5, min_samples_split=2, n_estimators=50; total time=   0.5s\n",
      "[CV] END ..max_depth=5, min_samples_split=2, n_estimators=50; total time=   0.5s\n",
      "[CV] END .max_depth=5, min_samples_split=2, n_estimators=100; total time=   0.9s\n",
      "[CV] END .max_depth=5, min_samples_split=2, n_estimators=100; total time=   0.8s\n",
      "[CV] END .max_depth=5, min_samples_split=2, n_estimators=100; total time=   0.8s\n",
      "[CV] END .max_depth=5, min_samples_split=2, n_estimators=100; total time=   0.9s\n",
      "[CV] END .max_depth=5, min_samples_split=2, n_estimators=100; total time=   0.9s\n",
      "[CV] END .max_depth=5, min_samples_split=2, n_estimators=200; total time=   1.5s\n",
      "[CV] END .max_depth=5, min_samples_split=2, n_estimators=200; total time=   1.6s\n",
      "[CV] END .max_depth=5, min_samples_split=2, n_estimators=200; total time=   1.5s\n",
      "[CV] END .max_depth=5, min_samples_split=2, n_estimators=200; total time=   1.4s\n",
      "[CV] END .max_depth=5, min_samples_split=2, n_estimators=200; total time=   1.4s\n",
      "[CV] END ..max_depth=5, min_samples_split=5, n_estimators=50; total time=   0.5s\n",
      "[CV] END ..max_depth=5, min_samples_split=5, n_estimators=50; total time=   0.5s\n",
      "[CV] END ..max_depth=5, min_samples_split=5, n_estimators=50; total time=   0.5s\n",
      "[CV] END ..max_depth=5, min_samples_split=5, n_estimators=50; total time=   0.5s\n",
      "[CV] END ..max_depth=5, min_samples_split=5, n_estimators=50; total time=   0.5s\n",
      "[CV] END .max_depth=5, min_samples_split=5, n_estimators=100; total time=   0.9s\n",
      "[CV] END .max_depth=5, min_samples_split=5, n_estimators=100; total time=   0.8s\n",
      "[CV] END .max_depth=5, min_samples_split=5, n_estimators=100; total time=   0.8s\n",
      "[CV] END .max_depth=5, min_samples_split=5, n_estimators=100; total time=   0.8s\n",
      "[CV] END .max_depth=5, min_samples_split=5, n_estimators=100; total time=   0.9s\n",
      "[CV] END .max_depth=5, min_samples_split=5, n_estimators=200; total time=   1.5s\n",
      "[CV] END .max_depth=5, min_samples_split=5, n_estimators=200; total time=   1.6s\n",
      "[CV] END .max_depth=5, min_samples_split=5, n_estimators=200; total time=   1.6s\n",
      "[CV] END .max_depth=5, min_samples_split=5, n_estimators=200; total time=   1.5s\n",
      "[CV] END .max_depth=5, min_samples_split=5, n_estimators=200; total time=   1.5s\n",
      "[CV] END .max_depth=5, min_samples_split=10, n_estimators=50; total time=   0.5s\n",
      "[CV] END .max_depth=5, min_samples_split=10, n_estimators=50; total time=   0.5s\n",
      "[CV] END .max_depth=5, min_samples_split=10, n_estimators=50; total time=   0.6s\n",
      "[CV] END .max_depth=5, min_samples_split=10, n_estimators=50; total time=   0.5s\n",
      "[CV] END .max_depth=5, min_samples_split=10, n_estimators=50; total time=   0.5s\n",
      "[CV] END max_depth=5, min_samples_split=10, n_estimators=100; total time=   0.9s\n",
      "[CV] END max_depth=5, min_samples_split=10, n_estimators=100; total time=   0.9s\n",
      "[CV] END max_depth=5, min_samples_split=10, n_estimators=100; total time=   0.9s\n",
      "[CV] END max_depth=5, min_samples_split=10, n_estimators=100; total time=   0.8s\n",
      "[CV] END max_depth=5, min_samples_split=10, n_estimators=100; total time=   0.9s\n",
      "[CV] END max_depth=5, min_samples_split=10, n_estimators=200; total time=   1.6s\n",
      "[CV] END max_depth=5, min_samples_split=10, n_estimators=200; total time=   1.7s\n",
      "[CV] END max_depth=5, min_samples_split=10, n_estimators=200; total time=   1.5s\n",
      "[CV] END max_depth=5, min_samples_split=10, n_estimators=200; total time=   1.5s\n",
      "[CV] END max_depth=5, min_samples_split=10, n_estimators=200; total time=   1.5s\n",
      "[CV] END .max_depth=10, min_samples_split=2, n_estimators=50; total time=   0.8s\n",
      "[CV] END .max_depth=10, min_samples_split=2, n_estimators=50; total time=   0.8s\n",
      "[CV] END .max_depth=10, min_samples_split=2, n_estimators=50; total time=   0.7s\n",
      "[CV] END .max_depth=10, min_samples_split=2, n_estimators=50; total time=   0.8s\n",
      "[CV] END .max_depth=10, min_samples_split=2, n_estimators=50; total time=   0.8s\n",
      "[CV] END max_depth=10, min_samples_split=2, n_estimators=100; total time=   1.3s\n",
      "[CV] END max_depth=10, min_samples_split=2, n_estimators=100; total time=   1.3s\n",
      "[CV] END max_depth=10, min_samples_split=2, n_estimators=100; total time=   1.3s\n",
      "[CV] END max_depth=10, min_samples_split=2, n_estimators=100; total time=   1.3s\n",
      "[CV] END max_depth=10, min_samples_split=2, n_estimators=100; total time=   1.3s\n",
      "[CV] END max_depth=10, min_samples_split=2, n_estimators=200; total time=   2.4s\n",
      "[CV] END max_depth=10, min_samples_split=2, n_estimators=200; total time=   2.3s\n",
      "[CV] END max_depth=10, min_samples_split=2, n_estimators=200; total time=   2.4s\n",
      "[CV] END max_depth=10, min_samples_split=2, n_estimators=200; total time=   2.4s\n",
      "[CV] END max_depth=10, min_samples_split=2, n_estimators=200; total time=   2.4s\n",
      "[CV] END .max_depth=10, min_samples_split=5, n_estimators=50; total time=   0.7s\n",
      "[CV] END .max_depth=10, min_samples_split=5, n_estimators=50; total time=   0.7s\n",
      "[CV] END .max_depth=10, min_samples_split=5, n_estimators=50; total time=   0.8s\n",
      "[CV] END .max_depth=10, min_samples_split=5, n_estimators=50; total time=   0.7s\n",
      "[CV] END .max_depth=10, min_samples_split=5, n_estimators=50; total time=   0.7s\n",
      "[CV] END max_depth=10, min_samples_split=5, n_estimators=100; total time=   1.3s\n",
      "[CV] END max_depth=10, min_samples_split=5, n_estimators=100; total time=   1.3s\n",
      "[CV] END max_depth=10, min_samples_split=5, n_estimators=100; total time=   1.3s\n",
      "[CV] END max_depth=10, min_samples_split=5, n_estimators=100; total time=   1.4s\n",
      "[CV] END max_depth=10, min_samples_split=5, n_estimators=100; total time=   1.5s\n",
      "[CV] END max_depth=10, min_samples_split=5, n_estimators=200; total time=   2.6s\n",
      "[CV] END max_depth=10, min_samples_split=5, n_estimators=200; total time=   2.5s\n",
      "[CV] END max_depth=10, min_samples_split=5, n_estimators=200; total time=   2.8s\n",
      "[CV] END max_depth=10, min_samples_split=5, n_estimators=200; total time=   2.7s\n",
      "[CV] END max_depth=10, min_samples_split=5, n_estimators=200; total time=   2.8s\n",
      "[CV] END max_depth=10, min_samples_split=10, n_estimators=50; total time=   0.8s\n",
      "[CV] END max_depth=10, min_samples_split=10, n_estimators=50; total time=   0.8s\n",
      "[CV] END max_depth=10, min_samples_split=10, n_estimators=50; total time=   0.9s\n",
      "[CV] END max_depth=10, min_samples_split=10, n_estimators=50; total time=   0.9s\n",
      "[CV] END max_depth=10, min_samples_split=10, n_estimators=50; total time=   0.8s\n",
      "[CV] END max_depth=10, min_samples_split=10, n_estimators=100; total time=   1.4s\n",
      "[CV] END max_depth=10, min_samples_split=10, n_estimators=100; total time=   1.4s\n",
      "[CV] END max_depth=10, min_samples_split=10, n_estimators=100; total time=   1.4s\n",
      "[CV] END max_depth=10, min_samples_split=10, n_estimators=100; total time=   1.3s\n",
      "[CV] END max_depth=10, min_samples_split=10, n_estimators=100; total time=   1.3s\n",
      "[CV] END max_depth=10, min_samples_split=10, n_estimators=200; total time=   2.4s\n",
      "[CV] END max_depth=10, min_samples_split=10, n_estimators=200; total time=   2.4s\n",
      "[CV] END max_depth=10, min_samples_split=10, n_estimators=200; total time=   2.4s\n",
      "[CV] END max_depth=10, min_samples_split=10, n_estimators=200; total time=   2.4s\n",
      "[CV] END max_depth=10, min_samples_split=10, n_estimators=200; total time=   2.4s\n",
      "[CV] END .max_depth=20, min_samples_split=2, n_estimators=50; total time=   1.1s\n",
      "[CV] END .max_depth=20, min_samples_split=2, n_estimators=50; total time=   1.1s\n",
      "[CV] END .max_depth=20, min_samples_split=2, n_estimators=50; total time=   1.1s\n",
      "[CV] END .max_depth=20, min_samples_split=2, n_estimators=50; total time=   1.0s\n",
      "[CV] END .max_depth=20, min_samples_split=2, n_estimators=50; total time=   1.1s\n",
      "[CV] END max_depth=20, min_samples_split=2, n_estimators=100; total time=   1.9s\n",
      "[CV] END max_depth=20, min_samples_split=2, n_estimators=100; total time=   1.9s\n",
      "[CV] END max_depth=20, min_samples_split=2, n_estimators=100; total time=   1.9s\n",
      "[CV] END max_depth=20, min_samples_split=2, n_estimators=100; total time=   1.9s\n",
      "[CV] END max_depth=20, min_samples_split=2, n_estimators=100; total time=   1.9s\n",
      "[CV] END max_depth=20, min_samples_split=2, n_estimators=200; total time=   3.6s\n",
      "[CV] END max_depth=20, min_samples_split=2, n_estimators=200; total time=   4.0s\n",
      "[CV] END max_depth=20, min_samples_split=2, n_estimators=200; total time=   3.8s\n",
      "[CV] END max_depth=20, min_samples_split=2, n_estimators=200; total time=   3.7s\n",
      "[CV] END max_depth=20, min_samples_split=2, n_estimators=200; total time=   4.2s\n",
      "[CV] END .max_depth=20, min_samples_split=5, n_estimators=50; total time=   1.2s\n",
      "[CV] END .max_depth=20, min_samples_split=5, n_estimators=50; total time=   1.2s\n",
      "[CV] END .max_depth=20, min_samples_split=5, n_estimators=50; total time=   1.1s\n",
      "[CV] END .max_depth=20, min_samples_split=5, n_estimators=50; total time=   1.1s\n",
      "[CV] END .max_depth=20, min_samples_split=5, n_estimators=50; total time=   1.1s\n",
      "[CV] END max_depth=20, min_samples_split=5, n_estimators=100; total time=   2.2s\n",
      "[CV] END max_depth=20, min_samples_split=5, n_estimators=100; total time=   2.1s\n",
      "[CV] END max_depth=20, min_samples_split=5, n_estimators=100; total time=   2.0s\n",
      "[CV] END max_depth=20, min_samples_split=5, n_estimators=100; total time=   2.0s\n",
      "[CV] END max_depth=20, min_samples_split=5, n_estimators=100; total time=   1.9s\n",
      "[CV] END max_depth=20, min_samples_split=5, n_estimators=200; total time=   3.7s\n",
      "[CV] END max_depth=20, min_samples_split=5, n_estimators=200; total time=   4.0s\n",
      "[CV] END max_depth=20, min_samples_split=5, n_estimators=200; total time=   3.8s\n",
      "[CV] END max_depth=20, min_samples_split=5, n_estimators=200; total time=   4.4s\n",
      "[CV] END max_depth=20, min_samples_split=5, n_estimators=200; total time=   4.5s\n",
      "[CV] END max_depth=20, min_samples_split=10, n_estimators=50; total time=   1.1s\n",
      "[CV] END max_depth=20, min_samples_split=10, n_estimators=50; total time=   1.1s\n",
      "[CV] END max_depth=20, min_samples_split=10, n_estimators=50; total time=   1.2s\n",
      "[CV] END max_depth=20, min_samples_split=10, n_estimators=50; total time=   1.2s\n",
      "[CV] END max_depth=20, min_samples_split=10, n_estimators=50; total time=   1.2s\n",
      "[CV] END max_depth=20, min_samples_split=10, n_estimators=100; total time=   1.9s\n",
      "[CV] END max_depth=20, min_samples_split=10, n_estimators=100; total time=   2.1s\n",
      "[CV] END max_depth=20, min_samples_split=10, n_estimators=100; total time=   2.0s\n",
      "[CV] END max_depth=20, min_samples_split=10, n_estimators=100; total time=   2.1s\n",
      "[CV] END max_depth=20, min_samples_split=10, n_estimators=100; total time=   2.1s\n",
      "[CV] END max_depth=20, min_samples_split=10, n_estimators=200; total time=   4.2s\n",
      "[CV] END max_depth=20, min_samples_split=10, n_estimators=200; total time=   4.2s\n",
      "[CV] END max_depth=20, min_samples_split=10, n_estimators=200; total time=   3.8s\n",
      "[CV] END max_depth=20, min_samples_split=10, n_estimators=200; total time=   4.1s\n",
      "[CV] END max_depth=20, min_samples_split=10, n_estimators=200; total time=   3.9s\n",
      "Accuracy: 0.76\n",
      "Precision: 0.77\n",
      "Recall: 0.76\n",
      "F1 score: 0.76\n",
      "Best hyperparameters: {'max_depth': 20, 'min_samples_split': 2, 'n_estimators': 100}\n"
     ]
    }
   ],
   "source": [
    "\n",
    "param_grid = {'n_estimators': [50, 100, 200],\n",
    "              'max_depth': [5, 10, 20],\n",
    "              'min_samples_split': [2, 5, 10]}\n",
    "\n",
    "grid_search = GridSearchCV(rfc, param_grid, cv=5, scoring='accuracy',verbose =2)\n",
    "\n",
    "# Fit the GridSearchCV object to the training set\n",
    "grid_search.fit(x_train, y_train)\n",
    "\n",
    "# Evaluate the best model on the validation set\n",
    "y_pred = grid_search.predict(x_val)\n",
    "accuracy = accuracy_score(y_val, y_pred)\n",
    "precision = precision_score(y_val, y_pred, average='weighted')\n",
    "recall = recall_score(y_val, y_pred, average='weighted')\n",
    "f1 = f1_score(y_val, y_pred, average='weighted')\n",
    "# conf_matrix = confusion_matrix(y_val, y_pred)\n",
    "\n",
    "print(\"Accuracy: {:.2f}\".format(accuracy))\n",
    "print(\"Precision: {:.2f}\".format(precision))\n",
    "print(\"Recall: {:.2f}\".format(recall))\n",
    "print(\"F1 score: {:.2f}\".format(f1))\n",
    "# print(\"Confusion matrix:\\n\", conf_matrix)\n",
    "print(f\"Best hyperparameters: {grid_search.best_params_}\")"
   ]
  },
  {
   "cell_type": "code",
   "execution_count": null,
   "metadata": {
    "scrolled": true
   },
   "outputs": [
    {
     "name": "stdout",
     "output_type": "stream",
     "text": [
      "Accuracy: 0.76\n",
      "Precision: 0.77\n",
      "Recall: 0.76\n",
      "F1 score: 0.76\n",
      "Best hyperparameters: {'max_depth': 20, 'min_samples_split': 2, 'n_estimators': 100}\n"
     ]
    }
   ],
   "source": [
    "y_pred = grid_search.predict(x_val)\n",
    "accuracy = accuracy_score(y_val, y_pred)\n",
    "precision = precision_score(y_val, y_pred, average='weighted')\n",
    "recall = recall_score(y_val, y_pred, average='weighted')\n",
    "f1 = f1_score(y_val, y_pred, average='weighted')\n",
    "# conf_matrix = confusion_matrix(y_val, y_pred)\n",
    "\n",
    "print(\"Accuracy: {:.2f}\".format(accuracy))\n",
    "print(\"Precision: {:.2f}\".format(precision))\n",
    "print(\"Recall: {:.2f}\".format(recall))\n",
    "print(\"F1 score: {:.2f}\".format(f1))\n",
    "# print(\"Confusion matrix:\\n\", conf_matrix)\n",
    "print(f\"Best hyperparameters: {grid_search.best_params_}\")"
   ]
  },
  {
   "cell_type": "code",
   "execution_count": null,
   "metadata": {},
   "outputs": [
    {
     "name": "stdout",
     "output_type": "stream",
     "text": [
      "Fitting 5 folds for each of 8 candidates, totalling 40 fits\n",
      "[CV] END ..................................C=0.1, penalty=l1; total time=   0.1s\n",
      "[CV] END ..................................C=0.1, penalty=l1; total time=   0.1s\n",
      "[CV] END ..................................C=0.1, penalty=l1; total time=   0.1s\n",
      "[CV] END ..................................C=0.1, penalty=l1; total time=   0.1s\n",
      "[CV] END ..................................C=0.1, penalty=l1; total time=   0.1s\n",
      "[CV] END ....................................C=1, penalty=l1; total time=   0.0s\n",
      "[CV] END ....................................C=1, penalty=l1; total time=   0.0s\n",
      "[CV] END ....................................C=1, penalty=l1; total time=   0.0s\n",
      "[CV] END ....................................C=1, penalty=l1; total time=   0.0s\n",
      "[CV] END ....................................C=1, penalty=l1; total time=   0.0s\n"
     ]
    },
    {
     "name": "stderr",
     "output_type": "stream",
     "text": [
      "/Users/josephbajor/mambaforge/envs/BD/lib/python3.9/site-packages/sklearn/linear_model/_logistic.py:458: ConvergenceWarning: lbfgs failed to converge (status=1):\n",
      "STOP: TOTAL NO. of ITERATIONS REACHED LIMIT.\n",
      "\n",
      "Increase the number of iterations (max_iter) or scale the data as shown in:\n",
      "    https://scikit-learn.org/stable/modules/preprocessing.html\n",
      "Please also refer to the documentation for alternative solver options:\n",
      "    https://scikit-learn.org/stable/modules/linear_model.html#logistic-regression\n",
      "  n_iter_i = _check_optimize_result(\n",
      "/Users/josephbajor/mambaforge/envs/BD/lib/python3.9/site-packages/sklearn/linear_model/_logistic.py:458: ConvergenceWarning: lbfgs failed to converge (status=1):\n",
      "STOP: TOTAL NO. of ITERATIONS REACHED LIMIT.\n",
      "\n",
      "Increase the number of iterations (max_iter) or scale the data as shown in:\n",
      "    https://scikit-learn.org/stable/modules/preprocessing.html\n",
      "Please also refer to the documentation for alternative solver options:\n",
      "    https://scikit-learn.org/stable/modules/linear_model.html#logistic-regression\n",
      "  n_iter_i = _check_optimize_result(\n",
      "/Users/josephbajor/mambaforge/envs/BD/lib/python3.9/site-packages/sklearn/linear_model/_logistic.py:458: ConvergenceWarning: lbfgs failed to converge (status=1):\n",
      "STOP: TOTAL NO. of ITERATIONS REACHED LIMIT.\n",
      "\n",
      "Increase the number of iterations (max_iter) or scale the data as shown in:\n",
      "    https://scikit-learn.org/stable/modules/preprocessing.html\n",
      "Please also refer to the documentation for alternative solver options:\n",
      "    https://scikit-learn.org/stable/modules/linear_model.html#logistic-regression\n",
      "  n_iter_i = _check_optimize_result(\n",
      "/Users/josephbajor/mambaforge/envs/BD/lib/python3.9/site-packages/sklearn/linear_model/_logistic.py:458: ConvergenceWarning: lbfgs failed to converge (status=1):\n",
      "STOP: TOTAL NO. of ITERATIONS REACHED LIMIT.\n",
      "\n",
      "Increase the number of iterations (max_iter) or scale the data as shown in:\n",
      "    https://scikit-learn.org/stable/modules/preprocessing.html\n",
      "Please also refer to the documentation for alternative solver options:\n",
      "    https://scikit-learn.org/stable/modules/linear_model.html#logistic-regression\n",
      "  n_iter_i = _check_optimize_result(\n",
      "/Users/josephbajor/mambaforge/envs/BD/lib/python3.9/site-packages/sklearn/linear_model/_logistic.py:458: ConvergenceWarning: lbfgs failed to converge (status=1):\n",
      "STOP: TOTAL NO. of ITERATIONS REACHED LIMIT.\n",
      "\n",
      "Increase the number of iterations (max_iter) or scale the data as shown in:\n",
      "    https://scikit-learn.org/stable/modules/preprocessing.html\n",
      "Please also refer to the documentation for alternative solver options:\n",
      "    https://scikit-learn.org/stable/modules/linear_model.html#logistic-regression\n",
      "  n_iter_i = _check_optimize_result(\n"
     ]
    },
    {
     "name": "stdout",
     "output_type": "stream",
     "text": [
      "[CV] END ..................................C=0.1, penalty=l2; total time=   1.3s\n",
      "[CV] END ..................................C=0.1, penalty=l2; total time=   1.4s\n",
      "[CV] END ...................................C=10, penalty=l1; total time=   0.0s\n",
      "[CV] END ..................................C=0.1, penalty=l2; total time=   1.4s\n",
      "[CV] END ...................................C=10, penalty=l1; total time=   0.0s\n",
      "[CV] END ..................................C=0.1, penalty=l2; total time=   1.5s\n",
      "[CV] END ..................................C=0.1, penalty=l2; total time=   1.5s\n",
      "[CV] END ...................................C=10, penalty=l1; total time=   0.0s\n",
      "[CV] END ...................................C=10, penalty=l1; total time=   0.0s\n",
      "[CV] END ...................................C=10, penalty=l1; total time=   0.0s\n"
     ]
    },
    {
     "name": "stderr",
     "output_type": "stream",
     "text": [
      "/Users/josephbajor/mambaforge/envs/BD/lib/python3.9/site-packages/sklearn/linear_model/_logistic.py:458: ConvergenceWarning: lbfgs failed to converge (status=1):\n",
      "STOP: TOTAL NO. of ITERATIONS REACHED LIMIT.\n",
      "\n",
      "Increase the number of iterations (max_iter) or scale the data as shown in:\n",
      "    https://scikit-learn.org/stable/modules/preprocessing.html\n",
      "Please also refer to the documentation for alternative solver options:\n",
      "    https://scikit-learn.org/stable/modules/linear_model.html#logistic-regression\n",
      "  n_iter_i = _check_optimize_result(\n",
      "/Users/josephbajor/mambaforge/envs/BD/lib/python3.9/site-packages/sklearn/linear_model/_logistic.py:458: ConvergenceWarning: lbfgs failed to converge (status=1):\n",
      "STOP: TOTAL NO. of ITERATIONS REACHED LIMIT.\n",
      "\n",
      "Increase the number of iterations (max_iter) or scale the data as shown in:\n",
      "    https://scikit-learn.org/stable/modules/preprocessing.html\n",
      "Please also refer to the documentation for alternative solver options:\n",
      "    https://scikit-learn.org/stable/modules/linear_model.html#logistic-regression\n",
      "  n_iter_i = _check_optimize_result(\n",
      "/Users/josephbajor/mambaforge/envs/BD/lib/python3.9/site-packages/sklearn/linear_model/_logistic.py:458: ConvergenceWarning: lbfgs failed to converge (status=1):\n",
      "STOP: TOTAL NO. of ITERATIONS REACHED LIMIT.\n",
      "\n",
      "Increase the number of iterations (max_iter) or scale the data as shown in:\n",
      "    https://scikit-learn.org/stable/modules/preprocessing.html\n",
      "Please also refer to the documentation for alternative solver options:\n",
      "    https://scikit-learn.org/stable/modules/linear_model.html#logistic-regression\n",
      "  n_iter_i = _check_optimize_result(\n",
      "/Users/josephbajor/mambaforge/envs/BD/lib/python3.9/site-packages/sklearn/linear_model/_logistic.py:458: ConvergenceWarning: lbfgs failed to converge (status=1):\n",
      "STOP: TOTAL NO. of ITERATIONS REACHED LIMIT.\n",
      "\n",
      "Increase the number of iterations (max_iter) or scale the data as shown in:\n",
      "    https://scikit-learn.org/stable/modules/preprocessing.html\n",
      "Please also refer to the documentation for alternative solver options:\n",
      "    https://scikit-learn.org/stable/modules/linear_model.html#logistic-regression\n",
      "  n_iter_i = _check_optimize_result(\n",
      "/Users/josephbajor/mambaforge/envs/BD/lib/python3.9/site-packages/sklearn/linear_model/_logistic.py:458: ConvergenceWarning: lbfgs failed to converge (status=1):\n",
      "STOP: TOTAL NO. of ITERATIONS REACHED LIMIT.\n",
      "\n",
      "Increase the number of iterations (max_iter) or scale the data as shown in:\n",
      "    https://scikit-learn.org/stable/modules/preprocessing.html\n",
      "Please also refer to the documentation for alternative solver options:\n",
      "    https://scikit-learn.org/stable/modules/linear_model.html#logistic-regression\n",
      "  n_iter_i = _check_optimize_result(\n"
     ]
    },
    {
     "name": "stdout",
     "output_type": "stream",
     "text": [
      "[CV] END ....................................C=1, penalty=l2; total time=   1.3s\n",
      "[CV] END ....................................C=1, penalty=l2; total time=   1.3s\n",
      "[CV] END ....................................C=1, penalty=l2; total time=   1.4s\n",
      "[CV] END ....................................C=1, penalty=l2; total time=   1.2s\n",
      "[CV] END ....................................C=1, penalty=l2; total time=   1.3s\n",
      "[CV] END ..................................C=100, penalty=l1; total time=   0.0s\n",
      "[CV] END ..................................C=100, penalty=l1; total time=   0.0s\n",
      "[CV] END ..................................C=100, penalty=l1; total time=   0.0s\n",
      "[CV] END ..................................C=100, penalty=l1; total time=   0.0s\n",
      "[CV] END ..................................C=100, penalty=l1; total time=   0.0s\n"
     ]
    },
    {
     "name": "stderr",
     "output_type": "stream",
     "text": [
      "/Users/josephbajor/mambaforge/envs/BD/lib/python3.9/site-packages/sklearn/linear_model/_logistic.py:458: ConvergenceWarning: lbfgs failed to converge (status=1):\n",
      "STOP: TOTAL NO. of ITERATIONS REACHED LIMIT.\n",
      "\n",
      "Increase the number of iterations (max_iter) or scale the data as shown in:\n",
      "    https://scikit-learn.org/stable/modules/preprocessing.html\n",
      "Please also refer to the documentation for alternative solver options:\n",
      "    https://scikit-learn.org/stable/modules/linear_model.html#logistic-regression\n",
      "  n_iter_i = _check_optimize_result(\n",
      "/Users/josephbajor/mambaforge/envs/BD/lib/python3.9/site-packages/sklearn/linear_model/_logistic.py:458: ConvergenceWarning: lbfgs failed to converge (status=1):\n",
      "STOP: TOTAL NO. of ITERATIONS REACHED LIMIT.\n",
      "\n",
      "Increase the number of iterations (max_iter) or scale the data as shown in:\n",
      "    https://scikit-learn.org/stable/modules/preprocessing.html\n",
      "Please also refer to the documentation for alternative solver options:\n",
      "    https://scikit-learn.org/stable/modules/linear_model.html#logistic-regression\n",
      "  n_iter_i = _check_optimize_result(\n",
      "/Users/josephbajor/mambaforge/envs/BD/lib/python3.9/site-packages/sklearn/linear_model/_logistic.py:458: ConvergenceWarning: lbfgs failed to converge (status=1):\n",
      "STOP: TOTAL NO. of ITERATIONS REACHED LIMIT.\n",
      "\n",
      "Increase the number of iterations (max_iter) or scale the data as shown in:\n",
      "    https://scikit-learn.org/stable/modules/preprocessing.html\n",
      "Please also refer to the documentation for alternative solver options:\n",
      "    https://scikit-learn.org/stable/modules/linear_model.html#logistic-regression\n",
      "  n_iter_i = _check_optimize_result(\n"
     ]
    },
    {
     "name": "stdout",
     "output_type": "stream",
     "text": [
      "[CV] END ...................................C=10, penalty=l2; total time=   1.3s\n",
      "[CV] END ...................................C=10, penalty=l2; total time=   1.3s\n",
      "[CV] END ...................................C=10, penalty=l2; total time=   1.3s\n"
     ]
    },
    {
     "name": "stderr",
     "output_type": "stream",
     "text": [
      "/Users/josephbajor/mambaforge/envs/BD/lib/python3.9/site-packages/sklearn/linear_model/_logistic.py:458: ConvergenceWarning: lbfgs failed to converge (status=1):\n",
      "STOP: TOTAL NO. of ITERATIONS REACHED LIMIT.\n",
      "\n",
      "Increase the number of iterations (max_iter) or scale the data as shown in:\n",
      "    https://scikit-learn.org/stable/modules/preprocessing.html\n",
      "Please also refer to the documentation for alternative solver options:\n",
      "    https://scikit-learn.org/stable/modules/linear_model.html#logistic-regression\n",
      "  n_iter_i = _check_optimize_result(\n",
      "/Users/josephbajor/mambaforge/envs/BD/lib/python3.9/site-packages/sklearn/linear_model/_logistic.py:458: ConvergenceWarning: lbfgs failed to converge (status=1):\n",
      "STOP: TOTAL NO. of ITERATIONS REACHED LIMIT.\n",
      "\n",
      "Increase the number of iterations (max_iter) or scale the data as shown in:\n",
      "    https://scikit-learn.org/stable/modules/preprocessing.html\n",
      "Please also refer to the documentation for alternative solver options:\n",
      "    https://scikit-learn.org/stable/modules/linear_model.html#logistic-regression\n",
      "  n_iter_i = _check_optimize_result(\n"
     ]
    },
    {
     "name": "stdout",
     "output_type": "stream",
     "text": [
      "[CV] END ...................................C=10, penalty=l2; total time=   1.3s\n",
      "[CV] END ...................................C=10, penalty=l2; total time=   1.4s\n"
     ]
    },
    {
     "name": "stderr",
     "output_type": "stream",
     "text": [
      "/Users/josephbajor/mambaforge/envs/BD/lib/python3.9/site-packages/sklearn/linear_model/_logistic.py:458: ConvergenceWarning: lbfgs failed to converge (status=1):\n",
      "STOP: TOTAL NO. of ITERATIONS REACHED LIMIT.\n",
      "\n",
      "Increase the number of iterations (max_iter) or scale the data as shown in:\n",
      "    https://scikit-learn.org/stable/modules/preprocessing.html\n",
      "Please also refer to the documentation for alternative solver options:\n",
      "    https://scikit-learn.org/stable/modules/linear_model.html#logistic-regression\n",
      "  n_iter_i = _check_optimize_result(\n",
      "/Users/josephbajor/mambaforge/envs/BD/lib/python3.9/site-packages/sklearn/linear_model/_logistic.py:458: ConvergenceWarning: lbfgs failed to converge (status=1):\n",
      "STOP: TOTAL NO. of ITERATIONS REACHED LIMIT.\n",
      "\n",
      "Increase the number of iterations (max_iter) or scale the data as shown in:\n",
      "    https://scikit-learn.org/stable/modules/preprocessing.html\n",
      "Please also refer to the documentation for alternative solver options:\n",
      "    https://scikit-learn.org/stable/modules/linear_model.html#logistic-regression\n",
      "  n_iter_i = _check_optimize_result(\n",
      "/Users/josephbajor/mambaforge/envs/BD/lib/python3.9/site-packages/sklearn/linear_model/_logistic.py:458: ConvergenceWarning: lbfgs failed to converge (status=1):\n",
      "STOP: TOTAL NO. of ITERATIONS REACHED LIMIT.\n",
      "\n",
      "Increase the number of iterations (max_iter) or scale the data as shown in:\n",
      "    https://scikit-learn.org/stable/modules/preprocessing.html\n",
      "Please also refer to the documentation for alternative solver options:\n",
      "    https://scikit-learn.org/stable/modules/linear_model.html#logistic-regression\n",
      "  n_iter_i = _check_optimize_result(\n",
      "/Users/josephbajor/mambaforge/envs/BD/lib/python3.9/site-packages/sklearn/linear_model/_logistic.py:458: ConvergenceWarning: lbfgs failed to converge (status=1):\n",
      "STOP: TOTAL NO. of ITERATIONS REACHED LIMIT.\n",
      "\n",
      "Increase the number of iterations (max_iter) or scale the data as shown in:\n",
      "    https://scikit-learn.org/stable/modules/preprocessing.html\n",
      "Please also refer to the documentation for alternative solver options:\n",
      "    https://scikit-learn.org/stable/modules/linear_model.html#logistic-regression\n",
      "  n_iter_i = _check_optimize_result(\n",
      "/Users/josephbajor/mambaforge/envs/BD/lib/python3.9/site-packages/sklearn/linear_model/_logistic.py:458: ConvergenceWarning: lbfgs failed to converge (status=1):\n",
      "STOP: TOTAL NO. of ITERATIONS REACHED LIMIT.\n",
      "\n",
      "Increase the number of iterations (max_iter) or scale the data as shown in:\n",
      "    https://scikit-learn.org/stable/modules/preprocessing.html\n",
      "Please also refer to the documentation for alternative solver options:\n",
      "    https://scikit-learn.org/stable/modules/linear_model.html#logistic-regression\n",
      "  n_iter_i = _check_optimize_result(\n",
      "/Users/josephbajor/mambaforge/envs/BD/lib/python3.9/site-packages/sklearn/model_selection/_validation.py:378: FitFailedWarning: \n",
      "20 fits failed out of a total of 40.\n",
      "The score on these train-test partitions for these parameters will be set to nan.\n",
      "If these failures are not expected, you can try to debug them by setting error_score='raise'.\n",
      "\n",
      "Below are more details about the failures:\n",
      "--------------------------------------------------------------------------------\n",
      "20 fits failed with the following error:\n",
      "Traceback (most recent call last):\n",
      "  File \"/Users/josephbajor/mambaforge/envs/BD/lib/python3.9/site-packages/sklearn/model_selection/_validation.py\", line 686, in _fit_and_score\n",
      "    estimator.fit(X_train, y_train, **fit_params)\n",
      "  File \"/Users/josephbajor/mambaforge/envs/BD/lib/python3.9/site-packages/sklearn/linear_model/_logistic.py\", line 1162, in fit\n",
      "    solver = _check_solver(self.solver, self.penalty, self.dual)\n",
      "  File \"/Users/josephbajor/mambaforge/envs/BD/lib/python3.9/site-packages/sklearn/linear_model/_logistic.py\", line 54, in _check_solver\n",
      "    raise ValueError(\n",
      "ValueError: Solver lbfgs supports only 'l2' or 'none' penalties, got l1 penalty.\n",
      "\n",
      "  warnings.warn(some_fits_failed_message, FitFailedWarning)\n",
      "/Users/josephbajor/mambaforge/envs/BD/lib/python3.9/site-packages/sklearn/model_selection/_search.py:953: UserWarning: One or more of the test scores are non-finite: [       nan 0.74856653        nan 0.74832927        nan 0.74838199\n",
      "        nan 0.74819746]\n",
      "  warnings.warn(\n"
     ]
    },
    {
     "name": "stdout",
     "output_type": "stream",
     "text": [
      "[CV] END ..................................C=100, penalty=l2; total time=   1.3s\n",
      "[CV] END ..................................C=100, penalty=l2; total time=   1.3s\n",
      "[CV] END ..................................C=100, penalty=l2; total time=   1.2s\n",
      "[CV] END ..................................C=100, penalty=l2; total time=   1.1s\n",
      "[CV] END ..................................C=100, penalty=l2; total time=   1.2s\n",
      "Accuracy: 0.75\n",
      "Precision: 0.64\n",
      "Recall: 0.75\n",
      "F1 score: 0.65\n",
      "Best hyperparameters: {'C': 0.1, 'penalty': 'l2'}\n"
     ]
    },
    {
     "name": "stderr",
     "output_type": "stream",
     "text": [
      "/Users/josephbajor/mambaforge/envs/BD/lib/python3.9/site-packages/sklearn/linear_model/_logistic.py:458: ConvergenceWarning: lbfgs failed to converge (status=1):\n",
      "STOP: TOTAL NO. of ITERATIONS REACHED LIMIT.\n",
      "\n",
      "Increase the number of iterations (max_iter) or scale the data as shown in:\n",
      "    https://scikit-learn.org/stable/modules/preprocessing.html\n",
      "Please also refer to the documentation for alternative solver options:\n",
      "    https://scikit-learn.org/stable/modules/linear_model.html#logistic-regression\n",
      "  n_iter_i = _check_optimize_result(\n"
     ]
    }
   ],
   "source": [
    "from sklearn.linear_model import LogisticRegression\n",
    "logreg = LogisticRegression()\n",
    "param_grid = {'C': [0.1, 1, 10, 100], 'penalty': ['l1', 'l2']}\n",
    "\n",
    "# Create a GridSearchCV object\n",
    "grid_search = GridSearchCV(logreg, param_grid, cv=5,verbose =2, n_jobs=-1)\n",
    "\n",
    "# Fit the GridSearchCV object to the training data\n",
    "grid_search.fit(x_train, y_train)\n",
    "y_pred = grid_search.predict(x_val)\n",
    "accuracy = accuracy_score(y_val, y_pred)\n",
    "precision = precision_score(y_val, y_pred, average='weighted')\n",
    "recall = recall_score(y_val, y_pred, average='weighted')\n",
    "f1 = f1_score(y_val, y_pred, average='weighted')\n",
    "# conf_matrix = confusion_matrix(y_val, y_pred)\n",
    "\n",
    "print(\"Accuracy: {:.2f}\".format(accuracy))\n",
    "print(\"Precision: {:.2f}\".format(precision))\n",
    "print(\"Recall: {:.2f}\".format(recall))\n",
    "print(\"F1 score: {:.2f}\".format(f1))\n",
    "# print(\"Confusion matrix:\\n\", conf_matrix)\n",
    "print(f\"Best hyperparameters: {grid_search.best_params_}\")"
   ]
  },
  {
   "cell_type": "code",
   "execution_count": null,
   "metadata": {},
   "outputs": [
    {
     "name": "stdout",
     "output_type": "stream",
     "text": [
      "Fitting 5 folds for each of 4 candidates, totalling 20 fits\n",
      "[CV] END .....................learning_rate=0.1, max_depth=3; total time=  48.7s\n",
      "[CV] END .....................learning_rate=0.1, max_depth=3; total time=  48.8s\n",
      "[CV] END .....................learning_rate=0.1, max_depth=3; total time=  48.8s\n",
      "[CV] END .....................learning_rate=0.1, max_depth=3; total time=  48.9s\n",
      "[CV] END .....................learning_rate=0.1, max_depth=3; total time=  49.0s\n",
      "[CV] END .....................learning_rate=0.1, max_depth=5; total time= 1.3min\n",
      "[CV] END .....................learning_rate=0.1, max_depth=5; total time= 1.3min\n",
      "[CV] END .....................learning_rate=0.1, max_depth=5; total time= 1.3min\n",
      "[CV] END .....................learning_rate=0.1, max_depth=5; total time= 1.3min\n",
      "[CV] END .....................learning_rate=0.1, max_depth=5; total time= 1.3min\n",
      "[CV] END ....................learning_rate=0.05, max_depth=3; total time=  49.8s\n",
      "[CV] END ....................learning_rate=0.05, max_depth=3; total time=  49.8s\n",
      "[CV] END ....................learning_rate=0.05, max_depth=3; total time=  49.7s\n",
      "[CV] END ....................learning_rate=0.05, max_depth=3; total time=  49.8s\n",
      "[CV] END ....................learning_rate=0.05, max_depth=3; total time=  50.5s\n",
      "[CV] END ....................learning_rate=0.05, max_depth=5; total time= 1.2min\n",
      "[CV] END ....................learning_rate=0.05, max_depth=5; total time= 1.2min\n",
      "[CV] END ....................learning_rate=0.05, max_depth=5; total time= 1.2min\n",
      "[CV] END ....................learning_rate=0.05, max_depth=5; total time= 1.2min\n",
      "[CV] END ....................learning_rate=0.05, max_depth=5; total time= 1.2min\n",
      "Accuracy: 0.78\n",
      "Precision: 0.77\n",
      "Recall: 0.78\n",
      "F1 score: 0.72\n",
      "Best hyperparameters: {'learning_rate': 0.1, 'max_depth': 5}\n"
     ]
    }
   ],
   "source": [
    "from sklearn.ensemble import GradientBoostingClassifier\n",
    "param_grid = {\n",
    "    'learning_rate': [0.1, 0.05],\n",
    "    'max_depth': [3, 5]\n",
    "}\n",
    "\n",
    "# Create a GBM classifier\n",
    "gbm = GradientBoostingClassifier(random_state=42)\n",
    "\n",
    "# Create a GridSearchCV object\n",
    "grid_search = GridSearchCV(gbm, param_grid, cv=5, scoring='accuracy',verbose =2, n_jobs=-1)\n",
    "\n",
    "# Fit the GridSearchCV object to the training data\n",
    "grid_search.fit(x_train, y_train)\n",
    "y_pred = grid_search.predict(x_val)\n",
    "accuracy = accuracy_score(y_val, y_pred)\n",
    "precision = precision_score(y_val, y_pred, average='weighted')\n",
    "recall = recall_score(y_val, y_pred, average='weighted')\n",
    "f1 = f1_score(y_val, y_pred, average='weighted')\n",
    "# conf_matrix = confusion_matrix(y_val, y_pred)\n",
    "\n",
    "print(\"Accuracy: {:.2f}\".format(accuracy))\n",
    "print(\"Precision: {:.2f}\".format(precision))\n",
    "print(\"Recall: {:.2f}\".format(recall))\n",
    "print(\"F1 score: {:.2f}\".format(f1))\n",
    "# print(\"Confusion matrix:\\n\", conf_matrix)\n",
    "print(f\"Best hyperparameters: {grid_search.best_params_}\")"
   ]
  },
  {
   "cell_type": "code",
   "execution_count": null,
   "metadata": {},
   "outputs": [
    {
     "data": {
      "text/plain": [
       "0.7533083777086519"
      ]
     },
     "execution_count": 61,
     "metadata": {},
     "output_type": "execute_result"
    }
   ],
   "source": [
    "1-sum(y_val == 0)/len(y_val)"
   ]
  },
  {
   "cell_type": "code",
   "execution_count": null,
   "metadata": {},
   "outputs": [
    {
     "name": "stdout",
     "output_type": "stream",
     "text": [
      "Accuracy: 0.786 (0.003)\n"
     ]
    }
   ],
   "source": [
    "from sklearn.model_selection import cross_val_score\n",
    "from sklearn.model_selection import RepeatedStratifiedKFold\n",
    "from sklearn.pipeline import Pipeline\n",
    "from sklearn.preprocessing import StandardScaler\n",
    "\n",
    "\n",
    "pipe = Pipeline(steps = \n",
    "                [('scaler', StandardScaler()),\n",
    "                 ('model', RandomForestClassifier(max_depth= 20, min_samples_split= 2, n_estimators =  200,random_state=42, n_jobs=-1))])\n",
    "\n",
    "cv = RepeatedStratifiedKFold(n_splits=10, n_repeats=3, random_state=1)\n",
    "\n",
    "scores = cross_val_score(pipe, x_train, y_train, scoring='accuracy', cv=cv, n_jobs=-1)\n",
    "\n",
    "print('Accuracy: %.3f (%.3f)' % (scores.mean(), scores.std()))"
   ]
  },
  {
   "cell_type": "code",
   "execution_count": null,
   "metadata": {},
   "outputs": [
    {
     "name": "stdout",
     "output_type": "stream",
     "text": [
      "Accuracy: 0.794\n"
     ]
    }
   ],
   "source": [
    "pipe.fit(x_train,y_train)\n",
    "y_pred = pipe.predict(x_val)\n",
    "\n",
    "# Calculate the accuracy of the predictions\n",
    "accuracy = accuracy_score(y_val, y_pred)\n",
    "\n",
    "print('Accuracy: %.3f' % accuracy)"
   ]
  },
  {
   "cell_type": "code",
   "execution_count": null,
   "metadata": {},
   "outputs": [],
   "source": [
    "import plotly.express as ply"
   ]
  },
  {
   "cell_type": "code",
   "execution_count": null,
   "metadata": {},
   "outputs": [
    {
     "data": {
      "text/plain": [
       " Source Port        0.051573\n",
       " Flow IAT Min       0.042197\n",
       "destination_ip_3    0.039048\n",
       "source_ip_4         0.038693\n",
       " Flow IAT Mean      0.037678\n",
       "                      ...   \n",
       "FIN Flag Count      0.000412\n",
       " RST Flag Count     0.000000\n",
       " Bwd URG Flags      0.000000\n",
       " Bwd PSH Flags      0.000000\n",
       " Fwd URG Flags      0.000000\n",
       "Length: 80, dtype: float64"
      ]
     },
     "execution_count": 77,
     "metadata": {},
     "output_type": "execute_result"
    }
   ],
   "source": [
    "pd.Series(data = pipe['model'].feature_importances_,index = pipe.feature_names_in_).sort_values(ascending=False)"
   ]
  },
  {
   "cell_type": "code",
   "execution_count": null,
   "metadata": {},
   "outputs": [],
   "source": [
    "feature_indicies = pipe['model'].feature_importances_.argsort()[::-1]"
   ]
  },
  {
   "cell_type": "code",
   "execution_count": null,
   "metadata": {},
   "outputs": [
    {
     "data": {
      "text/plain": [
       "array([' Source Port', ' Flow IAT Min', 'destination_ip_3', 'source_ip_4',\n",
       "       ' Flow IAT Mean', ' Flow IAT Max', ' Flow Duration',\n",
       "       'destination_ip_4', ' Flow Packets/s', 'Fwd Packets/s',\n",
       "       ' Bwd Packets/s', ' Fwd IAT Min', 'destination_ip_2',\n",
       "       ' Fwd IAT Mean', ' Fwd IAT Max', 'Fwd IAT Total', 'Flow Bytes/s',\n",
       "       'destination_ip_1', 'Init_Win_bytes_forward', ' Flow IAT Std',\n",
       "       ' Destination Port', ' Fwd IAT Std', ' Init_Win_bytes_backward',\n",
       "       ' Bwd IAT Min', ' Average Packet Size', ' Packet Length Std',\n",
       "       ' Packet Length Mean', ' Packet Length Variance',\n",
       "       ' Avg Fwd Segment Size', ' Fwd Packet Length Mean',\n",
       "       'Bwd IAT Total', ' Subflow Fwd Bytes',\n",
       "       'Total Length of Fwd Packets', ' Bwd IAT Max',\n",
       "       ' Bwd Packet Length Mean', 'source_ip_3',\n",
       "       ' Total Length of Bwd Packets', ' Avg Bwd Segment Size',\n",
       "       ' Subflow Bwd Bytes', ' Bwd IAT Mean', ' Fwd Packet Length Max',\n",
       "       ' Bwd IAT Std', ' Fwd Packet Length Std', ' Max Packet Length',\n",
       "       ' min_seg_size_forward', ' Bwd Packet Length Std', 'source_ip_1',\n",
       "       'Bwd Packet Length Max', 'source_ip_2', 'Subflow Fwd Packets',\n",
       "       ' Total Fwd Packets', ' Subflow Bwd Packets',\n",
       "       ' Total Backward Packets', ' Bwd Packet Length Min', ' Idle Min',\n",
       "       ' Idle Max', 'Idle Mean', ' Active Min', 'Active Mean',\n",
       "       ' Active Max', ' Min Packet Length', ' Fwd Packet Length Min',\n",
       "       ' act_data_pkt_fwd', ' URG Flag Count', ' Fwd Header Length.1',\n",
       "       ' Fwd Header Length', ' Down/Up Ratio', ' Bwd Header Length',\n",
       "       ' Idle Std', ' ACK Flag Count', ' Protocol', ' Active Std',\n",
       "       'Fwd PSH Flags', ' SYN Flag Count', ' PSH Flag Count',\n",
       "       'FIN Flag Count', ' Bwd PSH Flags', ' RST Flag Count',\n",
       "       ' Fwd URG Flags', ' Bwd URG Flags'], dtype=object)"
      ]
     },
     "execution_count": 69,
     "metadata": {},
     "output_type": "execute_result"
    }
   ],
   "source": [
    "pipe.feature_names_in_[feature_indicies]"
   ]
  },
  {
   "cell_type": "code",
   "execution_count": null,
   "metadata": {},
   "outputs": [
    {
     "data": {
      "application/vnd.plotly.v1+json": {
       "config": {
        "plotlyServerURL": "https://plot.ly"
       },
       "data": [
        {
         "alignmentgroup": "True",
         "hovertemplate": "variable=0<br>index=%{x}<br>value=%{y}<extra></extra>",
         "legendgroup": "0",
         "marker": {
          "color": "#636efa",
          "pattern": {
           "shape": ""
          }
         },
         "name": "0",
         "offsetgroup": "0",
         "orientation": "v",
         "showlegend": true,
         "textposition": "auto",
         "type": "bar",
         "x": [
          " Source Port",
          " Flow IAT Min",
          "destination_ip_3",
          "source_ip_4",
          " Flow IAT Mean",
          " Flow IAT Max",
          " Flow Duration",
          "destination_ip_4",
          " Flow Packets/s",
          "Fwd Packets/s",
          " Bwd Packets/s",
          " Fwd IAT Min",
          "destination_ip_2",
          " Fwd IAT Mean",
          " Fwd IAT Max",
          "Fwd IAT Total",
          "Flow Bytes/s",
          "destination_ip_1",
          "Init_Win_bytes_forward",
          " Flow IAT Std",
          " Destination Port",
          " Fwd IAT Std",
          " Init_Win_bytes_backward",
          " Bwd IAT Min",
          " Average Packet Size",
          " Packet Length Std",
          " Packet Length Mean",
          " Packet Length Variance",
          " Avg Fwd Segment Size",
          " Fwd Packet Length Mean",
          "Bwd IAT Total",
          " Subflow Fwd Bytes",
          "Total Length of Fwd Packets",
          " Bwd IAT Max",
          " Bwd Packet Length Mean",
          "source_ip_3",
          " Total Length of Bwd Packets",
          " Avg Bwd Segment Size",
          " Subflow Bwd Bytes",
          " Bwd IAT Mean",
          " Fwd Packet Length Max",
          " Bwd IAT Std",
          " Fwd Packet Length Std",
          " Max Packet Length",
          " min_seg_size_forward",
          " Bwd Packet Length Std",
          "source_ip_1",
          "Bwd Packet Length Max",
          "source_ip_2",
          "Subflow Fwd Packets",
          " Total Fwd Packets",
          " Subflow Bwd Packets",
          " Total Backward Packets",
          " Bwd Packet Length Min",
          " Idle Min",
          " Idle Max",
          "Idle Mean",
          " Active Min",
          "Active Mean",
          " Active Max",
          " Min Packet Length",
          " Fwd Packet Length Min",
          " act_data_pkt_fwd",
          " URG Flag Count",
          " Fwd Header Length.1",
          " Fwd Header Length",
          " Down/Up Ratio",
          " Bwd Header Length",
          " Idle Std",
          " ACK Flag Count",
          " Protocol",
          " Active Std",
          "Fwd PSH Flags",
          " SYN Flag Count",
          " PSH Flag Count",
          "FIN Flag Count",
          " RST Flag Count",
          " Bwd URG Flags",
          " Bwd PSH Flags",
          " Fwd URG Flags"
         ],
         "xaxis": "x",
         "y": [
          0.0515725058683357,
          0.04219739593034269,
          0.039047912213689084,
          0.03869336649394166,
          0.037677826333301495,
          0.03725423300868833,
          0.0367843424015102,
          0.03303793761126288,
          0.0321518146887023,
          0.03138410577459255,
          0.025776793399813914,
          0.025691128484605228,
          0.024172141878800152,
          0.023712035337123204,
          0.023090139020746997,
          0.02288270826607989,
          0.022231676627432258,
          0.020897621944924786,
          0.020421842426467777,
          0.016764954241708256,
          0.015907131052420715,
          0.015121956023912973,
          0.015088719456973614,
          0.01395456786579011,
          0.013063471461232776,
          0.012813745407168753,
          0.012762513424405948,
          0.012418137932148656,
          0.011308788647899885,
          0.011263789542560245,
          0.011189481905484433,
          0.011166160047568128,
          0.011101229079191357,
          0.010899250412864572,
          0.010855329526011601,
          0.010838136349164524,
          0.010767985668146128,
          0.010750466436399191,
          0.010685953634075391,
          0.010634626367517783,
          0.01039760977637842,
          0.00937265930020764,
          0.00929911564937424,
          0.008792149726385977,
          0.0075280540532427385,
          0.007069388218780944,
          0.006845965446001676,
          0.0067598447623569416,
          0.006426741335302233,
          0.006313643855437422,
          0.0061214020313328475,
          0.005388854942208453,
          0.005363412987218034,
          0.0044030961167046915,
          0.00439371840739392,
          0.004323844260195441,
          0.004295994123900392,
          0.004005573079080649,
          0.0038671557194758675,
          0.003752486065234468,
          0.003654864598756756,
          0.003385848569962187,
          0.0032510751599717914,
          0.002567866643217174,
          0.0023427851696689746,
          0.002225982386145992,
          0.0019410674481494339,
          0.0017006037306626501,
          0.0014840420892015442,
          0.0009366179367921906,
          0.0007892219540161949,
          0.0007517841960003823,
          0.0006640813292795488,
          0.0006439102867851502,
          0.0004937732800109746,
          0.00041184317215982964,
          0,
          0,
          0,
          0
         ],
         "yaxis": "y"
        }
       ],
       "layout": {
        "barmode": "relative",
        "legend": {
         "title": {
          "text": "variable"
         },
         "tracegroupgap": 0
        },
        "margin": {
         "t": 60
        },
        "template": {
         "data": {
          "bar": [
           {
            "error_x": {
             "color": "#2a3f5f"
            },
            "error_y": {
             "color": "#2a3f5f"
            },
            "marker": {
             "line": {
              "color": "#E5ECF6",
              "width": 0.5
             },
             "pattern": {
              "fillmode": "overlay",
              "size": 10,
              "solidity": 0.2
             }
            },
            "type": "bar"
           }
          ],
          "barpolar": [
           {
            "marker": {
             "line": {
              "color": "#E5ECF6",
              "width": 0.5
             },
             "pattern": {
              "fillmode": "overlay",
              "size": 10,
              "solidity": 0.2
             }
            },
            "type": "barpolar"
           }
          ],
          "carpet": [
           {
            "aaxis": {
             "endlinecolor": "#2a3f5f",
             "gridcolor": "white",
             "linecolor": "white",
             "minorgridcolor": "white",
             "startlinecolor": "#2a3f5f"
            },
            "baxis": {
             "endlinecolor": "#2a3f5f",
             "gridcolor": "white",
             "linecolor": "white",
             "minorgridcolor": "white",
             "startlinecolor": "#2a3f5f"
            },
            "type": "carpet"
           }
          ],
          "choropleth": [
           {
            "colorbar": {
             "outlinewidth": 0,
             "ticks": ""
            },
            "type": "choropleth"
           }
          ],
          "contour": [
           {
            "colorbar": {
             "outlinewidth": 0,
             "ticks": ""
            },
            "colorscale": [
             [
              0,
              "#0d0887"
             ],
             [
              0.1111111111111111,
              "#46039f"
             ],
             [
              0.2222222222222222,
              "#7201a8"
             ],
             [
              0.3333333333333333,
              "#9c179e"
             ],
             [
              0.4444444444444444,
              "#bd3786"
             ],
             [
              0.5555555555555556,
              "#d8576b"
             ],
             [
              0.6666666666666666,
              "#ed7953"
             ],
             [
              0.7777777777777778,
              "#fb9f3a"
             ],
             [
              0.8888888888888888,
              "#fdca26"
             ],
             [
              1,
              "#f0f921"
             ]
            ],
            "type": "contour"
           }
          ],
          "contourcarpet": [
           {
            "colorbar": {
             "outlinewidth": 0,
             "ticks": ""
            },
            "type": "contourcarpet"
           }
          ],
          "heatmap": [
           {
            "colorbar": {
             "outlinewidth": 0,
             "ticks": ""
            },
            "colorscale": [
             [
              0,
              "#0d0887"
             ],
             [
              0.1111111111111111,
              "#46039f"
             ],
             [
              0.2222222222222222,
              "#7201a8"
             ],
             [
              0.3333333333333333,
              "#9c179e"
             ],
             [
              0.4444444444444444,
              "#bd3786"
             ],
             [
              0.5555555555555556,
              "#d8576b"
             ],
             [
              0.6666666666666666,
              "#ed7953"
             ],
             [
              0.7777777777777778,
              "#fb9f3a"
             ],
             [
              0.8888888888888888,
              "#fdca26"
             ],
             [
              1,
              "#f0f921"
             ]
            ],
            "type": "heatmap"
           }
          ],
          "heatmapgl": [
           {
            "colorbar": {
             "outlinewidth": 0,
             "ticks": ""
            },
            "colorscale": [
             [
              0,
              "#0d0887"
             ],
             [
              0.1111111111111111,
              "#46039f"
             ],
             [
              0.2222222222222222,
              "#7201a8"
             ],
             [
              0.3333333333333333,
              "#9c179e"
             ],
             [
              0.4444444444444444,
              "#bd3786"
             ],
             [
              0.5555555555555556,
              "#d8576b"
             ],
             [
              0.6666666666666666,
              "#ed7953"
             ],
             [
              0.7777777777777778,
              "#fb9f3a"
             ],
             [
              0.8888888888888888,
              "#fdca26"
             ],
             [
              1,
              "#f0f921"
             ]
            ],
            "type": "heatmapgl"
           }
          ],
          "histogram": [
           {
            "marker": {
             "pattern": {
              "fillmode": "overlay",
              "size": 10,
              "solidity": 0.2
             }
            },
            "type": "histogram"
           }
          ],
          "histogram2d": [
           {
            "colorbar": {
             "outlinewidth": 0,
             "ticks": ""
            },
            "colorscale": [
             [
              0,
              "#0d0887"
             ],
             [
              0.1111111111111111,
              "#46039f"
             ],
             [
              0.2222222222222222,
              "#7201a8"
             ],
             [
              0.3333333333333333,
              "#9c179e"
             ],
             [
              0.4444444444444444,
              "#bd3786"
             ],
             [
              0.5555555555555556,
              "#d8576b"
             ],
             [
              0.6666666666666666,
              "#ed7953"
             ],
             [
              0.7777777777777778,
              "#fb9f3a"
             ],
             [
              0.8888888888888888,
              "#fdca26"
             ],
             [
              1,
              "#f0f921"
             ]
            ],
            "type": "histogram2d"
           }
          ],
          "histogram2dcontour": [
           {
            "colorbar": {
             "outlinewidth": 0,
             "ticks": ""
            },
            "colorscale": [
             [
              0,
              "#0d0887"
             ],
             [
              0.1111111111111111,
              "#46039f"
             ],
             [
              0.2222222222222222,
              "#7201a8"
             ],
             [
              0.3333333333333333,
              "#9c179e"
             ],
             [
              0.4444444444444444,
              "#bd3786"
             ],
             [
              0.5555555555555556,
              "#d8576b"
             ],
             [
              0.6666666666666666,
              "#ed7953"
             ],
             [
              0.7777777777777778,
              "#fb9f3a"
             ],
             [
              0.8888888888888888,
              "#fdca26"
             ],
             [
              1,
              "#f0f921"
             ]
            ],
            "type": "histogram2dcontour"
           }
          ],
          "mesh3d": [
           {
            "colorbar": {
             "outlinewidth": 0,
             "ticks": ""
            },
            "type": "mesh3d"
           }
          ],
          "parcoords": [
           {
            "line": {
             "colorbar": {
              "outlinewidth": 0,
              "ticks": ""
             }
            },
            "type": "parcoords"
           }
          ],
          "pie": [
           {
            "automargin": true,
            "type": "pie"
           }
          ],
          "scatter": [
           {
            "fillpattern": {
             "fillmode": "overlay",
             "size": 10,
             "solidity": 0.2
            },
            "type": "scatter"
           }
          ],
          "scatter3d": [
           {
            "line": {
             "colorbar": {
              "outlinewidth": 0,
              "ticks": ""
             }
            },
            "marker": {
             "colorbar": {
              "outlinewidth": 0,
              "ticks": ""
             }
            },
            "type": "scatter3d"
           }
          ],
          "scattercarpet": [
           {
            "marker": {
             "colorbar": {
              "outlinewidth": 0,
              "ticks": ""
             }
            },
            "type": "scattercarpet"
           }
          ],
          "scattergeo": [
           {
            "marker": {
             "colorbar": {
              "outlinewidth": 0,
              "ticks": ""
             }
            },
            "type": "scattergeo"
           }
          ],
          "scattergl": [
           {
            "marker": {
             "colorbar": {
              "outlinewidth": 0,
              "ticks": ""
             }
            },
            "type": "scattergl"
           }
          ],
          "scattermapbox": [
           {
            "marker": {
             "colorbar": {
              "outlinewidth": 0,
              "ticks": ""
             }
            },
            "type": "scattermapbox"
           }
          ],
          "scatterpolar": [
           {
            "marker": {
             "colorbar": {
              "outlinewidth": 0,
              "ticks": ""
             }
            },
            "type": "scatterpolar"
           }
          ],
          "scatterpolargl": [
           {
            "marker": {
             "colorbar": {
              "outlinewidth": 0,
              "ticks": ""
             }
            },
            "type": "scatterpolargl"
           }
          ],
          "scatterternary": [
           {
            "marker": {
             "colorbar": {
              "outlinewidth": 0,
              "ticks": ""
             }
            },
            "type": "scatterternary"
           }
          ],
          "surface": [
           {
            "colorbar": {
             "outlinewidth": 0,
             "ticks": ""
            },
            "colorscale": [
             [
              0,
              "#0d0887"
             ],
             [
              0.1111111111111111,
              "#46039f"
             ],
             [
              0.2222222222222222,
              "#7201a8"
             ],
             [
              0.3333333333333333,
              "#9c179e"
             ],
             [
              0.4444444444444444,
              "#bd3786"
             ],
             [
              0.5555555555555556,
              "#d8576b"
             ],
             [
              0.6666666666666666,
              "#ed7953"
             ],
             [
              0.7777777777777778,
              "#fb9f3a"
             ],
             [
              0.8888888888888888,
              "#fdca26"
             ],
             [
              1,
              "#f0f921"
             ]
            ],
            "type": "surface"
           }
          ],
          "table": [
           {
            "cells": {
             "fill": {
              "color": "#EBF0F8"
             },
             "line": {
              "color": "white"
             }
            },
            "header": {
             "fill": {
              "color": "#C8D4E3"
             },
             "line": {
              "color": "white"
             }
            },
            "type": "table"
           }
          ]
         },
         "layout": {
          "annotationdefaults": {
           "arrowcolor": "#2a3f5f",
           "arrowhead": 0,
           "arrowwidth": 1
          },
          "autotypenumbers": "strict",
          "coloraxis": {
           "colorbar": {
            "outlinewidth": 0,
            "ticks": ""
           }
          },
          "colorscale": {
           "diverging": [
            [
             0,
             "#8e0152"
            ],
            [
             0.1,
             "#c51b7d"
            ],
            [
             0.2,
             "#de77ae"
            ],
            [
             0.3,
             "#f1b6da"
            ],
            [
             0.4,
             "#fde0ef"
            ],
            [
             0.5,
             "#f7f7f7"
            ],
            [
             0.6,
             "#e6f5d0"
            ],
            [
             0.7,
             "#b8e186"
            ],
            [
             0.8,
             "#7fbc41"
            ],
            [
             0.9,
             "#4d9221"
            ],
            [
             1,
             "#276419"
            ]
           ],
           "sequential": [
            [
             0,
             "#0d0887"
            ],
            [
             0.1111111111111111,
             "#46039f"
            ],
            [
             0.2222222222222222,
             "#7201a8"
            ],
            [
             0.3333333333333333,
             "#9c179e"
            ],
            [
             0.4444444444444444,
             "#bd3786"
            ],
            [
             0.5555555555555556,
             "#d8576b"
            ],
            [
             0.6666666666666666,
             "#ed7953"
            ],
            [
             0.7777777777777778,
             "#fb9f3a"
            ],
            [
             0.8888888888888888,
             "#fdca26"
            ],
            [
             1,
             "#f0f921"
            ]
           ],
           "sequentialminus": [
            [
             0,
             "#0d0887"
            ],
            [
             0.1111111111111111,
             "#46039f"
            ],
            [
             0.2222222222222222,
             "#7201a8"
            ],
            [
             0.3333333333333333,
             "#9c179e"
            ],
            [
             0.4444444444444444,
             "#bd3786"
            ],
            [
             0.5555555555555556,
             "#d8576b"
            ],
            [
             0.6666666666666666,
             "#ed7953"
            ],
            [
             0.7777777777777778,
             "#fb9f3a"
            ],
            [
             0.8888888888888888,
             "#fdca26"
            ],
            [
             1,
             "#f0f921"
            ]
           ]
          },
          "colorway": [
           "#636efa",
           "#EF553B",
           "#00cc96",
           "#ab63fa",
           "#FFA15A",
           "#19d3f3",
           "#FF6692",
           "#B6E880",
           "#FF97FF",
           "#FECB52"
          ],
          "font": {
           "color": "#2a3f5f"
          },
          "geo": {
           "bgcolor": "white",
           "lakecolor": "white",
           "landcolor": "#E5ECF6",
           "showlakes": true,
           "showland": true,
           "subunitcolor": "white"
          },
          "hoverlabel": {
           "align": "left"
          },
          "hovermode": "closest",
          "mapbox": {
           "style": "light"
          },
          "paper_bgcolor": "white",
          "plot_bgcolor": "#E5ECF6",
          "polar": {
           "angularaxis": {
            "gridcolor": "white",
            "linecolor": "white",
            "ticks": ""
           },
           "bgcolor": "#E5ECF6",
           "radialaxis": {
            "gridcolor": "white",
            "linecolor": "white",
            "ticks": ""
           }
          },
          "scene": {
           "xaxis": {
            "backgroundcolor": "#E5ECF6",
            "gridcolor": "white",
            "gridwidth": 2,
            "linecolor": "white",
            "showbackground": true,
            "ticks": "",
            "zerolinecolor": "white"
           },
           "yaxis": {
            "backgroundcolor": "#E5ECF6",
            "gridcolor": "white",
            "gridwidth": 2,
            "linecolor": "white",
            "showbackground": true,
            "ticks": "",
            "zerolinecolor": "white"
           },
           "zaxis": {
            "backgroundcolor": "#E5ECF6",
            "gridcolor": "white",
            "gridwidth": 2,
            "linecolor": "white",
            "showbackground": true,
            "ticks": "",
            "zerolinecolor": "white"
           }
          },
          "shapedefaults": {
           "line": {
            "color": "#2a3f5f"
           }
          },
          "ternary": {
           "aaxis": {
            "gridcolor": "white",
            "linecolor": "white",
            "ticks": ""
           },
           "baxis": {
            "gridcolor": "white",
            "linecolor": "white",
            "ticks": ""
           },
           "bgcolor": "#E5ECF6",
           "caxis": {
            "gridcolor": "white",
            "linecolor": "white",
            "ticks": ""
           }
          },
          "title": {
           "x": 0.05
          },
          "xaxis": {
           "automargin": true,
           "gridcolor": "white",
           "linecolor": "white",
           "ticks": "",
           "title": {
            "standoff": 15
           },
           "zerolinecolor": "white",
           "zerolinewidth": 2
          },
          "yaxis": {
           "automargin": true,
           "gridcolor": "white",
           "linecolor": "white",
           "ticks": "",
           "title": {
            "standoff": 15
           },
           "zerolinecolor": "white",
           "zerolinewidth": 2
          }
         }
        },
        "xaxis": {
         "anchor": "y",
         "domain": [
          0,
          1
         ],
         "title": {
          "text": "index"
         }
        },
        "yaxis": {
         "anchor": "x",
         "domain": [
          0,
          1
         ],
         "title": {
          "text": "value"
         }
        }
       }
      }
     },
     "metadata": {},
     "output_type": "display_data"
    }
   ],
   "source": [
    "ply.bar(pd.Series(data = pipe['model'].feature_importances_,index = pipe.feature_names_in_).sort_values(ascending=False))"
   ]
  },
  {
   "cell_type": "code",
   "execution_count": null,
   "metadata": {},
   "outputs": [],
   "source": []
  }
 ],
 "metadata": {
  "kernelspec": {
   "display_name": "Python 3 (ipykernel)",
   "language": "python",
   "name": "python3"
  },
  "language_info": {
   "codemirror_mode": {
    "name": "ipython",
    "version": 3
   },
   "file_extension": ".py",
   "mimetype": "text/x-python",
   "name": "python",
   "nbconvert_exporter": "python",
   "pygments_lexer": "ipython3",
   "version": "3.9.15"
  }
 },
 "nbformat": 4,
 "nbformat_minor": 2
}
