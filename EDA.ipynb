{
 "cells": [
  {
   "cell_type": "code",
   "execution_count": 1,
   "id": "b986c388",
   "metadata": {},
   "outputs": [],
   "source": [
    "import pandas as pd\n",
    "import altair as alt\n",
    "import numpy as np"
   ]
  },
  {
   "cell_type": "code",
   "execution_count": 2,
   "id": "75f221dc",
   "metadata": {},
   "outputs": [
    {
     "name": "stderr",
     "output_type": "stream",
     "text": [
      "/var/folders/rl/dnlq62k50fd_dd8959xr62nh0000gn/T/ipykernel_7844/4158951998.py:1: DtypeWarning: Columns (56,58,63) have mixed types. Specify dtype option on import or set low_memory=False.\n",
      "  df = pd.read_csv(\"Android_Malware.csv\",)\n"
     ]
    }
   ],
   "source": [
    "df = pd.read_csv(\"Android_Malware.csv\",)"
   ]
  },
  {
   "cell_type": "code",
   "execution_count": 3,
   "id": "deeb5591",
   "metadata": {
    "scrolled": true
   },
   "outputs": [
    {
     "data": {
      "text/html": [
       "<div>\n",
       "<style scoped>\n",
       "    .dataframe tbody tr th:only-of-type {\n",
       "        vertical-align: middle;\n",
       "    }\n",
       "\n",
       "    .dataframe tbody tr th {\n",
       "        vertical-align: top;\n",
       "    }\n",
       "\n",
       "    .dataframe thead th {\n",
       "        text-align: right;\n",
       "    }\n",
       "</style>\n",
       "<table border=\"1\" class=\"dataframe\">\n",
       "  <thead>\n",
       "    <tr style=\"text-align: right;\">\n",
       "      <th></th>\n",
       "      <th>Unnamed: 0</th>\n",
       "      <th>Flow ID</th>\n",
       "      <th>Source IP</th>\n",
       "      <th>Source Port</th>\n",
       "      <th>Destination IP</th>\n",
       "      <th>Destination Port</th>\n",
       "      <th>Protocol</th>\n",
       "      <th>Timestamp</th>\n",
       "      <th>Flow Duration</th>\n",
       "      <th>Total Fwd Packets</th>\n",
       "      <th>...</th>\n",
       "      <th>min_seg_size_forward</th>\n",
       "      <th>Active Mean</th>\n",
       "      <th>Active Std</th>\n",
       "      <th>Active Max</th>\n",
       "      <th>Active Min</th>\n",
       "      <th>Idle Mean</th>\n",
       "      <th>Idle Std</th>\n",
       "      <th>Idle Max</th>\n",
       "      <th>Idle Min</th>\n",
       "      <th>Label</th>\n",
       "    </tr>\n",
       "  </thead>\n",
       "  <tbody>\n",
       "    <tr>\n",
       "      <th>0</th>\n",
       "      <td>0</td>\n",
       "      <td>172.217.6.202-10.42.0.211-443-50004-6</td>\n",
       "      <td>10.42.0.211</td>\n",
       "      <td>50004</td>\n",
       "      <td>172.217.6.202</td>\n",
       "      <td>443.0</td>\n",
       "      <td>6.0</td>\n",
       "      <td>13/06/2017 11:52:39</td>\n",
       "      <td>37027</td>\n",
       "      <td>1</td>\n",
       "      <td>...</td>\n",
       "      <td>32.0</td>\n",
       "      <td>0.0</td>\n",
       "      <td>0.0</td>\n",
       "      <td>0.0</td>\n",
       "      <td>0.0</td>\n",
       "      <td>0.0</td>\n",
       "      <td>0.0</td>\n",
       "      <td>0.0</td>\n",
       "      <td>0.0</td>\n",
       "      <td>Android_Adware</td>\n",
       "    </tr>\n",
       "    <tr>\n",
       "      <th>1</th>\n",
       "      <td>1</td>\n",
       "      <td>172.217.6.202-10.42.0.211-443-35455-6</td>\n",
       "      <td>10.42.0.211</td>\n",
       "      <td>35455</td>\n",
       "      <td>172.217.6.202</td>\n",
       "      <td>443.0</td>\n",
       "      <td>6.0</td>\n",
       "      <td>13/06/2017 11:52:39</td>\n",
       "      <td>36653</td>\n",
       "      <td>1</td>\n",
       "      <td>...</td>\n",
       "      <td>32.0</td>\n",
       "      <td>0.0</td>\n",
       "      <td>0.0</td>\n",
       "      <td>0.0</td>\n",
       "      <td>0.0</td>\n",
       "      <td>0.0</td>\n",
       "      <td>0.0</td>\n",
       "      <td>0.0</td>\n",
       "      <td>0.0</td>\n",
       "      <td>Android_Adware</td>\n",
       "    </tr>\n",
       "    <tr>\n",
       "      <th>2</th>\n",
       "      <td>2</td>\n",
       "      <td>131.253.61.68-10.42.0.211-443-51775-6</td>\n",
       "      <td>10.42.0.211</td>\n",
       "      <td>51775</td>\n",
       "      <td>131.253.61.68</td>\n",
       "      <td>443.0</td>\n",
       "      <td>6.0</td>\n",
       "      <td>13/06/2017 11:52:42</td>\n",
       "      <td>534099</td>\n",
       "      <td>8</td>\n",
       "      <td>...</td>\n",
       "      <td>20.0</td>\n",
       "      <td>0.0</td>\n",
       "      <td>0.0</td>\n",
       "      <td>0.0</td>\n",
       "      <td>0.0</td>\n",
       "      <td>0.0</td>\n",
       "      <td>0.0</td>\n",
       "      <td>0.0</td>\n",
       "      <td>0.0</td>\n",
       "      <td>Android_Adware</td>\n",
       "    </tr>\n",
       "    <tr>\n",
       "      <th>3</th>\n",
       "      <td>3</td>\n",
       "      <td>131.253.61.68-10.42.0.211-443-51775-6</td>\n",
       "      <td>10.42.0.211</td>\n",
       "      <td>51775</td>\n",
       "      <td>131.253.61.68</td>\n",
       "      <td>443.0</td>\n",
       "      <td>6.0</td>\n",
       "      <td>13/06/2017 11:52:43</td>\n",
       "      <td>9309</td>\n",
       "      <td>3</td>\n",
       "      <td>...</td>\n",
       "      <td>20.0</td>\n",
       "      <td>0.0</td>\n",
       "      <td>0.0</td>\n",
       "      <td>0.0</td>\n",
       "      <td>0.0</td>\n",
       "      <td>0.0</td>\n",
       "      <td>0.0</td>\n",
       "      <td>0.0</td>\n",
       "      <td>0.0</td>\n",
       "      <td>Android_Adware</td>\n",
       "    </tr>\n",
       "    <tr>\n",
       "      <th>4</th>\n",
       "      <td>4</td>\n",
       "      <td>131.253.61.68-10.42.0.211-443-51776-6</td>\n",
       "      <td>10.42.0.211</td>\n",
       "      <td>51776</td>\n",
       "      <td>131.253.61.68</td>\n",
       "      <td>443.0</td>\n",
       "      <td>6.0</td>\n",
       "      <td>13/06/2017 11:52:42</td>\n",
       "      <td>19890496</td>\n",
       "      <td>8</td>\n",
       "      <td>...</td>\n",
       "      <td>20.0</td>\n",
       "      <td>0.0</td>\n",
       "      <td>0.0</td>\n",
       "      <td>0.0</td>\n",
       "      <td>0.0</td>\n",
       "      <td>0.0</td>\n",
       "      <td>0.0</td>\n",
       "      <td>0.0</td>\n",
       "      <td>0.0</td>\n",
       "      <td>Android_Adware</td>\n",
       "    </tr>\n",
       "  </tbody>\n",
       "</table>\n",
       "<p>5 rows × 86 columns</p>\n",
       "</div>"
      ],
      "text/plain": [
       "   Unnamed: 0                                Flow ID    Source IP  \\\n",
       "0           0  172.217.6.202-10.42.0.211-443-50004-6  10.42.0.211   \n",
       "1           1  172.217.6.202-10.42.0.211-443-35455-6  10.42.0.211   \n",
       "2           2  131.253.61.68-10.42.0.211-443-51775-6  10.42.0.211   \n",
       "3           3  131.253.61.68-10.42.0.211-443-51775-6  10.42.0.211   \n",
       "4           4  131.253.61.68-10.42.0.211-443-51776-6  10.42.0.211   \n",
       "\n",
       "    Source Port  Destination IP   Destination Port   Protocol  \\\n",
       "0         50004   172.217.6.202              443.0        6.0   \n",
       "1         35455   172.217.6.202              443.0        6.0   \n",
       "2         51775   131.253.61.68              443.0        6.0   \n",
       "3         51775   131.253.61.68              443.0        6.0   \n",
       "4         51776   131.253.61.68              443.0        6.0   \n",
       "\n",
       "             Timestamp   Flow Duration   Total Fwd Packets  ...  \\\n",
       "0  13/06/2017 11:52:39           37027                   1  ...   \n",
       "1  13/06/2017 11:52:39           36653                   1  ...   \n",
       "2  13/06/2017 11:52:42          534099                   8  ...   \n",
       "3  13/06/2017 11:52:43            9309                   3  ...   \n",
       "4  13/06/2017 11:52:42        19890496                   8  ...   \n",
       "\n",
       "    min_seg_size_forward  Active Mean   Active Std   Active Max   Active Min  \\\n",
       "0                   32.0          0.0          0.0          0.0          0.0   \n",
       "1                   32.0          0.0          0.0          0.0          0.0   \n",
       "2                   20.0          0.0          0.0          0.0          0.0   \n",
       "3                   20.0          0.0          0.0          0.0          0.0   \n",
       "4                   20.0          0.0          0.0          0.0          0.0   \n",
       "\n",
       "   Idle Mean   Idle Std   Idle Max   Idle Min           Label  \n",
       "0        0.0        0.0        0.0        0.0  Android_Adware  \n",
       "1        0.0        0.0        0.0        0.0  Android_Adware  \n",
       "2        0.0        0.0        0.0        0.0  Android_Adware  \n",
       "3        0.0        0.0        0.0        0.0  Android_Adware  \n",
       "4        0.0        0.0        0.0        0.0  Android_Adware  \n",
       "\n",
       "[5 rows x 86 columns]"
      ]
     },
     "execution_count": 3,
     "metadata": {},
     "output_type": "execute_result"
    }
   ],
   "source": [
    "df.head()"
   ]
  },
  {
   "cell_type": "code",
   "execution_count": 4,
   "id": "0f878a11",
   "metadata": {},
   "outputs": [],
   "source": [
    "df.drop(\"Unnamed: 0\",axis = 1,inplace = True)"
   ]
  },
  {
   "cell_type": "code",
   "execution_count": 5,
   "id": "bcd1a46a",
   "metadata": {},
   "outputs": [
    {
     "data": {
      "text/html": [
       "<div>\n",
       "<style scoped>\n",
       "    .dataframe tbody tr th:only-of-type {\n",
       "        vertical-align: middle;\n",
       "    }\n",
       "\n",
       "    .dataframe tbody tr th {\n",
       "        vertical-align: top;\n",
       "    }\n",
       "\n",
       "    .dataframe thead th {\n",
       "        text-align: right;\n",
       "    }\n",
       "</style>\n",
       "<table border=\"1\" class=\"dataframe\">\n",
       "  <thead>\n",
       "    <tr style=\"text-align: right;\">\n",
       "      <th></th>\n",
       "      <th>Flow ID</th>\n",
       "      <th>Source IP</th>\n",
       "      <th>Source Port</th>\n",
       "      <th>Destination IP</th>\n",
       "      <th>Destination Port</th>\n",
       "      <th>Protocol</th>\n",
       "      <th>Timestamp</th>\n",
       "      <th>Flow Duration</th>\n",
       "      <th>Total Fwd Packets</th>\n",
       "      <th>Total Backward Packets</th>\n",
       "      <th>...</th>\n",
       "      <th>min_seg_size_forward</th>\n",
       "      <th>Active Mean</th>\n",
       "      <th>Active Std</th>\n",
       "      <th>Active Max</th>\n",
       "      <th>Active Min</th>\n",
       "      <th>Idle Mean</th>\n",
       "      <th>Idle Std</th>\n",
       "      <th>Idle Max</th>\n",
       "      <th>Idle Min</th>\n",
       "      <th>Label</th>\n",
       "    </tr>\n",
       "  </thead>\n",
       "  <tbody>\n",
       "    <tr>\n",
       "      <th>258240</th>\n",
       "      <td>203.205.158.60-10.42.0.211-80-48574-6</td>\n",
       "      <td>203.205.158.60</td>\n",
       "      <td>80</td>\n",
       "      <td>10.42.0.211</td>\n",
       "      <td>48574.0</td>\n",
       "      <td>6.0</td>\n",
       "      <td>27/06/2017 02:23:49</td>\n",
       "      <td>4</td>\n",
       "      <td>2</td>\n",
       "      <td>0</td>\n",
       "      <td>...</td>\n",
       "      <td>32.0</td>\n",
       "      <td>0.0</td>\n",
       "      <td>0.0</td>\n",
       "      <td>0.0</td>\n",
       "      <td>0.0</td>\n",
       "      <td>0.0</td>\n",
       "      <td>0.0</td>\n",
       "      <td>0.0</td>\n",
       "      <td>0.0</td>\n",
       "      <td>Android_Scareware</td>\n",
       "    </tr>\n",
       "    <tr>\n",
       "      <th>258244</th>\n",
       "      <td>10.42.0.211-111.206.25.159-33521-80-6</td>\n",
       "      <td>111.206.25.159</td>\n",
       "      <td>80</td>\n",
       "      <td>10.42.0.211</td>\n",
       "      <td>33521.0</td>\n",
       "      <td>6.0</td>\n",
       "      <td>27/06/2017 02:23:49</td>\n",
       "      <td>8</td>\n",
       "      <td>2</td>\n",
       "      <td>0</td>\n",
       "      <td>...</td>\n",
       "      <td>20.0</td>\n",
       "      <td>0.0</td>\n",
       "      <td>0.0</td>\n",
       "      <td>0.0</td>\n",
       "      <td>0.0</td>\n",
       "      <td>0.0</td>\n",
       "      <td>0.0</td>\n",
       "      <td>0.0</td>\n",
       "      <td>0.0</td>\n",
       "      <td>Android_Scareware</td>\n",
       "    </tr>\n",
       "    <tr>\n",
       "      <th>258588</th>\n",
       "      <td>10.42.0.211-106.39.169.66-38659-443-6</td>\n",
       "      <td>10.42.0.211</td>\n",
       "      <td>38659</td>\n",
       "      <td>106.39.169.66</td>\n",
       "      <td>443.0</td>\n",
       "      <td>6.0</td>\n",
       "      <td>27/06/2017 02:29:27</td>\n",
       "      <td>5</td>\n",
       "      <td>2</td>\n",
       "      <td>0</td>\n",
       "      <td>...</td>\n",
       "      <td>20.0</td>\n",
       "      <td>0.0</td>\n",
       "      <td>0.0</td>\n",
       "      <td>0.0</td>\n",
       "      <td>0.0</td>\n",
       "      <td>0.0</td>\n",
       "      <td>0.0</td>\n",
       "      <td>0.0</td>\n",
       "      <td>0.0</td>\n",
       "      <td>Android_Scareware</td>\n",
       "    </tr>\n",
       "    <tr>\n",
       "      <th>258625</th>\n",
       "      <td>10.42.0.211-119.146.74.34-36805-80-6</td>\n",
       "      <td>119.146.74.34</td>\n",
       "      <td>80</td>\n",
       "      <td>10.42.0.211</td>\n",
       "      <td>36805.0</td>\n",
       "      <td>6.0</td>\n",
       "      <td>27/06/2017 02:29:30</td>\n",
       "      <td>10</td>\n",
       "      <td>2</td>\n",
       "      <td>0</td>\n",
       "      <td>...</td>\n",
       "      <td>20.0</td>\n",
       "      <td>0.0</td>\n",
       "      <td>0.0</td>\n",
       "      <td>0.0</td>\n",
       "      <td>0.0</td>\n",
       "      <td>0.0</td>\n",
       "      <td>0.0</td>\n",
       "      <td>0.0</td>\n",
       "      <td>0.0</td>\n",
       "      <td>Android_Scareware</td>\n",
       "    </tr>\n",
       "    <tr>\n",
       "      <th>258626</th>\n",
       "      <td>10.42.0.211-119.146.74.48-33523-80-6</td>\n",
       "      <td>119.146.74.48</td>\n",
       "      <td>80</td>\n",
       "      <td>10.42.0.211</td>\n",
       "      <td>33523.0</td>\n",
       "      <td>6.0</td>\n",
       "      <td>27/06/2017 02:29:30</td>\n",
       "      <td>8</td>\n",
       "      <td>2</td>\n",
       "      <td>0</td>\n",
       "      <td>...</td>\n",
       "      <td>20.0</td>\n",
       "      <td>0.0</td>\n",
       "      <td>0.0</td>\n",
       "      <td>0.0</td>\n",
       "      <td>0.0</td>\n",
       "      <td>0.0</td>\n",
       "      <td>0.0</td>\n",
       "      <td>0.0</td>\n",
       "      <td>0.0</td>\n",
       "      <td>Android_Scareware</td>\n",
       "    </tr>\n",
       "    <tr>\n",
       "      <th>...</th>\n",
       "      <td>...</td>\n",
       "      <td>...</td>\n",
       "      <td>...</td>\n",
       "      <td>...</td>\n",
       "      <td>...</td>\n",
       "      <td>...</td>\n",
       "      <td>...</td>\n",
       "      <td>...</td>\n",
       "      <td>...</td>\n",
       "      <td>...</td>\n",
       "      <td>...</td>\n",
       "      <td>...</td>\n",
       "      <td>...</td>\n",
       "      <td>...</td>\n",
       "      <td>...</td>\n",
       "      <td>...</td>\n",
       "      <td>...</td>\n",
       "      <td>...</td>\n",
       "      <td>...</td>\n",
       "      <td>...</td>\n",
       "      <td>...</td>\n",
       "    </tr>\n",
       "    <tr>\n",
       "      <th>328145</th>\n",
       "      <td>10.42.0.211-118.178.143.65-50070-80-6</td>\n",
       "      <td>10.42.0.211</td>\n",
       "      <td>50070</td>\n",
       "      <td>118.178.143.65</td>\n",
       "      <td>80.0</td>\n",
       "      <td>6.0</td>\n",
       "      <td>30/06/2017 02:48:06</td>\n",
       "      <td>8769698</td>\n",
       "      <td>4</td>\n",
       "      <td>4</td>\n",
       "      <td>...</td>\n",
       "      <td>32.0</td>\n",
       "      <td>0.0</td>\n",
       "      <td>0.0</td>\n",
       "      <td>0.0</td>\n",
       "      <td>0.0</td>\n",
       "      <td>0.0</td>\n",
       "      <td>0.0</td>\n",
       "      <td>0.0</td>\n",
       "      <td>0.0</td>\n",
       "      <td>Android_SMS_Malware</td>\n",
       "    </tr>\n",
       "    <tr>\n",
       "      <th>328146</th>\n",
       "      <td>140.205.61.26-10.42.0.211-80-47648-6</td>\n",
       "      <td>10.42.0.211</td>\n",
       "      <td>47648</td>\n",
       "      <td>140.205.61.26</td>\n",
       "      <td>80.0</td>\n",
       "      <td>6.0</td>\n",
       "      <td>30/06/2017 02:48:17</td>\n",
       "      <td>892843</td>\n",
       "      <td>5</td>\n",
       "      <td>6</td>\n",
       "      <td>...</td>\n",
       "      <td>20.0</td>\n",
       "      <td>0.0</td>\n",
       "      <td>0.0</td>\n",
       "      <td>0.0</td>\n",
       "      <td>0.0</td>\n",
       "      <td>0.0</td>\n",
       "      <td>0.0</td>\n",
       "      <td>0.0</td>\n",
       "      <td>0.0</td>\n",
       "      <td>Android_SMS_Malware</td>\n",
       "    </tr>\n",
       "    <tr>\n",
       "      <th>328147</th>\n",
       "      <td>140.205.61.26-10.42.0.211-80-47648-6</td>\n",
       "      <td>10.42.0.211</td>\n",
       "      <td>47648</td>\n",
       "      <td>140.205.61.26</td>\n",
       "      <td>80.0</td>\n",
       "      <td>6.0</td>\n",
       "      <td>30/06/2017 02:48:18</td>\n",
       "      <td>109</td>\n",
       "      <td>2</td>\n",
       "      <td>0</td>\n",
       "      <td>...</td>\n",
       "      <td>20.0</td>\n",
       "      <td>0.0</td>\n",
       "      <td>0.0</td>\n",
       "      <td>0.0</td>\n",
       "      <td>0.0</td>\n",
       "      <td>0.0</td>\n",
       "      <td>0.0</td>\n",
       "      <td>0.0</td>\n",
       "      <td>0.0</td>\n",
       "      <td>Android_SMS_Malware</td>\n",
       "    </tr>\n",
       "    <tr>\n",
       "      <th>328148</th>\n",
       "      <td>10.42.0.211-121.41.62.82-44183-1088-6</td>\n",
       "      <td>10.42.0.211</td>\n",
       "      <td>44183</td>\n",
       "      <td>121.41.62.82</td>\n",
       "      <td>1088.0</td>\n",
       "      <td>6.0</td>\n",
       "      <td>30/06/2017 02:48:17</td>\n",
       "      <td>12192623</td>\n",
       "      <td>2</td>\n",
       "      <td>0</td>\n",
       "      <td>...</td>\n",
       "      <td>32.0</td>\n",
       "      <td>0.0</td>\n",
       "      <td>0.0</td>\n",
       "      <td>0.0</td>\n",
       "      <td>0.0</td>\n",
       "      <td>0.0</td>\n",
       "      <td>0.0</td>\n",
       "      <td>0.0</td>\n",
       "      <td>0.0</td>\n",
       "      <td>Android_SMS_Malware</td>\n",
       "    </tr>\n",
       "    <tr>\n",
       "      <th>328149</th>\n",
       "      <td>10.42.0.211-101.37.105.10-48779-6880-6</td>\n",
       "      <td>10.42.0.211</td>\n",
       "      <td>48779</td>\n",
       "      <td>101.37.105.10</td>\n",
       "      <td>6880.0</td>\n",
       "      <td>6.0</td>\n",
       "      <td>30/06/2017 02:48:21</td>\n",
       "      <td>16057007</td>\n",
       "      <td>2</td>\n",
       "      <td>0</td>\n",
       "      <td>...</td>\n",
       "      <td>20.0</td>\n",
       "      <td>0.0</td>\n",
       "      <td>0.0</td>\n",
       "      <td>0.0</td>\n",
       "      <td>0.0</td>\n",
       "      <td>0.0</td>\n",
       "      <td>0.0</td>\n",
       "      <td>0.0</td>\n",
       "      <td>0.0</td>\n",
       "      <td>Android_SMS_Malware</td>\n",
       "    </tr>\n",
       "  </tbody>\n",
       "</table>\n",
       "<p>2885 rows × 85 columns</p>\n",
       "</div>"
      ],
      "text/plain": [
       "                                       Flow ID       Source IP   Source Port  \\\n",
       "258240   203.205.158.60-10.42.0.211-80-48574-6  203.205.158.60            80   \n",
       "258244   10.42.0.211-111.206.25.159-33521-80-6  111.206.25.159            80   \n",
       "258588   10.42.0.211-106.39.169.66-38659-443-6     10.42.0.211         38659   \n",
       "258625    10.42.0.211-119.146.74.34-36805-80-6   119.146.74.34            80   \n",
       "258626    10.42.0.211-119.146.74.48-33523-80-6   119.146.74.48            80   \n",
       "...                                        ...             ...           ...   \n",
       "328145   10.42.0.211-118.178.143.65-50070-80-6     10.42.0.211         50070   \n",
       "328146    140.205.61.26-10.42.0.211-80-47648-6     10.42.0.211         47648   \n",
       "328147    140.205.61.26-10.42.0.211-80-47648-6     10.42.0.211         47648   \n",
       "328148   10.42.0.211-121.41.62.82-44183-1088-6     10.42.0.211         44183   \n",
       "328149  10.42.0.211-101.37.105.10-48779-6880-6     10.42.0.211         48779   \n",
       "\n",
       "        Destination IP   Destination Port   Protocol            Timestamp  \\\n",
       "258240     10.42.0.211            48574.0        6.0  27/06/2017 02:23:49   \n",
       "258244     10.42.0.211            33521.0        6.0  27/06/2017 02:23:49   \n",
       "258588   106.39.169.66              443.0        6.0  27/06/2017 02:29:27   \n",
       "258625     10.42.0.211            36805.0        6.0  27/06/2017 02:29:30   \n",
       "258626     10.42.0.211            33523.0        6.0  27/06/2017 02:29:30   \n",
       "...                ...                ...        ...                  ...   \n",
       "328145  118.178.143.65               80.0        6.0  30/06/2017 02:48:06   \n",
       "328146   140.205.61.26               80.0        6.0  30/06/2017 02:48:17   \n",
       "328147   140.205.61.26               80.0        6.0  30/06/2017 02:48:18   \n",
       "328148    121.41.62.82             1088.0        6.0  30/06/2017 02:48:17   \n",
       "328149   101.37.105.10             6880.0        6.0  30/06/2017 02:48:21   \n",
       "\n",
       "         Flow Duration   Total Fwd Packets   Total Backward Packets  ...  \\\n",
       "258240               4                   2                        0  ...   \n",
       "258244               8                   2                        0  ...   \n",
       "258588               5                   2                        0  ...   \n",
       "258625              10                   2                        0  ...   \n",
       "258626               8                   2                        0  ...   \n",
       "...                ...                 ...                      ...  ...   \n",
       "328145         8769698                   4                        4  ...   \n",
       "328146          892843                   5                        6  ...   \n",
       "328147             109                   2                        0  ...   \n",
       "328148        12192623                   2                        0  ...   \n",
       "328149        16057007                   2                        0  ...   \n",
       "\n",
       "         min_seg_size_forward  Active Mean   Active Std   Active Max  \\\n",
       "258240                   32.0          0.0          0.0          0.0   \n",
       "258244                   20.0          0.0          0.0          0.0   \n",
       "258588                   20.0          0.0          0.0          0.0   \n",
       "258625                   20.0          0.0          0.0          0.0   \n",
       "258626                   20.0          0.0          0.0          0.0   \n",
       "...                       ...          ...          ...          ...   \n",
       "328145                   32.0          0.0          0.0          0.0   \n",
       "328146                   20.0          0.0          0.0          0.0   \n",
       "328147                   20.0          0.0          0.0          0.0   \n",
       "328148                   32.0          0.0          0.0          0.0   \n",
       "328149                   20.0          0.0          0.0          0.0   \n",
       "\n",
       "         Active Min  Idle Mean   Idle Std   Idle Max   Idle Min  \\\n",
       "258240          0.0        0.0        0.0        0.0        0.0   \n",
       "258244          0.0        0.0        0.0        0.0        0.0   \n",
       "258588          0.0        0.0        0.0        0.0        0.0   \n",
       "258625          0.0        0.0        0.0        0.0        0.0   \n",
       "258626          0.0        0.0        0.0        0.0        0.0   \n",
       "...             ...        ...        ...        ...        ...   \n",
       "328145          0.0        0.0        0.0        0.0        0.0   \n",
       "328146          0.0        0.0        0.0        0.0        0.0   \n",
       "328147          0.0        0.0        0.0        0.0        0.0   \n",
       "328148          0.0        0.0        0.0        0.0        0.0   \n",
       "328149          0.0        0.0        0.0        0.0        0.0   \n",
       "\n",
       "                      Label  \n",
       "258240    Android_Scareware  \n",
       "258244    Android_Scareware  \n",
       "258588    Android_Scareware  \n",
       "258625    Android_Scareware  \n",
       "258626    Android_Scareware  \n",
       "...                     ...  \n",
       "328145  Android_SMS_Malware  \n",
       "328146  Android_SMS_Malware  \n",
       "328147  Android_SMS_Malware  \n",
       "328148  Android_SMS_Malware  \n",
       "328149  Android_SMS_Malware  \n",
       "\n",
       "[2885 rows x 85 columns]"
      ]
     },
     "execution_count": 5,
     "metadata": {},
     "output_type": "execute_result"
    }
   ],
   "source": [
    "df[df.duplicated()]"
   ]
  },
  {
   "cell_type": "code",
   "execution_count": 6,
   "id": "8b4a88c9",
   "metadata": {},
   "outputs": [],
   "source": [
    "df.drop_duplicates(inplace = True)"
   ]
  },
  {
   "cell_type": "code",
   "execution_count": 7,
   "id": "16002124",
   "metadata": {},
   "outputs": [
    {
     "data": {
      "text/plain": [
       "Index(['Flow ID', ' Source IP', ' Source Port', ' Destination IP',\n",
       "       ' Destination Port', ' Protocol', ' Timestamp', ' Flow Duration',\n",
       "       ' Total Fwd Packets', ' Total Backward Packets',\n",
       "       'Total Length of Fwd Packets', ' Total Length of Bwd Packets',\n",
       "       ' Fwd Packet Length Max', ' Fwd Packet Length Min',\n",
       "       ' Fwd Packet Length Mean', ' Fwd Packet Length Std',\n",
       "       'Bwd Packet Length Max', ' Bwd Packet Length Min',\n",
       "       ' Bwd Packet Length Mean', ' Bwd Packet Length Std', 'Flow Bytes/s',\n",
       "       ' Flow Packets/s', ' Flow IAT Mean', ' Flow IAT Std', ' Flow IAT Max',\n",
       "       ' Flow IAT Min', 'Fwd IAT Total', ' Fwd IAT Mean', ' Fwd IAT Std',\n",
       "       ' Fwd IAT Max', ' Fwd IAT Min', 'Bwd IAT Total', ' Bwd IAT Mean',\n",
       "       ' Bwd IAT Std', ' Bwd IAT Max', ' Bwd IAT Min', 'Fwd PSH Flags',\n",
       "       ' Bwd PSH Flags', ' Fwd URG Flags', ' Bwd URG Flags',\n",
       "       ' Fwd Header Length', ' Bwd Header Length', 'Fwd Packets/s',\n",
       "       ' Bwd Packets/s', ' Min Packet Length', ' Max Packet Length',\n",
       "       ' Packet Length Mean', ' Packet Length Std', ' Packet Length Variance',\n",
       "       'FIN Flag Count', ' SYN Flag Count', ' RST Flag Count',\n",
       "       ' PSH Flag Count', ' ACK Flag Count', ' URG Flag Count',\n",
       "       ' CWE Flag Count', ' ECE Flag Count', ' Down/Up Ratio',\n",
       "       ' Average Packet Size', ' Avg Fwd Segment Size',\n",
       "       ' Avg Bwd Segment Size', ' Fwd Header Length.1', 'Fwd Avg Bytes/Bulk',\n",
       "       ' Fwd Avg Packets/Bulk', ' Fwd Avg Bulk Rate', ' Bwd Avg Bytes/Bulk',\n",
       "       ' Bwd Avg Packets/Bulk', 'Bwd Avg Bulk Rate', 'Subflow Fwd Packets',\n",
       "       ' Subflow Fwd Bytes', ' Subflow Bwd Packets', ' Subflow Bwd Bytes',\n",
       "       'Init_Win_bytes_forward', ' Init_Win_bytes_backward',\n",
       "       ' act_data_pkt_fwd', ' min_seg_size_forward', 'Active Mean',\n",
       "       ' Active Std', ' Active Max', ' Active Min', 'Idle Mean', ' Idle Std',\n",
       "       ' Idle Max', ' Idle Min', 'Label'],\n",
       "      dtype='object')"
      ]
     },
     "execution_count": 7,
     "metadata": {},
     "output_type": "execute_result"
    }
   ],
   "source": [
    "df.columns"
   ]
  },
  {
   "cell_type": "code",
   "execution_count": 8,
   "id": "4bd69938",
   "metadata": {},
   "outputs": [
    {
     "name": "stdout",
     "output_type": "stream",
     "text": [
      "<class 'pandas.core.frame.DataFrame'>\n",
      "Int64Index: 352745 entries, 0 to 355629\n",
      "Data columns (total 85 columns):\n",
      " #   Column                        Non-Null Count   Dtype  \n",
      "---  ------                        --------------   -----  \n",
      " 0   Flow ID                       352744 non-null  object \n",
      " 1    Source IP                    352745 non-null  object \n",
      " 2    Source Port                  352745 non-null  int64  \n",
      " 3    Destination IP               352745 non-null  object \n",
      " 4    Destination Port             352745 non-null  float64\n",
      " 5    Protocol                     352745 non-null  float64\n",
      " 6    Timestamp                    352745 non-null  object \n",
      " 7    Flow Duration                352745 non-null  int64  \n",
      " 8    Total Fwd Packets            352745 non-null  int64  \n",
      " 9    Total Backward Packets       352745 non-null  int64  \n",
      " 10  Total Length of Fwd Packets   352745 non-null  float64\n",
      " 11   Total Length of Bwd Packets  352745 non-null  float64\n",
      " 12   Fwd Packet Length Max        352745 non-null  float64\n",
      " 13   Fwd Packet Length Min        352745 non-null  float64\n",
      " 14   Fwd Packet Length Mean       352745 non-null  float64\n",
      " 15   Fwd Packet Length Std        352745 non-null  float64\n",
      " 16  Bwd Packet Length Max         352745 non-null  float64\n",
      " 17   Bwd Packet Length Min        352745 non-null  float64\n",
      " 18   Bwd Packet Length Mean       352745 non-null  float64\n",
      " 19   Bwd Packet Length Std        352745 non-null  float64\n",
      " 20  Flow Bytes/s                  352745 non-null  float64\n",
      " 21   Flow Packets/s               352745 non-null  float64\n",
      " 22   Flow IAT Mean                352745 non-null  float64\n",
      " 23   Flow IAT Std                 352745 non-null  float64\n",
      " 24   Flow IAT Max                 352745 non-null  float64\n",
      " 25   Flow IAT Min                 352745 non-null  float64\n",
      " 26  Fwd IAT Total                 352745 non-null  float64\n",
      " 27   Fwd IAT Mean                 352745 non-null  float64\n",
      " 28   Fwd IAT Std                  352745 non-null  float64\n",
      " 29   Fwd IAT Max                  352745 non-null  float64\n",
      " 30   Fwd IAT Min                  352745 non-null  float64\n",
      " 31  Bwd IAT Total                 352745 non-null  float64\n",
      " 32   Bwd IAT Mean                 352745 non-null  float64\n",
      " 33   Bwd IAT Std                  352745 non-null  float64\n",
      " 34   Bwd IAT Max                  352745 non-null  float64\n",
      " 35   Bwd IAT Min                  352745 non-null  float64\n",
      " 36  Fwd PSH Flags                 352745 non-null  float64\n",
      " 37   Bwd PSH Flags                352745 non-null  float64\n",
      " 38   Fwd URG Flags                352745 non-null  int64  \n",
      " 39   Bwd URG Flags                352745 non-null  int64  \n",
      " 40   Fwd Header Length            352745 non-null  int64  \n",
      " 41   Bwd Header Length            352745 non-null  int64  \n",
      " 42  Fwd Packets/s                 352745 non-null  float64\n",
      " 43   Bwd Packets/s                352744 non-null  float64\n",
      " 44   Min Packet Length            352744 non-null  float64\n",
      " 45   Max Packet Length            352744 non-null  float64\n",
      " 46   Packet Length Mean           352744 non-null  float64\n",
      " 47   Packet Length Std            352744 non-null  float64\n",
      " 48   Packet Length Variance       352744 non-null  float64\n",
      " 49  FIN Flag Count                352744 non-null  float64\n",
      " 50   SYN Flag Count               352744 non-null  float64\n",
      " 51   RST Flag Count               352744 non-null  float64\n",
      " 52   PSH Flag Count               352744 non-null  float64\n",
      " 53   ACK Flag Count               352744 non-null  float64\n",
      " 54   URG Flag Count               352744 non-null  float64\n",
      " 55   CWE Flag Count               352744 non-null  object \n",
      " 56   ECE Flag Count               352743 non-null  float64\n",
      " 57   Down/Up Ratio                352743 non-null  object \n",
      " 58   Average Packet Size          352742 non-null  float64\n",
      " 59   Avg Fwd Segment Size         352742 non-null  float64\n",
      " 60   Avg Bwd Segment Size         352742 non-null  float64\n",
      " 61   Fwd Header Length.1          352742 non-null  float64\n",
      " 62  Fwd Avg Bytes/Bulk            352742 non-null  object \n",
      " 63   Fwd Avg Packets/Bulk         352741 non-null  float64\n",
      " 64   Fwd Avg Bulk Rate            352741 non-null  float64\n",
      " 65   Bwd Avg Bytes/Bulk           352741 non-null  float64\n",
      " 66   Bwd Avg Packets/Bulk         352741 non-null  float64\n",
      " 67  Bwd Avg Bulk Rate             352741 non-null  float64\n",
      " 68  Subflow Fwd Packets           352741 non-null  float64\n",
      " 69   Subflow Fwd Bytes            352741 non-null  float64\n",
      " 70   Subflow Bwd Packets          352741 non-null  float64\n",
      " 71   Subflow Bwd Bytes            352741 non-null  float64\n",
      " 72  Init_Win_bytes_forward        352741 non-null  float64\n",
      " 73   Init_Win_bytes_backward      352741 non-null  float64\n",
      " 74   act_data_pkt_fwd             352741 non-null  float64\n",
      " 75   min_seg_size_forward         352741 non-null  float64\n",
      " 76  Active Mean                   352741 non-null  float64\n",
      " 77   Active Std                   352741 non-null  float64\n",
      " 78   Active Max                   352741 non-null  float64\n",
      " 79   Active Min                   352741 non-null  float64\n",
      " 80  Idle Mean                     352741 non-null  float64\n",
      " 81   Idle Std                     352741 non-null  float64\n",
      " 82   Idle Max                     352741 non-null  float64\n",
      " 83   Idle Min                     352741 non-null  float64\n",
      " 84  Label                         352745 non-null  object \n",
      "dtypes: float64(69), int64(8), object(8)\n",
      "memory usage: 231.4+ MB\n"
     ]
    }
   ],
   "source": [
    "df.info()"
   ]
  },
  {
   "cell_type": "code",
   "execution_count": 9,
   "id": "ff5f6d0f",
   "metadata": {},
   "outputs": [
    {
     "data": {
      "text/plain": [
       "array([0, '0', 'BENIGN', '0.0', nan], dtype=object)"
      ]
     },
     "execution_count": 9,
     "metadata": {},
     "output_type": "execute_result"
    }
   ],
   "source": [
    "df.iloc[:,62].unique()"
   ]
  },
  {
   "cell_type": "code",
   "execution_count": 10,
   "id": "4c6adbba",
   "metadata": {},
   "outputs": [],
   "source": [
    "from matplotlib import pyplot as plt"
   ]
  },
  {
   "cell_type": "code",
   "execution_count": 20,
   "id": "c6de3128",
   "metadata": {},
   "outputs": [
    {
     "data": {
      "text/plain": [
       "0          1\n",
       "1          1\n",
       "2         12\n",
       "3          0\n",
       "4          6\n",
       "          ..\n",
       "355625     1\n",
       "355626     1\n",
       "355627     8\n",
       "355628     1\n",
       "355629     1\n",
       "Name:  Total Backward Packets, Length: 352745, dtype: int64"
      ]
     },
     "execution_count": 20,
     "metadata": {},
     "output_type": "execute_result"
    }
   ],
   "source": [
    "df.iloc[:,9]"
   ]
  },
  {
   "cell_type": "code",
   "execution_count": 11,
   "id": "ea4e0c5e",
   "metadata": {
    "scrolled": false
   },
   "outputs": [
    {
     "data": {
      "text/plain": [
       "{'whiskers': [<matplotlib.lines.Line2D at 0x169e37b20>,\n",
       "  <matplotlib.lines.Line2D at 0x169e37dc0>],\n",
       " 'caps': [<matplotlib.lines.Line2D at 0x169e570a0>,\n",
       "  <matplotlib.lines.Line2D at 0x169e57340>],\n",
       " 'boxes': [<matplotlib.lines.Line2D at 0x169e37880>],\n",
       " 'medians': [<matplotlib.lines.Line2D at 0x169e575e0>],\n",
       " 'fliers': [<matplotlib.lines.Line2D at 0x169e57880>],\n",
       " 'means': []}"
      ]
     },
     "execution_count": 11,
     "metadata": {},
     "output_type": "execute_result"
    },
    {
     "data": {
      "image/png": "[encoded data removed]",
      "text/plain": [
       "<Figure size 640x480 with 1 Axes>"
      ]
     },
     "metadata": {},
     "output_type": "display_data"
    }
   ],
   "source": [
    "plt.boxplot(df.iloc[:,9])"
   ]
  },
  {
   "cell_type": "code",
   "execution_count": 12,
   "id": "07052720",
   "metadata": {
    "scrolled": true
   },
   "outputs": [
    {
     "data": {
      "text/plain": [
       "262292"
      ]
     },
     "execution_count": 12,
     "metadata": {},
     "output_type": "execute_result"
    }
   ],
   "source": [
    "df.iloc[:,8].idxmax()"
   ]
  },
  {
   "cell_type": "code",
   "execution_count": 13,
   "id": "10749a54",
   "metadata": {},
   "outputs": [
    {
     "data": {
      "text/plain": [
       "Flow ID              174.35.73.149-10.42.0.211-80-50521-6\n",
       " Source IP                                    10.42.0.211\n",
       " Source Port                                        50521\n",
       " Destination IP                             174.35.73.149\n",
       " Destination Port                                    80.0\n",
       "                                     ...                 \n",
       "Idle Mean                                             0.0\n",
       " Idle Std                                             0.0\n",
       " Idle Max                                             0.0\n",
       " Idle Min                                             0.0\n",
       "Label                                   Android_Scareware\n",
       "Name: 262304, Length: 85, dtype: object"
      ]
     },
     "execution_count": 13,
     "metadata": {},
     "output_type": "execute_result"
    }
   ],
   "source": [
    "df.iloc[262292,:]"
   ]
  },
  {
   "cell_type": "code",
   "execution_count": 14,
   "id": "3afc8a36",
   "metadata": {},
   "outputs": [
    {
     "data": {
      "text/plain": [
       "{'whiskers': [<matplotlib.lines.Line2D at 0x169f38820>,\n",
       "  <matplotlib.lines.Line2D at 0x169f38ac0>],\n",
       " 'caps': [<matplotlib.lines.Line2D at 0x169f38d60>,\n",
       "  <matplotlib.lines.Line2D at 0x169f47040>],\n",
       " 'boxes': [<matplotlib.lines.Line2D at 0x169d5dc40>],\n",
       " 'medians': [<matplotlib.lines.Line2D at 0x169f472e0>],\n",
       " 'fliers': [<matplotlib.lines.Line2D at 0x169f47580>],\n",
       " 'means': []}"
      ]
     },
     "execution_count": 14,
     "metadata": {},
     "output_type": "execute_result"
    },
    {
     "data": {
      "image/png": "[encoded data removed]",
      "text/plain": [
       "<Figure size 640x480 with 1 Axes>"
      ]
     },
     "metadata": {},
     "output_type": "display_data"
    }
   ],
   "source": [
    "plt.boxplot(df.iloc[:,10])"
   ]
  },
  {
   "cell_type": "code",
   "execution_count": 15,
   "id": "21891d6b",
   "metadata": {},
   "outputs": [
    {
     "data": {
      "text/plain": [
       "{'whiskers': [<matplotlib.lines.Line2D at 0x169fa0dc0>,\n",
       "  <matplotlib.lines.Line2D at 0x169faf0a0>],\n",
       " 'caps': [<matplotlib.lines.Line2D at 0x169faf340>,\n",
       "  <matplotlib.lines.Line2D at 0x169faf5e0>],\n",
       " 'boxes': [<matplotlib.lines.Line2D at 0x169fa0b20>],\n",
       " 'medians': [<matplotlib.lines.Line2D at 0x169faf760>],\n",
       " 'fliers': [<matplotlib.lines.Line2D at 0x169fafa00>],\n",
       " 'means': []}"
      ]
     },
     "execution_count": 15,
     "metadata": {},
     "output_type": "execute_result"
    },
    {
     "data": {
      "image/png": "[encoded data removed]",
      "text/plain": [
       "<Figure size 640x480 with 1 Axes>"
      ]
     },
     "metadata": {},
     "output_type": "display_data"
    }
   ],
   "source": [
    "plt.boxplot(df.iloc[:,12])"
   ]
  },
  {
   "cell_type": "code",
   "execution_count": 16,
   "id": "e91fc35e",
   "metadata": {},
   "outputs": [],
   "source": [
    "def count_outliers(data):\n",
    "    q25, q75 = np.percentile(data, 25), np.percentile(data, 75)\n",
    "    iqr = q75 - q25\n",
    "    cut_off = iqr * 1.5\n",
    "    lower, upper = q25 - cut_off, q75 + cut_off\n",
    "    outliers = [x for x in data if x < lower or x > upper]\n",
    "    return len(outliers)"
   ]
  },
  {
   "cell_type": "code",
   "execution_count": 17,
   "id": "1c9d104f",
   "metadata": {},
   "outputs": [
    {
     "data": {
      "text/plain": [
       "27617"
      ]
     },
     "execution_count": 17,
     "metadata": {},
     "output_type": "execute_result"
    }
   ],
   "source": [
    "count_outliers(df.iloc[:,12])"
   ]
  },
  {
   "cell_type": "code",
   "execution_count": 18,
   "id": "41694e4f",
   "metadata": {
    "scrolled": false
   },
   "outputs": [
    {
     "name": "stdout",
     "output_type": "stream",
     "text": [
      " Source Port : 44853\n",
      " Destination Port : 45186\n",
      " Protocol : 78330\n",
      " Flow Duration : 48222\n",
      " Total Fwd Packets : 37357\n",
      " Total Backward Packets : 40319\n",
      "Total Length of Fwd Packets : 47050\n",
      " Total Length of Bwd Packets : 74730\n",
      " Fwd Packet Length Max : 27617\n",
      " Fwd Packet Length Min : 10516\n",
      " Fwd Packet Length Mean : 43532\n",
      " Fwd Packet Length Std : 41442\n",
      "Bwd Packet Length Max : 69790\n",
      " Bwd Packet Length Min : 75644\n",
      " Bwd Packet Length Mean : 57790\n",
      " Bwd Packet Length Std : 70423\n",
      "Flow Bytes/s : 56953\n",
      " Flow Packets/s : 62361\n",
      " Flow IAT Mean : 47625\n",
      " Flow IAT Std : 64917\n",
      " Flow IAT Max : 47051\n",
      " Flow IAT Min : 65336\n",
      "Fwd IAT Total : 52046\n",
      " Fwd IAT Mean : 58997\n",
      " Fwd IAT Std : 70052\n",
      " Fwd IAT Max : 55330\n",
      " Fwd IAT Min : 76128\n",
      "Bwd IAT Total : 65948\n",
      " Bwd IAT Mean : 70531\n",
      " Bwd IAT Std : 70783\n",
      " Bwd IAT Max : 64914\n",
      " Bwd IAT Min : 65283\n",
      "Fwd PSH Flags : 23034\n",
      " Bwd PSH Flags : 1\n",
      " Fwd URG Flags : 1\n",
      " Bwd URG Flags : 2\n",
      " Fwd Header Length : 49914\n",
      " Bwd Header Length : 45396\n",
      "Fwd Packets/s : 63032\n"
     ]
    }
   ],
   "source": [
    "for i in range(len(df.columns)):\n",
    "    try:\n",
    "        if count_outliers(df.iloc[:,i])>0:\n",
    "            print(df.columns[i],\":\",count_outliers(df.iloc[:,i]))\n",
    "    except:\n",
    "        continue"
   ]
  },
  {
   "cell_type": "code",
   "execution_count": 23,
   "id": "b1afda28",
   "metadata": {},
   "outputs": [
    {
     "data": {
      "text/plain": [
       "array([  0. , 192.5])"
      ]
     },
     "execution_count": 23,
     "metadata": {},
     "output_type": "execute_result"
    }
   ],
   "source": [
    "df[' Bwd PSH Flags'].unique()"
   ]
  },
  {
   "cell_type": "code",
   "execution_count": null,
   "id": "1825f62b",
   "metadata": {},
   "outputs": [
    {
     "data": {
      "text/plain": [
       "array([  0, 876])"
      ]
     },
     "execution_count": 21,
     "metadata": {},
     "output_type": "execute_result"
    }
   ],
   "source": [
    "df.iloc[:,38].unique()"
   ]
  },
  {
   "cell_type": "code",
   "execution_count": null,
   "id": "eb415edf",
   "metadata": {},
   "outputs": [
    {
     "data": {
      "text/plain": [
       "array([  0, 112,   8])"
      ]
     },
     "execution_count": 22,
     "metadata": {},
     "output_type": "execute_result"
    }
   ],
   "source": [
    "df.iloc[:,39].unique()"
   ]
  }
 ],
 "metadata": {
  "kernelspec": {
   "display_name": "Python 3 (ipykernel)",
   "language": "python",
   "name": "python3"
  },
  "language_info": {
   "codemirror_mode": {
    "name": "ipython",
    "version": 3
   },
   "file_extension": ".py",
   "mimetype": "text/x-python",
   "name": "python",
   "nbconvert_exporter": "python",
   "pygments_lexer": "ipython3",
   "version": "3.9.15"
  }
 },
 "nbformat": 4,
 "nbformat_minor": 5
}
