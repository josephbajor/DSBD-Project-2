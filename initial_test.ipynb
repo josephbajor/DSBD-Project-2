{
 "cells": [
  {
   "cell_type": "code",
   "execution_count": 1,
   "metadata": {},
   "outputs": [],
   "source": [
    "import pandas as pd\n",
    "import numpy as np\n",
    "import altair as alt\n",
    "import matplotlib.pyplot as plt"
   ]
  },
  {
   "cell_type": "code",
   "execution_count": 2,
   "metadata": {},
   "outputs": [
    {
     "name": "stderr",
     "output_type": "stream",
     "text": [
      "/var/folders/rl/dnlq62k50fd_dd8959xr62nh0000gn/T/ipykernel_23686/3584906996.py:1: DtypeWarning: Columns (56,58,63) have mixed types. Specify dtype option on import or set low_memory=False.\n",
      "  data = pd.read_csv('Android_Malware.csv', index_col=0)\n"
     ]
    }
   ],
   "source": [
    "data = pd.read_csv('Android_Malware.csv', index_col=0)"
   ]
  },
  {
   "attachments": {},
   "cell_type": "markdown",
   "metadata": {},
   "source": [
    "## Initial EDA\n",
    "### Data Integrity Inspection"
   ]
  },
  {
   "cell_type": "code",
   "execution_count": 3,
   "metadata": {},
   "outputs": [
    {
     "data": {
      "text/html": [
       "<div>\n",
       "<style scoped>\n",
       "    .dataframe tbody tr th:only-of-type {\n",
       "        vertical-align: middle;\n",
       "    }\n",
       "\n",
       "    .dataframe tbody tr th {\n",
       "        vertical-align: top;\n",
       "    }\n",
       "\n",
       "    .dataframe thead th {\n",
       "        text-align: right;\n",
       "    }\n",
       "</style>\n",
       "<table border=\"1\" class=\"dataframe\">\n",
       "  <thead>\n",
       "    <tr style=\"text-align: right;\">\n",
       "      <th></th>\n",
       "      <th>Flow ID</th>\n",
       "      <th>Source IP</th>\n",
       "      <th>Source Port</th>\n",
       "      <th>Destination IP</th>\n",
       "      <th>Destination Port</th>\n",
       "      <th>Protocol</th>\n",
       "      <th>Timestamp</th>\n",
       "      <th>Flow Duration</th>\n",
       "      <th>Total Fwd Packets</th>\n",
       "      <th>Total Backward Packets</th>\n",
       "      <th>...</th>\n",
       "      <th>min_seg_size_forward</th>\n",
       "      <th>Active Mean</th>\n",
       "      <th>Active Std</th>\n",
       "      <th>Active Max</th>\n",
       "      <th>Active Min</th>\n",
       "      <th>Idle Mean</th>\n",
       "      <th>Idle Std</th>\n",
       "      <th>Idle Max</th>\n",
       "      <th>Idle Min</th>\n",
       "      <th>Label</th>\n",
       "    </tr>\n",
       "  </thead>\n",
       "  <tbody>\n",
       "    <tr>\n",
       "      <th>0</th>\n",
       "      <td>172.217.6.202-10.42.0.211-443-50004-6</td>\n",
       "      <td>10.42.0.211</td>\n",
       "      <td>50004</td>\n",
       "      <td>172.217.6.202</td>\n",
       "      <td>443.0</td>\n",
       "      <td>6.0</td>\n",
       "      <td>13/06/2017 11:52:39</td>\n",
       "      <td>37027</td>\n",
       "      <td>1</td>\n",
       "      <td>1</td>\n",
       "      <td>...</td>\n",
       "      <td>32.0</td>\n",
       "      <td>0.0</td>\n",
       "      <td>0.0</td>\n",
       "      <td>0.0</td>\n",
       "      <td>0.0</td>\n",
       "      <td>0.0</td>\n",
       "      <td>0.0</td>\n",
       "      <td>0.0</td>\n",
       "      <td>0.0</td>\n",
       "      <td>Android_Adware</td>\n",
       "    </tr>\n",
       "    <tr>\n",
       "      <th>1</th>\n",
       "      <td>172.217.6.202-10.42.0.211-443-35455-6</td>\n",
       "      <td>10.42.0.211</td>\n",
       "      <td>35455</td>\n",
       "      <td>172.217.6.202</td>\n",
       "      <td>443.0</td>\n",
       "      <td>6.0</td>\n",
       "      <td>13/06/2017 11:52:39</td>\n",
       "      <td>36653</td>\n",
       "      <td>1</td>\n",
       "      <td>1</td>\n",
       "      <td>...</td>\n",
       "      <td>32.0</td>\n",
       "      <td>0.0</td>\n",
       "      <td>0.0</td>\n",
       "      <td>0.0</td>\n",
       "      <td>0.0</td>\n",
       "      <td>0.0</td>\n",
       "      <td>0.0</td>\n",
       "      <td>0.0</td>\n",
       "      <td>0.0</td>\n",
       "      <td>Android_Adware</td>\n",
       "    </tr>\n",
       "    <tr>\n",
       "      <th>2</th>\n",
       "      <td>131.253.61.68-10.42.0.211-443-51775-6</td>\n",
       "      <td>10.42.0.211</td>\n",
       "      <td>51775</td>\n",
       "      <td>131.253.61.68</td>\n",
       "      <td>443.0</td>\n",
       "      <td>6.0</td>\n",
       "      <td>13/06/2017 11:52:42</td>\n",
       "      <td>534099</td>\n",
       "      <td>8</td>\n",
       "      <td>12</td>\n",
       "      <td>...</td>\n",
       "      <td>20.0</td>\n",
       "      <td>0.0</td>\n",
       "      <td>0.0</td>\n",
       "      <td>0.0</td>\n",
       "      <td>0.0</td>\n",
       "      <td>0.0</td>\n",
       "      <td>0.0</td>\n",
       "      <td>0.0</td>\n",
       "      <td>0.0</td>\n",
       "      <td>Android_Adware</td>\n",
       "    </tr>\n",
       "    <tr>\n",
       "      <th>3</th>\n",
       "      <td>131.253.61.68-10.42.0.211-443-51775-6</td>\n",
       "      <td>10.42.0.211</td>\n",
       "      <td>51775</td>\n",
       "      <td>131.253.61.68</td>\n",
       "      <td>443.0</td>\n",
       "      <td>6.0</td>\n",
       "      <td>13/06/2017 11:52:43</td>\n",
       "      <td>9309</td>\n",
       "      <td>3</td>\n",
       "      <td>0</td>\n",
       "      <td>...</td>\n",
       "      <td>20.0</td>\n",
       "      <td>0.0</td>\n",
       "      <td>0.0</td>\n",
       "      <td>0.0</td>\n",
       "      <td>0.0</td>\n",
       "      <td>0.0</td>\n",
       "      <td>0.0</td>\n",
       "      <td>0.0</td>\n",
       "      <td>0.0</td>\n",
       "      <td>Android_Adware</td>\n",
       "    </tr>\n",
       "    <tr>\n",
       "      <th>4</th>\n",
       "      <td>131.253.61.68-10.42.0.211-443-51776-6</td>\n",
       "      <td>10.42.0.211</td>\n",
       "      <td>51776</td>\n",
       "      <td>131.253.61.68</td>\n",
       "      <td>443.0</td>\n",
       "      <td>6.0</td>\n",
       "      <td>13/06/2017 11:52:42</td>\n",
       "      <td>19890496</td>\n",
       "      <td>8</td>\n",
       "      <td>6</td>\n",
       "      <td>...</td>\n",
       "      <td>20.0</td>\n",
       "      <td>0.0</td>\n",
       "      <td>0.0</td>\n",
       "      <td>0.0</td>\n",
       "      <td>0.0</td>\n",
       "      <td>0.0</td>\n",
       "      <td>0.0</td>\n",
       "      <td>0.0</td>\n",
       "      <td>0.0</td>\n",
       "      <td>Android_Adware</td>\n",
       "    </tr>\n",
       "  </tbody>\n",
       "</table>\n",
       "<p>5 rows × 85 columns</p>\n",
       "</div>"
      ],
      "text/plain": [
       "                                 Flow ID    Source IP   Source Port  \\\n",
       "0  172.217.6.202-10.42.0.211-443-50004-6  10.42.0.211         50004   \n",
       "1  172.217.6.202-10.42.0.211-443-35455-6  10.42.0.211         35455   \n",
       "2  131.253.61.68-10.42.0.211-443-51775-6  10.42.0.211         51775   \n",
       "3  131.253.61.68-10.42.0.211-443-51775-6  10.42.0.211         51775   \n",
       "4  131.253.61.68-10.42.0.211-443-51776-6  10.42.0.211         51776   \n",
       "\n",
       "   Destination IP   Destination Port   Protocol            Timestamp  \\\n",
       "0   172.217.6.202              443.0        6.0  13/06/2017 11:52:39   \n",
       "1   172.217.6.202              443.0        6.0  13/06/2017 11:52:39   \n",
       "2   131.253.61.68              443.0        6.0  13/06/2017 11:52:42   \n",
       "3   131.253.61.68              443.0        6.0  13/06/2017 11:52:43   \n",
       "4   131.253.61.68              443.0        6.0  13/06/2017 11:52:42   \n",
       "\n",
       "    Flow Duration   Total Fwd Packets   Total Backward Packets  ...  \\\n",
       "0           37027                   1                        1  ...   \n",
       "1           36653                   1                        1  ...   \n",
       "2          534099                   8                       12  ...   \n",
       "3            9309                   3                        0  ...   \n",
       "4        19890496                   8                        6  ...   \n",
       "\n",
       "    min_seg_size_forward  Active Mean   Active Std   Active Max   Active Min  \\\n",
       "0                   32.0          0.0          0.0          0.0          0.0   \n",
       "1                   32.0          0.0          0.0          0.0          0.0   \n",
       "2                   20.0          0.0          0.0          0.0          0.0   \n",
       "3                   20.0          0.0          0.0          0.0          0.0   \n",
       "4                   20.0          0.0          0.0          0.0          0.0   \n",
       "\n",
       "   Idle Mean   Idle Std   Idle Max   Idle Min           Label  \n",
       "0        0.0        0.0        0.0        0.0  Android_Adware  \n",
       "1        0.0        0.0        0.0        0.0  Android_Adware  \n",
       "2        0.0        0.0        0.0        0.0  Android_Adware  \n",
       "3        0.0        0.0        0.0        0.0  Android_Adware  \n",
       "4        0.0        0.0        0.0        0.0  Android_Adware  \n",
       "\n",
       "[5 rows x 85 columns]"
      ]
     },
     "execution_count": 3,
     "metadata": {},
     "output_type": "execute_result"
    }
   ],
   "source": [
    "data.head()"
   ]
  },
  {
   "cell_type": "code",
   "execution_count": 6,
   "metadata": {},
   "outputs": [],
   "source": [
    "d = data.sample(10)"
   ]
  },
  {
   "cell_type": "code",
   "execution_count": 7,
   "metadata": {},
   "outputs": [
    {
     "name": "stdout",
     "output_type": "stream",
     "text": [
      "<class 'pandas.core.frame.DataFrame'>\n",
      "Int64Index: 355630 entries, 0 to 409\n",
      "Data columns (total 85 columns):\n",
      " #   Column                        Non-Null Count   Dtype  \n",
      "---  ------                        --------------   -----  \n",
      " 0   Flow ID                       355629 non-null  object \n",
      " 1    Source IP                    355630 non-null  object \n",
      " 2    Source Port                  355630 non-null  int64  \n",
      " 3    Destination IP               355630 non-null  object \n",
      " 4    Destination Port             355630 non-null  float64\n",
      " 5    Protocol                     355630 non-null  float64\n",
      " 6    Timestamp                    355630 non-null  object \n",
      " 7    Flow Duration                355630 non-null  int64  \n",
      " 8    Total Fwd Packets            355630 non-null  int64  \n",
      " 9    Total Backward Packets       355630 non-null  int64  \n",
      " 10  Total Length of Fwd Packets   355630 non-null  float64\n",
      " 11   Total Length of Bwd Packets  355630 non-null  float64\n",
      " 12   Fwd Packet Length Max        355630 non-null  float64\n",
      " 13   Fwd Packet Length Min        355630 non-null  float64\n",
      " 14   Fwd Packet Length Mean       355630 non-null  float64\n",
      " 15   Fwd Packet Length Std        355630 non-null  float64\n",
      " 16  Bwd Packet Length Max         355630 non-null  float64\n",
      " 17   Bwd Packet Length Min        355630 non-null  float64\n",
      " 18   Bwd Packet Length Mean       355630 non-null  float64\n",
      " 19   Bwd Packet Length Std        355630 non-null  float64\n",
      " 20  Flow Bytes/s                  355630 non-null  float64\n",
      " 21   Flow Packets/s               355630 non-null  float64\n",
      " 22   Flow IAT Mean                355630 non-null  float64\n",
      " 23   Flow IAT Std                 355630 non-null  float64\n",
      " 24   Flow IAT Max                 355630 non-null  float64\n",
      " 25   Flow IAT Min                 355630 non-null  float64\n",
      " 26  Fwd IAT Total                 355630 non-null  float64\n",
      " 27   Fwd IAT Mean                 355630 non-null  float64\n",
      " 28   Fwd IAT Std                  355630 non-null  float64\n",
      " 29   Fwd IAT Max                  355630 non-null  float64\n",
      " 30   Fwd IAT Min                  355630 non-null  float64\n",
      " 31  Bwd IAT Total                 355630 non-null  float64\n",
      " 32   Bwd IAT Mean                 355630 non-null  float64\n",
      " 33   Bwd IAT Std                  355630 non-null  float64\n",
      " 34   Bwd IAT Max                  355630 non-null  float64\n",
      " 35   Bwd IAT Min                  355630 non-null  float64\n",
      " 36  Fwd PSH Flags                 355630 non-null  float64\n",
      " 37   Bwd PSH Flags                355630 non-null  float64\n",
      " 38   Fwd URG Flags                355630 non-null  int64  \n",
      " 39   Bwd URG Flags                355630 non-null  int64  \n",
      " 40   Fwd Header Length            355630 non-null  int64  \n",
      " 41   Bwd Header Length            355630 non-null  int64  \n",
      " 42  Fwd Packets/s                 355630 non-null  float64\n",
      " 43   Bwd Packets/s                355629 non-null  float64\n",
      " 44   Min Packet Length            355629 non-null  float64\n",
      " 45   Max Packet Length            355629 non-null  float64\n",
      " 46   Packet Length Mean           355629 non-null  float64\n",
      " 47   Packet Length Std            355629 non-null  float64\n",
      " 48   Packet Length Variance       355629 non-null  float64\n",
      " 49  FIN Flag Count                355629 non-null  float64\n",
      " 50   SYN Flag Count               355629 non-null  float64\n",
      " 51   RST Flag Count               355629 non-null  float64\n",
      " 52   PSH Flag Count               355629 non-null  float64\n",
      " 53   ACK Flag Count               355629 non-null  float64\n",
      " 54   URG Flag Count               355629 non-null  float64\n",
      " 55   CWE Flag Count               355629 non-null  object \n",
      " 56   ECE Flag Count               355628 non-null  float64\n",
      " 57   Down/Up Ratio                355628 non-null  object \n",
      " 58   Average Packet Size          355627 non-null  float64\n",
      " 59   Avg Fwd Segment Size         355627 non-null  float64\n",
      " 60   Avg Bwd Segment Size         355627 non-null  float64\n",
      " 61   Fwd Header Length.1          355627 non-null  float64\n",
      " 62  Fwd Avg Bytes/Bulk            355627 non-null  object \n",
      " 63   Fwd Avg Packets/Bulk         355626 non-null  float64\n",
      " 64   Fwd Avg Bulk Rate            355626 non-null  float64\n",
      " 65   Bwd Avg Bytes/Bulk           355626 non-null  float64\n",
      " 66   Bwd Avg Packets/Bulk         355626 non-null  float64\n",
      " 67  Bwd Avg Bulk Rate             355626 non-null  float64\n",
      " 68  Subflow Fwd Packets           355626 non-null  float64\n",
      " 69   Subflow Fwd Bytes            355626 non-null  float64\n",
      " 70   Subflow Bwd Packets          355626 non-null  float64\n",
      " 71   Subflow Bwd Bytes            355626 non-null  float64\n",
      " 72  Init_Win_bytes_forward        355626 non-null  float64\n",
      " 73   Init_Win_bytes_backward      355626 non-null  float64\n",
      " 74   act_data_pkt_fwd             355626 non-null  float64\n",
      " 75   min_seg_size_forward         355626 non-null  float64\n",
      " 76  Active Mean                   355626 non-null  float64\n",
      " 77   Active Std                   355626 non-null  float64\n",
      " 78   Active Max                   355626 non-null  float64\n",
      " 79   Active Min                   355626 non-null  float64\n",
      " 80  Idle Mean                     355626 non-null  float64\n",
      " 81   Idle Std                     355626 non-null  float64\n",
      " 82   Idle Max                     355626 non-null  float64\n",
      " 83   Idle Min                     355626 non-null  float64\n",
      " 84  Label                         355630 non-null  object \n",
      "dtypes: float64(69), int64(8), object(8)\n",
      "memory usage: 233.3+ MB\n"
     ]
    }
   ],
   "source": [
    "data.info()"
   ]
  },
  {
   "attachments": {},
   "cell_type": "markdown",
   "metadata": {},
   "source": [
    "### Removing Duplicates"
   ]
  },
  {
   "cell_type": "code",
   "execution_count": 8,
   "metadata": {},
   "outputs": [
    {
     "data": {
      "text/html": [
       "<div>\n",
       "<style scoped>\n",
       "    .dataframe tbody tr th:only-of-type {\n",
       "        vertical-align: middle;\n",
       "    }\n",
       "\n",
       "    .dataframe tbody tr th {\n",
       "        vertical-align: top;\n",
       "    }\n",
       "\n",
       "    .dataframe thead th {\n",
       "        text-align: right;\n",
       "    }\n",
       "</style>\n",
       "<table border=\"1\" class=\"dataframe\">\n",
       "  <thead>\n",
       "    <tr style=\"text-align: right;\">\n",
       "      <th></th>\n",
       "      <th>Flow ID</th>\n",
       "      <th>Source IP</th>\n",
       "      <th>Source Port</th>\n",
       "      <th>Destination IP</th>\n",
       "      <th>Destination Port</th>\n",
       "      <th>Protocol</th>\n",
       "      <th>Timestamp</th>\n",
       "      <th>Flow Duration</th>\n",
       "      <th>Total Fwd Packets</th>\n",
       "      <th>Total Backward Packets</th>\n",
       "      <th>...</th>\n",
       "      <th>min_seg_size_forward</th>\n",
       "      <th>Active Mean</th>\n",
       "      <th>Active Std</th>\n",
       "      <th>Active Max</th>\n",
       "      <th>Active Min</th>\n",
       "      <th>Idle Mean</th>\n",
       "      <th>Idle Std</th>\n",
       "      <th>Idle Max</th>\n",
       "      <th>Idle Min</th>\n",
       "      <th>Label</th>\n",
       "    </tr>\n",
       "  </thead>\n",
       "  <tbody>\n",
       "    <tr>\n",
       "      <th>90</th>\n",
       "      <td>203.205.158.60-10.42.0.211-80-48574-6</td>\n",
       "      <td>203.205.158.60</td>\n",
       "      <td>80</td>\n",
       "      <td>10.42.0.211</td>\n",
       "      <td>48574.0</td>\n",
       "      <td>6.0</td>\n",
       "      <td>27/06/2017 02:23:49</td>\n",
       "      <td>4</td>\n",
       "      <td>2</td>\n",
       "      <td>0</td>\n",
       "      <td>...</td>\n",
       "      <td>32.0</td>\n",
       "      <td>0.0</td>\n",
       "      <td>0.0</td>\n",
       "      <td>0.0</td>\n",
       "      <td>0.0</td>\n",
       "      <td>0.0</td>\n",
       "      <td>0.0</td>\n",
       "      <td>0.0</td>\n",
       "      <td>0.0</td>\n",
       "      <td>Android_Scareware</td>\n",
       "    </tr>\n",
       "    <tr>\n",
       "      <th>94</th>\n",
       "      <td>10.42.0.211-111.206.25.159-33521-80-6</td>\n",
       "      <td>111.206.25.159</td>\n",
       "      <td>80</td>\n",
       "      <td>10.42.0.211</td>\n",
       "      <td>33521.0</td>\n",
       "      <td>6.0</td>\n",
       "      <td>27/06/2017 02:23:49</td>\n",
       "      <td>8</td>\n",
       "      <td>2</td>\n",
       "      <td>0</td>\n",
       "      <td>...</td>\n",
       "      <td>20.0</td>\n",
       "      <td>0.0</td>\n",
       "      <td>0.0</td>\n",
       "      <td>0.0</td>\n",
       "      <td>0.0</td>\n",
       "      <td>0.0</td>\n",
       "      <td>0.0</td>\n",
       "      <td>0.0</td>\n",
       "      <td>0.0</td>\n",
       "      <td>Android_Scareware</td>\n",
       "    </tr>\n",
       "    <tr>\n",
       "      <th>438</th>\n",
       "      <td>10.42.0.211-106.39.169.66-38659-443-6</td>\n",
       "      <td>10.42.0.211</td>\n",
       "      <td>38659</td>\n",
       "      <td>106.39.169.66</td>\n",
       "      <td>443.0</td>\n",
       "      <td>6.0</td>\n",
       "      <td>27/06/2017 02:29:27</td>\n",
       "      <td>5</td>\n",
       "      <td>2</td>\n",
       "      <td>0</td>\n",
       "      <td>...</td>\n",
       "      <td>20.0</td>\n",
       "      <td>0.0</td>\n",
       "      <td>0.0</td>\n",
       "      <td>0.0</td>\n",
       "      <td>0.0</td>\n",
       "      <td>0.0</td>\n",
       "      <td>0.0</td>\n",
       "      <td>0.0</td>\n",
       "      <td>0.0</td>\n",
       "      <td>Android_Scareware</td>\n",
       "    </tr>\n",
       "    <tr>\n",
       "      <th>475</th>\n",
       "      <td>10.42.0.211-119.146.74.34-36805-80-6</td>\n",
       "      <td>119.146.74.34</td>\n",
       "      <td>80</td>\n",
       "      <td>10.42.0.211</td>\n",
       "      <td>36805.0</td>\n",
       "      <td>6.0</td>\n",
       "      <td>27/06/2017 02:29:30</td>\n",
       "      <td>10</td>\n",
       "      <td>2</td>\n",
       "      <td>0</td>\n",
       "      <td>...</td>\n",
       "      <td>20.0</td>\n",
       "      <td>0.0</td>\n",
       "      <td>0.0</td>\n",
       "      <td>0.0</td>\n",
       "      <td>0.0</td>\n",
       "      <td>0.0</td>\n",
       "      <td>0.0</td>\n",
       "      <td>0.0</td>\n",
       "      <td>0.0</td>\n",
       "      <td>Android_Scareware</td>\n",
       "    </tr>\n",
       "    <tr>\n",
       "      <th>476</th>\n",
       "      <td>10.42.0.211-119.146.74.48-33523-80-6</td>\n",
       "      <td>119.146.74.48</td>\n",
       "      <td>80</td>\n",
       "      <td>10.42.0.211</td>\n",
       "      <td>33523.0</td>\n",
       "      <td>6.0</td>\n",
       "      <td>27/06/2017 02:29:30</td>\n",
       "      <td>8</td>\n",
       "      <td>2</td>\n",
       "      <td>0</td>\n",
       "      <td>...</td>\n",
       "      <td>20.0</td>\n",
       "      <td>0.0</td>\n",
       "      <td>0.0</td>\n",
       "      <td>0.0</td>\n",
       "      <td>0.0</td>\n",
       "      <td>0.0</td>\n",
       "      <td>0.0</td>\n",
       "      <td>0.0</td>\n",
       "      <td>0.0</td>\n",
       "      <td>Android_Scareware</td>\n",
       "    </tr>\n",
       "    <tr>\n",
       "      <th>...</th>\n",
       "      <td>...</td>\n",
       "      <td>...</td>\n",
       "      <td>...</td>\n",
       "      <td>...</td>\n",
       "      <td>...</td>\n",
       "      <td>...</td>\n",
       "      <td>...</td>\n",
       "      <td>...</td>\n",
       "      <td>...</td>\n",
       "      <td>...</td>\n",
       "      <td>...</td>\n",
       "      <td>...</td>\n",
       "      <td>...</td>\n",
       "      <td>...</td>\n",
       "      <td>...</td>\n",
       "      <td>...</td>\n",
       "      <td>...</td>\n",
       "      <td>...</td>\n",
       "      <td>...</td>\n",
       "      <td>...</td>\n",
       "      <td>...</td>\n",
       "    </tr>\n",
       "    <tr>\n",
       "      <th>406</th>\n",
       "      <td>10.42.0.211-118.178.143.65-50070-80-6</td>\n",
       "      <td>10.42.0.211</td>\n",
       "      <td>50070</td>\n",
       "      <td>118.178.143.65</td>\n",
       "      <td>80.0</td>\n",
       "      <td>6.0</td>\n",
       "      <td>30/06/2017 02:48:06</td>\n",
       "      <td>8769698</td>\n",
       "      <td>4</td>\n",
       "      <td>4</td>\n",
       "      <td>...</td>\n",
       "      <td>32.0</td>\n",
       "      <td>0.0</td>\n",
       "      <td>0.0</td>\n",
       "      <td>0.0</td>\n",
       "      <td>0.0</td>\n",
       "      <td>0.0</td>\n",
       "      <td>0.0</td>\n",
       "      <td>0.0</td>\n",
       "      <td>0.0</td>\n",
       "      <td>Android_SMS_Malware</td>\n",
       "    </tr>\n",
       "    <tr>\n",
       "      <th>407</th>\n",
       "      <td>140.205.61.26-10.42.0.211-80-47648-6</td>\n",
       "      <td>10.42.0.211</td>\n",
       "      <td>47648</td>\n",
       "      <td>140.205.61.26</td>\n",
       "      <td>80.0</td>\n",
       "      <td>6.0</td>\n",
       "      <td>30/06/2017 02:48:17</td>\n",
       "      <td>892843</td>\n",
       "      <td>5</td>\n",
       "      <td>6</td>\n",
       "      <td>...</td>\n",
       "      <td>20.0</td>\n",
       "      <td>0.0</td>\n",
       "      <td>0.0</td>\n",
       "      <td>0.0</td>\n",
       "      <td>0.0</td>\n",
       "      <td>0.0</td>\n",
       "      <td>0.0</td>\n",
       "      <td>0.0</td>\n",
       "      <td>0.0</td>\n",
       "      <td>Android_SMS_Malware</td>\n",
       "    </tr>\n",
       "    <tr>\n",
       "      <th>408</th>\n",
       "      <td>140.205.61.26-10.42.0.211-80-47648-6</td>\n",
       "      <td>10.42.0.211</td>\n",
       "      <td>47648</td>\n",
       "      <td>140.205.61.26</td>\n",
       "      <td>80.0</td>\n",
       "      <td>6.0</td>\n",
       "      <td>30/06/2017 02:48:18</td>\n",
       "      <td>109</td>\n",
       "      <td>2</td>\n",
       "      <td>0</td>\n",
       "      <td>...</td>\n",
       "      <td>20.0</td>\n",
       "      <td>0.0</td>\n",
       "      <td>0.0</td>\n",
       "      <td>0.0</td>\n",
       "      <td>0.0</td>\n",
       "      <td>0.0</td>\n",
       "      <td>0.0</td>\n",
       "      <td>0.0</td>\n",
       "      <td>0.0</td>\n",
       "      <td>Android_SMS_Malware</td>\n",
       "    </tr>\n",
       "    <tr>\n",
       "      <th>409</th>\n",
       "      <td>10.42.0.211-121.41.62.82-44183-1088-6</td>\n",
       "      <td>10.42.0.211</td>\n",
       "      <td>44183</td>\n",
       "      <td>121.41.62.82</td>\n",
       "      <td>1088.0</td>\n",
       "      <td>6.0</td>\n",
       "      <td>30/06/2017 02:48:17</td>\n",
       "      <td>12192623</td>\n",
       "      <td>2</td>\n",
       "      <td>0</td>\n",
       "      <td>...</td>\n",
       "      <td>32.0</td>\n",
       "      <td>0.0</td>\n",
       "      <td>0.0</td>\n",
       "      <td>0.0</td>\n",
       "      <td>0.0</td>\n",
       "      <td>0.0</td>\n",
       "      <td>0.0</td>\n",
       "      <td>0.0</td>\n",
       "      <td>0.0</td>\n",
       "      <td>Android_SMS_Malware</td>\n",
       "    </tr>\n",
       "    <tr>\n",
       "      <th>410</th>\n",
       "      <td>10.42.0.211-101.37.105.10-48779-6880-6</td>\n",
       "      <td>10.42.0.211</td>\n",
       "      <td>48779</td>\n",
       "      <td>101.37.105.10</td>\n",
       "      <td>6880.0</td>\n",
       "      <td>6.0</td>\n",
       "      <td>30/06/2017 02:48:21</td>\n",
       "      <td>16057007</td>\n",
       "      <td>2</td>\n",
       "      <td>0</td>\n",
       "      <td>...</td>\n",
       "      <td>20.0</td>\n",
       "      <td>0.0</td>\n",
       "      <td>0.0</td>\n",
       "      <td>0.0</td>\n",
       "      <td>0.0</td>\n",
       "      <td>0.0</td>\n",
       "      <td>0.0</td>\n",
       "      <td>0.0</td>\n",
       "      <td>0.0</td>\n",
       "      <td>Android_SMS_Malware</td>\n",
       "    </tr>\n",
       "  </tbody>\n",
       "</table>\n",
       "<p>2885 rows × 85 columns</p>\n",
       "</div>"
      ],
      "text/plain": [
       "                                    Flow ID       Source IP   Source Port  \\\n",
       "90    203.205.158.60-10.42.0.211-80-48574-6  203.205.158.60            80   \n",
       "94    10.42.0.211-111.206.25.159-33521-80-6  111.206.25.159            80   \n",
       "438   10.42.0.211-106.39.169.66-38659-443-6     10.42.0.211         38659   \n",
       "475    10.42.0.211-119.146.74.34-36805-80-6   119.146.74.34            80   \n",
       "476    10.42.0.211-119.146.74.48-33523-80-6   119.146.74.48            80   \n",
       "..                                      ...             ...           ...   \n",
       "406   10.42.0.211-118.178.143.65-50070-80-6     10.42.0.211         50070   \n",
       "407    140.205.61.26-10.42.0.211-80-47648-6     10.42.0.211         47648   \n",
       "408    140.205.61.26-10.42.0.211-80-47648-6     10.42.0.211         47648   \n",
       "409   10.42.0.211-121.41.62.82-44183-1088-6     10.42.0.211         44183   \n",
       "410  10.42.0.211-101.37.105.10-48779-6880-6     10.42.0.211         48779   \n",
       "\n",
       "     Destination IP   Destination Port   Protocol            Timestamp  \\\n",
       "90      10.42.0.211            48574.0        6.0  27/06/2017 02:23:49   \n",
       "94      10.42.0.211            33521.0        6.0  27/06/2017 02:23:49   \n",
       "438   106.39.169.66              443.0        6.0  27/06/2017 02:29:27   \n",
       "475     10.42.0.211            36805.0        6.0  27/06/2017 02:29:30   \n",
       "476     10.42.0.211            33523.0        6.0  27/06/2017 02:29:30   \n",
       "..              ...                ...        ...                  ...   \n",
       "406  118.178.143.65               80.0        6.0  30/06/2017 02:48:06   \n",
       "407   140.205.61.26               80.0        6.0  30/06/2017 02:48:17   \n",
       "408   140.205.61.26               80.0        6.0  30/06/2017 02:48:18   \n",
       "409    121.41.62.82             1088.0        6.0  30/06/2017 02:48:17   \n",
       "410   101.37.105.10             6880.0        6.0  30/06/2017 02:48:21   \n",
       "\n",
       "      Flow Duration   Total Fwd Packets   Total Backward Packets  ...  \\\n",
       "90                4                   2                        0  ...   \n",
       "94                8                   2                        0  ...   \n",
       "438               5                   2                        0  ...   \n",
       "475              10                   2                        0  ...   \n",
       "476               8                   2                        0  ...   \n",
       "..              ...                 ...                      ...  ...   \n",
       "406         8769698                   4                        4  ...   \n",
       "407          892843                   5                        6  ...   \n",
       "408             109                   2                        0  ...   \n",
       "409        12192623                   2                        0  ...   \n",
       "410        16057007                   2                        0  ...   \n",
       "\n",
       "      min_seg_size_forward  Active Mean   Active Std   Active Max  \\\n",
       "90                    32.0          0.0          0.0          0.0   \n",
       "94                    20.0          0.0          0.0          0.0   \n",
       "438                   20.0          0.0          0.0          0.0   \n",
       "475                   20.0          0.0          0.0          0.0   \n",
       "476                   20.0          0.0          0.0          0.0   \n",
       "..                     ...          ...          ...          ...   \n",
       "406                   32.0          0.0          0.0          0.0   \n",
       "407                   20.0          0.0          0.0          0.0   \n",
       "408                   20.0          0.0          0.0          0.0   \n",
       "409                   32.0          0.0          0.0          0.0   \n",
       "410                   20.0          0.0          0.0          0.0   \n",
       "\n",
       "      Active Min  Idle Mean   Idle Std   Idle Max   Idle Min  \\\n",
       "90           0.0        0.0        0.0        0.0        0.0   \n",
       "94           0.0        0.0        0.0        0.0        0.0   \n",
       "438          0.0        0.0        0.0        0.0        0.0   \n",
       "475          0.0        0.0        0.0        0.0        0.0   \n",
       "476          0.0        0.0        0.0        0.0        0.0   \n",
       "..           ...        ...        ...        ...        ...   \n",
       "406          0.0        0.0        0.0        0.0        0.0   \n",
       "407          0.0        0.0        0.0        0.0        0.0   \n",
       "408          0.0        0.0        0.0        0.0        0.0   \n",
       "409          0.0        0.0        0.0        0.0        0.0   \n",
       "410          0.0        0.0        0.0        0.0        0.0   \n",
       "\n",
       "                   Label  \n",
       "90     Android_Scareware  \n",
       "94     Android_Scareware  \n",
       "438    Android_Scareware  \n",
       "475    Android_Scareware  \n",
       "476    Android_Scareware  \n",
       "..                   ...  \n",
       "406  Android_SMS_Malware  \n",
       "407  Android_SMS_Malware  \n",
       "408  Android_SMS_Malware  \n",
       "409  Android_SMS_Malware  \n",
       "410  Android_SMS_Malware  \n",
       "\n",
       "[2885 rows x 85 columns]"
      ]
     },
     "execution_count": 8,
     "metadata": {},
     "output_type": "execute_result"
    }
   ],
   "source": [
    "data[data.duplicated()]"
   ]
  },
  {
   "cell_type": "code",
   "execution_count": 9,
   "metadata": {},
   "outputs": [],
   "source": [
    "data = data.drop_duplicates()"
   ]
  },
  {
   "attachments": {},
   "cell_type": "markdown",
   "metadata": {},
   "source": [
    "### Data Sparcity checks"
   ]
  },
  {
   "cell_type": "code",
   "execution_count": 10,
   "metadata": {},
   "outputs": [
    {
     "data": {
      "text/plain": [
       "Index([' ECE Flag Count', ' Fwd Avg Packets/Bulk', ' Fwd Avg Bulk Rate',\n",
       "       ' Bwd Avg Bytes/Bulk', ' Bwd Avg Packets/Bulk', 'Bwd Avg Bulk Rate'],\n",
       "      dtype='object')"
      ]
     },
     "execution_count": 10,
     "metadata": {},
     "output_type": "execute_result"
    }
   ],
   "source": [
    "# If a column has only one unique value, it essentially does nothing from an ML standpoint and should be removed\n",
    "data.columns[data.nunique()==1]"
   ]
  },
  {
   "cell_type": "code",
   "execution_count": 11,
   "metadata": {},
   "outputs": [],
   "source": [
    "# We drop the above columns from the data here\n",
    "data = data.drop(columns=data.columns[data.nunique()==1])"
   ]
  },
  {
   "cell_type": "code",
   "execution_count": 12,
   "metadata": {},
   "outputs": [
    {
     "data": {
      "text/plain": [
       "Flow ID              50.165133\n",
       " Source IP            0.718933\n",
       " Source Port         14.555274\n",
       " Destination IP       1.345448\n",
       " Destination Port     5.502275\n",
       "                       ...    \n",
       "Idle Mean            11.289458\n",
       " Idle Std             2.519384\n",
       " Idle Max            11.279820\n",
       " Idle Min            11.278402\n",
       "Label                 0.001134\n",
       "Length: 79, dtype: float64"
      ]
     },
     "execution_count": 12,
     "metadata": {},
     "output_type": "execute_result"
    }
   ],
   "source": [
    "# Percentage of each row that is unique\n",
    "# Difficult to use this as a method of filtering based on the size of our data, as we see a lot of our categorical features have very low values\n",
    "data.nunique()/len(data)*100"
   ]
  },
  {
   "attachments": {},
   "cell_type": "markdown",
   "metadata": {},
   "source": [
    "## Non-numerical Data Analysis\n",
    "\n",
    "Much of our data seems to be numerical, but there are a few columns that are not numerical. Additionally, just looking at a glance, there are some columns that are numerical but cannot actually be interpreted as ordinal data (Destination Port, for example). Both of these have to be dealt with in different ways.\n",
    "\n",
    "first of all, lets look at our object columns"
   ]
  },
  {
   "cell_type": "code",
   "execution_count": 16,
   "metadata": {},
   "outputs": [
    {
     "data": {
      "text/html": [
       "<div>\n",
       "<style scoped>\n",
       "    .dataframe tbody tr th:only-of-type {\n",
       "        vertical-align: middle;\n",
       "    }\n",
       "\n",
       "    .dataframe tbody tr th {\n",
       "        vertical-align: top;\n",
       "    }\n",
       "\n",
       "    .dataframe thead th {\n",
       "        text-align: right;\n",
       "    }\n",
       "</style>\n",
       "<table border=\"1\" class=\"dataframe\">\n",
       "  <thead>\n",
       "    <tr style=\"text-align: right;\">\n",
       "      <th></th>\n",
       "      <th>Flow ID</th>\n",
       "      <th>Source IP</th>\n",
       "      <th>Destination IP</th>\n",
       "      <th>Timestamp</th>\n",
       "      <th>CWE Flag Count</th>\n",
       "      <th>Down/Up Ratio</th>\n",
       "      <th>Fwd Avg Bytes/Bulk</th>\n",
       "      <th>Label</th>\n",
       "    </tr>\n",
       "  </thead>\n",
       "  <tbody>\n",
       "    <tr>\n",
       "      <th>0</th>\n",
       "      <td>172.217.6.202-10.42.0.211-443-50004-6</td>\n",
       "      <td>10.42.0.211</td>\n",
       "      <td>172.217.6.202</td>\n",
       "      <td>13/06/2017 11:52:39</td>\n",
       "      <td>0</td>\n",
       "      <td>1.0</td>\n",
       "      <td>0</td>\n",
       "      <td>Android_Adware</td>\n",
       "    </tr>\n",
       "    <tr>\n",
       "      <th>1</th>\n",
       "      <td>172.217.6.202-10.42.0.211-443-35455-6</td>\n",
       "      <td>10.42.0.211</td>\n",
       "      <td>172.217.6.202</td>\n",
       "      <td>13/06/2017 11:52:39</td>\n",
       "      <td>0</td>\n",
       "      <td>1.0</td>\n",
       "      <td>0</td>\n",
       "      <td>Android_Adware</td>\n",
       "    </tr>\n",
       "    <tr>\n",
       "      <th>2</th>\n",
       "      <td>131.253.61.68-10.42.0.211-443-51775-6</td>\n",
       "      <td>10.42.0.211</td>\n",
       "      <td>131.253.61.68</td>\n",
       "      <td>13/06/2017 11:52:42</td>\n",
       "      <td>0</td>\n",
       "      <td>1.0</td>\n",
       "      <td>0</td>\n",
       "      <td>Android_Adware</td>\n",
       "    </tr>\n",
       "    <tr>\n",
       "      <th>3</th>\n",
       "      <td>131.253.61.68-10.42.0.211-443-51775-6</td>\n",
       "      <td>10.42.0.211</td>\n",
       "      <td>131.253.61.68</td>\n",
       "      <td>13/06/2017 11:52:43</td>\n",
       "      <td>0</td>\n",
       "      <td>0.0</td>\n",
       "      <td>0</td>\n",
       "      <td>Android_Adware</td>\n",
       "    </tr>\n",
       "    <tr>\n",
       "      <th>4</th>\n",
       "      <td>131.253.61.68-10.42.0.211-443-51776-6</td>\n",
       "      <td>10.42.0.211</td>\n",
       "      <td>131.253.61.68</td>\n",
       "      <td>13/06/2017 11:52:42</td>\n",
       "      <td>0</td>\n",
       "      <td>0.0</td>\n",
       "      <td>0</td>\n",
       "      <td>Android_Adware</td>\n",
       "    </tr>\n",
       "    <tr>\n",
       "      <th>...</th>\n",
       "      <td>...</td>\n",
       "      <td>...</td>\n",
       "      <td>...</td>\n",
       "      <td>...</td>\n",
       "      <td>...</td>\n",
       "      <td>...</td>\n",
       "      <td>...</td>\n",
       "      <td>...</td>\n",
       "    </tr>\n",
       "    <tr>\n",
       "      <th>405</th>\n",
       "      <td>172.217.7.14-10.42.0.211-80-38405-6</td>\n",
       "      <td>172.217.7.14</td>\n",
       "      <td>10.42.0.211</td>\n",
       "      <td>17/06/2017 01:29:11</td>\n",
       "      <td>0</td>\n",
       "      <td>1.0</td>\n",
       "      <td>0</td>\n",
       "      <td>Benign</td>\n",
       "    </tr>\n",
       "    <tr>\n",
       "      <th>406</th>\n",
       "      <td>10.42.0.211-10.42.0.1-7632-53-17</td>\n",
       "      <td>10.42.0.211</td>\n",
       "      <td>10.42.0.1</td>\n",
       "      <td>17/06/2017 01:30:33</td>\n",
       "      <td>0</td>\n",
       "      <td>1.0</td>\n",
       "      <td>0</td>\n",
       "      <td>Benign</td>\n",
       "    </tr>\n",
       "    <tr>\n",
       "      <th>407</th>\n",
       "      <td>10.42.0.211-104.192.110.245-45970-443-6</td>\n",
       "      <td>10.42.0.211</td>\n",
       "      <td>104.192.110.245</td>\n",
       "      <td>17/06/2017 01:29:45</td>\n",
       "      <td>0</td>\n",
       "      <td>0.0</td>\n",
       "      <td>0</td>\n",
       "      <td>Benign</td>\n",
       "    </tr>\n",
       "    <tr>\n",
       "      <th>408</th>\n",
       "      <td>10.42.0.211-10.42.0.1-51982-53-17</td>\n",
       "      <td>10.42.0.211</td>\n",
       "      <td>10.42.0.1</td>\n",
       "      <td>17/06/2017 01:29:45</td>\n",
       "      <td>0</td>\n",
       "      <td>1.0</td>\n",
       "      <td>0</td>\n",
       "      <td>Benign</td>\n",
       "    </tr>\n",
       "    <tr>\n",
       "      <th>409</th>\n",
       "      <td>10.42.0.211-10.42.0.1-9320-53-17</td>\n",
       "      <td>10.42.0.211</td>\n",
       "      <td>10.42.0.1</td>\n",
       "      <td>17/06/2017 01:30:33</td>\n",
       "      <td>0</td>\n",
       "      <td>1.0</td>\n",
       "      <td>0</td>\n",
       "      <td>Benign</td>\n",
       "    </tr>\n",
       "  </tbody>\n",
       "</table>\n",
       "<p>355630 rows × 8 columns</p>\n",
       "</div>"
      ],
      "text/plain": [
       "                                     Flow ID     Source IP   Destination IP  \\\n",
       "0      172.217.6.202-10.42.0.211-443-50004-6   10.42.0.211    172.217.6.202   \n",
       "1      172.217.6.202-10.42.0.211-443-35455-6   10.42.0.211    172.217.6.202   \n",
       "2      131.253.61.68-10.42.0.211-443-51775-6   10.42.0.211    131.253.61.68   \n",
       "3      131.253.61.68-10.42.0.211-443-51775-6   10.42.0.211    131.253.61.68   \n",
       "4      131.253.61.68-10.42.0.211-443-51776-6   10.42.0.211    131.253.61.68   \n",
       "..                                       ...           ...              ...   \n",
       "405      172.217.7.14-10.42.0.211-80-38405-6  172.217.7.14      10.42.0.211   \n",
       "406         10.42.0.211-10.42.0.1-7632-53-17   10.42.0.211        10.42.0.1   \n",
       "407  10.42.0.211-104.192.110.245-45970-443-6   10.42.0.211  104.192.110.245   \n",
       "408        10.42.0.211-10.42.0.1-51982-53-17   10.42.0.211        10.42.0.1   \n",
       "409         10.42.0.211-10.42.0.1-9320-53-17   10.42.0.211        10.42.0.1   \n",
       "\n",
       "               Timestamp  CWE Flag Count  Down/Up Ratio Fwd Avg Bytes/Bulk  \\\n",
       "0    13/06/2017 11:52:39               0            1.0                  0   \n",
       "1    13/06/2017 11:52:39               0            1.0                  0   \n",
       "2    13/06/2017 11:52:42               0            1.0                  0   \n",
       "3    13/06/2017 11:52:43               0            0.0                  0   \n",
       "4    13/06/2017 11:52:42               0            0.0                  0   \n",
       "..                   ...             ...            ...                ...   \n",
       "405  17/06/2017 01:29:11               0            1.0                  0   \n",
       "406  17/06/2017 01:30:33               0            1.0                  0   \n",
       "407  17/06/2017 01:29:45               0            0.0                  0   \n",
       "408  17/06/2017 01:29:45               0            1.0                  0   \n",
       "409  17/06/2017 01:30:33               0            1.0                  0   \n",
       "\n",
       "              Label  \n",
       "0    Android_Adware  \n",
       "1    Android_Adware  \n",
       "2    Android_Adware  \n",
       "3    Android_Adware  \n",
       "4    Android_Adware  \n",
       "..              ...  \n",
       "405          Benign  \n",
       "406          Benign  \n",
       "407          Benign  \n",
       "408          Benign  \n",
       "409          Benign  \n",
       "\n",
       "[355630 rows x 8 columns]"
      ]
     },
     "execution_count": 16,
     "metadata": {},
     "output_type": "execute_result"
    }
   ],
   "source": [
    "data.select_dtypes(include='object')"
   ]
  },
  {
   "attachments": {},
   "cell_type": "markdown",
   "metadata": {},
   "source": [
    "### Dealing with object cols that should be numerical"
   ]
  },
  {
   "attachments": {},
   "cell_type": "markdown",
   "metadata": {},
   "source": [
    "Here we can already see that there are a few columns that don't seem to belong here, namely `CWE Flag Count`, `Down/Up Ratio`, and `Fwd Avg Bytes/Bulk`\n"
   ]
  },
  {
   "cell_type": "code",
   "execution_count": 18,
   "metadata": {},
   "outputs": [
    {
     "data": {
      "text/plain": [
       "array([0, nan, '0', 'SCAREWARE'], dtype=object)"
      ]
     },
     "execution_count": 18,
     "metadata": {},
     "output_type": "execute_result"
    }
   ],
   "source": [
    "# this column seems to encode 0 in a few different ways and also has a seperate SCAREWARE label that does not make sense in this context\n",
    "# We have no real way to clean this, so it should be dropped\n",
    "data[' CWE Flag Count'].unique()"
   ]
  },
  {
   "cell_type": "code",
   "execution_count": 44,
   "metadata": {},
   "outputs": [
    {
     "data": {
      "text/plain": [
       "array([1, 0, 2, 3, 8, 4, 5, 9, 6, 12, 7, 10, 11, <NA>, 75], dtype=object)"
      ]
     },
     "execution_count": 44,
     "metadata": {},
     "output_type": "execute_result"
    }
   ],
   "source": [
    "# This column seems like it should be numerically interpretable, but has a few issues with the encoding. Some intergers are strings, and there is an out of place BENIGN label again\n",
    "# This can be cleaned manually\n",
    "data[' Down/Up Ratio'].unique()"
   ]
  },
  {
   "cell_type": "code",
   "execution_count": 49,
   "metadata": {},
   "outputs": [],
   "source": [
    "# cleaning Down/Up Ratio\n",
    "data.loc[data[' Down/Up Ratio'] == 'BENIGN', ' Down/Up Ratio'] = pd.NA\n",
    "data[' Down/Up Ratio'] = data[' Down/Up Ratio'].apply(lambda x: int(x) if not pd.isna(x) else pd.NA)\n",
    "data[' Down/Up Ratio'] = data[' Down/Up Ratio'].astype('Int64')"
   ]
  },
  {
   "cell_type": "code",
   "execution_count": 50,
   "metadata": {},
   "outputs": [
    {
     "data": {
      "text/plain": [
       "array([0, '0', 'BENIGN', '0.0', nan], dtype=object)"
      ]
     },
     "execution_count": 50,
     "metadata": {},
     "output_type": "execute_result"
    }
   ],
   "source": [
    "# similar to CWE Flag Count, this is just varying flavors of 0/null with an out of place BENIGN lable\n",
    "# will also be dropped\n",
    "data['Fwd Avg Bytes/Bulk'].unique()"
   ]
  },
  {
   "cell_type": "code",
   "execution_count": 51,
   "metadata": {},
   "outputs": [],
   "source": [
    "# drop the two unconvertable columns\n",
    "data = data.drop(columns=['Fwd Avg Bytes/Bulk', ' CWE Flag Count'])"
   ]
  },
  {
   "attachments": {},
   "cell_type": "markdown",
   "metadata": {},
   "source": [
    "### Dealing with true object columns\n",
    "\n",
    "Now we have to deal with our non-numerical inputs, the most important of which is likely to be the IP adress of the traffic. There are many ways we can go about converting these into numerical features, but the first we will try is simply splitting at the period and encoding each section as a different numerical column. Even these seperate components cannot be interpreted in an ordinal manner, so we will likely have to have to encode them as one-hot categorical columns to treat them properly"
   ]
  },
  {
   "cell_type": "code",
   "execution_count": 52,
   "metadata": {},
   "outputs": [
    {
     "data": {
      "text/plain": [
       "0        172.217.6.202-10.42.0.211-443-50004-6\n",
       "1        172.217.6.202-10.42.0.211-443-35455-6\n",
       "2        131.253.61.68-10.42.0.211-443-51775-6\n",
       "3        131.253.61.68-10.42.0.211-443-51775-6\n",
       "4        131.253.61.68-10.42.0.211-443-51776-6\n",
       "                        ...                   \n",
       "405        172.217.7.14-10.42.0.211-80-38405-6\n",
       "406           10.42.0.211-10.42.0.1-7632-53-17\n",
       "407    10.42.0.211-104.192.110.245-45970-443-6\n",
       "408          10.42.0.211-10.42.0.1-51982-53-17\n",
       "409           10.42.0.211-10.42.0.1-9320-53-17\n",
       "Name: Flow ID, Length: 355630, dtype: object"
      ]
     },
     "execution_count": 52,
     "metadata": {},
     "output_type": "execute_result"
    }
   ],
   "source": [
    "# Flow ID seems to be derivative of other columns and can be dropped as it adds no new information (just destination ip - source ip - timestamp)\n",
    "data['Flow ID']"
   ]
  },
  {
   "cell_type": "code",
   "execution_count": 75,
   "metadata": {},
   "outputs": [
    {
     "data": {
      "text/html": [
       "<div>\n",
       "<style scoped>\n",
       "    .dataframe tbody tr th:only-of-type {\n",
       "        vertical-align: middle;\n",
       "    }\n",
       "\n",
       "    .dataframe tbody tr th {\n",
       "        vertical-align: top;\n",
       "    }\n",
       "\n",
       "    .dataframe thead th {\n",
       "        text-align: right;\n",
       "    }\n",
       "</style>\n",
       "<table border=\"1\" class=\"dataframe\">\n",
       "  <thead>\n",
       "    <tr style=\"text-align: right;\">\n",
       "      <th></th>\n",
       "      <th>Flow ID</th>\n",
       "      <th>Source IP</th>\n",
       "      <th>Source Port</th>\n",
       "      <th>Destination IP</th>\n",
       "      <th>Destination Port</th>\n",
       "      <th>Protocol</th>\n",
       "      <th>Timestamp</th>\n",
       "      <th>Flow Duration</th>\n",
       "      <th>Total Fwd Packets</th>\n",
       "      <th>Total Backward Packets</th>\n",
       "      <th>...</th>\n",
       "      <th>min_seg_size_forward</th>\n",
       "      <th>Active Mean</th>\n",
       "      <th>Active Std</th>\n",
       "      <th>Active Max</th>\n",
       "      <th>Active Min</th>\n",
       "      <th>Idle Mean</th>\n",
       "      <th>Idle Std</th>\n",
       "      <th>Idle Max</th>\n",
       "      <th>Idle Min</th>\n",
       "      <th>Label</th>\n",
       "    </tr>\n",
       "  </thead>\n",
       "  <tbody>\n",
       "  </tbody>\n",
       "</table>\n",
       "<p>0 rows × 83 columns</p>\n",
       "</div>"
      ],
      "text/plain": [
       "Empty DataFrame\n",
       "Columns: [Flow ID,  Source IP,  Source Port,  Destination IP,  Destination Port,  Protocol,  Timestamp,  Flow Duration,  Total Fwd Packets,  Total Backward Packets, Total Length of Fwd Packets,  Total Length of Bwd Packets,  Fwd Packet Length Max,  Fwd Packet Length Min,  Fwd Packet Length Mean,  Fwd Packet Length Std, Bwd Packet Length Max,  Bwd Packet Length Min,  Bwd Packet Length Mean,  Bwd Packet Length Std, Flow Bytes/s,  Flow Packets/s,  Flow IAT Mean,  Flow IAT Std,  Flow IAT Max,  Flow IAT Min, Fwd IAT Total,  Fwd IAT Mean,  Fwd IAT Std,  Fwd IAT Max,  Fwd IAT Min, Bwd IAT Total,  Bwd IAT Mean,  Bwd IAT Std,  Bwd IAT Max,  Bwd IAT Min, Fwd PSH Flags,  Bwd PSH Flags,  Fwd URG Flags,  Bwd URG Flags,  Fwd Header Length,  Bwd Header Length, Fwd Packets/s,  Bwd Packets/s,  Min Packet Length,  Max Packet Length,  Packet Length Mean,  Packet Length Std,  Packet Length Variance, FIN Flag Count,  SYN Flag Count,  RST Flag Count,  PSH Flag Count,  ACK Flag Count,  URG Flag Count,  ECE Flag Count,  Down/Up Ratio,  Average Packet Size,  Avg Fwd Segment Size,  Avg Bwd Segment Size,  Fwd Header Length.1,  Fwd Avg Packets/Bulk,  Fwd Avg Bulk Rate,  Bwd Avg Bytes/Bulk,  Bwd Avg Packets/Bulk, Bwd Avg Bulk Rate, Subflow Fwd Packets,  Subflow Fwd Bytes,  Subflow Bwd Packets,  Subflow Bwd Bytes, Init_Win_bytes_forward,  Init_Win_bytes_backward,  act_data_pkt_fwd,  min_seg_size_forward, Active Mean,  Active Std,  Active Max,  Active Min, Idle Mean,  Idle Std,  Idle Max,  Idle Min, Label]\n",
       "Index: []\n",
       "\n",
       "[0 rows x 83 columns]"
      ]
     },
     "execution_count": 75,
     "metadata": {},
     "output_type": "execute_result"
    }
   ],
   "source": [
    "# these rows are very broken\n",
    "data[data[' Source IP'].str.count('\\.') < 3]"
   ]
  },
  {
   "cell_type": "code",
   "execution_count": 81,
   "metadata": {},
   "outputs": [
    {
     "data": {
      "text/plain": [
       "Int64Index([], dtype='int64')"
      ]
     },
     "execution_count": 81,
     "metadata": {},
     "output_type": "execute_result"
    }
   ],
   "source": [
    "data[data[\" Source IP\"].str.count(\"\\.\") < 3].index\n"
   ]
  },
  {
   "cell_type": "code",
   "execution_count": 80,
   "metadata": {},
   "outputs": [
    {
     "data": {
      "text/plain": [
       "Int64Index([], dtype='int64')"
      ]
     },
     "execution_count": 80,
     "metadata": {},
     "output_type": "execute_result"
    }
   ],
   "source": [
    "data[data[\" Destination IP\"].str.count(\"\\.\") < 3].index\n"
   ]
  },
  {
   "cell_type": "code",
   "execution_count": 74,
   "metadata": {},
   "outputs": [],
   "source": [
    "data = data.drop(labels=data[data[\" Source IP\"].str.count(\"\\.\") < 3].index, axis=0)\n"
   ]
  },
  {
   "cell_type": "code",
   "execution_count": 79,
   "metadata": {},
   "outputs": [],
   "source": [
    "data[[\"source_ip_1\", \"source_ip_2\", \"source_ip_3\", \"source_ip_4\"]] = data[\n",
    "    \" Source IP\"\n",
    "].str.split(\".\", expand=True)\n"
   ]
  },
  {
   "cell_type": "code",
   "execution_count": 82,
   "metadata": {},
   "outputs": [],
   "source": [
    "data[\n",
    "    [\"destination_ip_1\", \"destination_ip_2\", \"destination_ip_3\", \"destination_ip_4\"]\n",
    "] = data[\" Destination IP\"].str.split(\".\", expand=True)\n"
   ]
  },
  {
   "cell_type": "code",
   "execution_count": 85,
   "metadata": {},
   "outputs": [],
   "source": [
    "data[\n",
    "    [\n",
    "        \"destination_ip_1\",\n",
    "        \"destination_ip_2\",\n",
    "        \"destination_ip_3\",\n",
    "        \"destination_ip_4\",\n",
    "        \"source_ip_1\",\n",
    "        \"source_ip_2\",\n",
    "        \"source_ip_3\",\n",
    "        \"source_ip_4\",\n",
    "    ]\n",
    "] = data[\n",
    "    [\n",
    "        \"destination_ip_1\",\n",
    "        \"destination_ip_2\",\n",
    "        \"destination_ip_3\",\n",
    "        \"destination_ip_4\",\n",
    "        \"source_ip_1\",\n",
    "        \"source_ip_2\",\n",
    "        \"source_ip_3\",\n",
    "        \"source_ip_4\",\n",
    "    ]\n",
    "].astype(\n",
    "    \"Int32\"\n",
    ")\n"
   ]
  },
  {
   "attachments": {},
   "cell_type": "markdown",
   "metadata": {},
   "source": [
    "### Dealing with numerical columns that should be treated as object columns (classes)"
   ]
  },
  {
   "attachments": {},
   "cell_type": "markdown",
   "metadata": {},
   "source": [
    "There are many rows and a few columns that are considered categoricals, so we don't want to just use the percentage of unique values per column as a deciding factor. Instead, we have to take into account the percent contribution of each unique value to each column. For example, if a column has 4 unique labels but one label takes up 99.9% of the rows, it likely does not add much modeling capability."
   ]
  },
  {
   "attachments": {},
   "cell_type": "markdown",
   "metadata": {},
   "source": [
    "We can use a variance threshold to take care of numerical features that are highly sparse. This can be visualized by plotting change in selected features vs variance threshold, as we do below"
   ]
  },
  {
   "cell_type": "code",
   "execution_count": 13,
   "metadata": {},
   "outputs": [
    {
     "name": "stdout",
     "output_type": "stream",
     "text": [
      "\n",
      "Threshold=0.00, Features=70\n",
      "\n",
      "Threshold=0.05, Features=68\n",
      "\n",
      "Threshold=0.10, Features=68\n",
      "\n",
      "Threshold=0.15, Features=67\n",
      "\n",
      "Threshold=0.20, Features=66\n",
      "\n",
      "Threshold=0.25, Features=64\n",
      "\n",
      "Threshold=0.30, Features=64\n",
      "\n",
      "Threshold=0.35, Features=64\n",
      "\n",
      "Threshold=0.40, Features=64\n",
      "\n",
      "Threshold=0.45, Features=64\n"
     ]
    },
    {
     "data": {
      "text/html": [
       "\n",
       "<div id=\"altair-viz-2c757bc939c54e1a8702782513b0997e\"></div>\n",
       "<script type=\"text/javascript\">\n",
       "  var VEGA_DEBUG = (typeof VEGA_DEBUG == \"undefined\") ? {} : VEGA_DEBUG;\n",
       "  (function(spec, embedOpt){\n",
       "    let outputDiv = document.currentScript.previousElementSibling;\n",
       "    if (outputDiv.id !== \"altair-viz-2c757bc939c54e1a8702782513b0997e\") {\n",
       "      outputDiv = document.getElementById(\"altair-viz-2c757bc939c54e1a8702782513b0997e\");\n",
       "    }\n",
       "    const paths = {\n",
       "      \"vega\": \"https://cdn.jsdelivr.net/npm//vega@5?noext\",\n",
       "      \"vega-lib\": \"https://cdn.jsdelivr.net/npm//vega-lib?noext\",\n",
       "      \"vega-lite\": \"https://cdn.jsdelivr.net/npm//vega-lite@4.17.0?noext\",\n",
       "      \"vega-embed\": \"https://cdn.jsdelivr.net/npm//vega-embed@6?noext\",\n",
       "    };\n",
       "\n",
       "    function maybeLoadScript(lib, version) {\n",
       "      var key = `${lib.replace(\"-\", \"\")}_version`;\n",
       "      return (VEGA_DEBUG[key] == version) ?\n",
       "        Promise.resolve(paths[lib]) :\n",
       "        new Promise(function(resolve, reject) {\n",
       "          var s = document.createElement('script');\n",
       "          document.getElementsByTagName(\"head\")[0].appendChild(s);\n",
       "          s.async = true;\n",
       "          s.onload = () => {\n",
       "            VEGA_DEBUG[key] = version;\n",
       "            return resolve(paths[lib]);\n",
       "          };\n",
       "          s.onerror = () => reject(`Error loading script: ${paths[lib]}`);\n",
       "          s.src = paths[lib];\n",
       "        });\n",
       "    }\n",
       "\n",
       "    function showError(err) {\n",
       "      outputDiv.innerHTML = `<div class=\"error\" style=\"color:red;\">${err}</div>`;\n",
       "      throw err;\n",
       "    }\n",
       "\n",
       "    function displayChart(vegaEmbed) {\n",
       "      vegaEmbed(outputDiv, spec, embedOpt)\n",
       "        .catch(err => showError(`Javascript Error: ${err.message}<br>This usually means there's a typo in your chart specification. See the javascript console for the full traceback.`));\n",
       "    }\n",
       "\n",
       "    if(typeof define === \"function\" && define.amd) {\n",
       "      requirejs.config({paths});\n",
       "      require([\"vega-embed\"], displayChart, err => showError(`Error loading script: ${err.message}`));\n",
       "    } else {\n",
       "      maybeLoadScript(\"vega\", \"5\")\n",
       "        .then(() => maybeLoadScript(\"vega-lite\", \"4.17.0\"))\n",
       "        .then(() => maybeLoadScript(\"vega-embed\", \"6\"))\n",
       "        .catch(showError)\n",
       "        .then(() => displayChart(vegaEmbed));\n",
       "    }\n",
       "  })({\"config\": {\"view\": {\"continuousWidth\": 400, \"continuousHeight\": 300}}, \"data\": {\"name\": \"data-e6233234a64bbeb238065ee9abab4b0f\"}, \"mark\": \"line\", \"encoding\": {\"x\": {\"field\": \"threshold\", \"type\": \"quantitative\"}, \"y\": {\"field\": \"n_features\", \"type\": \"quantitative\"}}, \"$schema\": \"https://vega.github.io/schema/vega-lite/v4.17.0.json\", \"datasets\": {\"data-e6233234a64bbeb238065ee9abab4b0f\": [{\"threshold\": 0.0, \"n_features\": 70}, {\"threshold\": 0.05, \"n_features\": 68}, {\"threshold\": 0.1, \"n_features\": 68}, {\"threshold\": 0.15000000000000002, \"n_features\": 67}, {\"threshold\": 0.2, \"n_features\": 66}, {\"threshold\": 0.25, \"n_features\": 64}, {\"threshold\": 0.30000000000000004, \"n_features\": 64}, {\"threshold\": 0.35000000000000003, \"n_features\": 64}, {\"threshold\": 0.4, \"n_features\": 64}, {\"threshold\": 0.45, \"n_features\": 64}]}}, {\"mode\": \"vega-lite\"});\n",
       "</script>"
      ],
      "text/plain": [
       "alt.Chart(...)"
      ]
     },
     "execution_count": 13,
     "metadata": {},
     "output_type": "execute_result"
    }
   ],
   "source": [
    "from sklearn.feature_selection import VarianceThreshold\n",
    "\n",
    "data_num = data.select_dtypes(exclude='object')\n",
    "\n",
    "x_eda = data_num.iloc[:, :-1] # Take until the last column\n",
    "y_eda = data_num.iloc[:, -1] # Take the last column\n",
    "\n",
    "transform = VarianceThreshold()\n",
    "\n",
    "variance_thresholds = np.arange(start=0.0, stop=0.5, step=0.05)\n",
    "\n",
    "results = []\n",
    "\n",
    "for t in variance_thresholds:\n",
    "    \n",
    "    transform = VarianceThreshold(threshold=t)\n",
    "    \n",
    "    X_sel = transform.fit_transform(x_eda)\n",
    "    print()\n",
    "    rows, cols = X_sel.shape\n",
    "    n_features = cols\n",
    "    print('Threshold=%.2f, Features=%d' % (t, n_features))\n",
    "    \n",
    "    results.append(n_features)\n",
    "    \n",
    "d2 = pd.DataFrame({'threshold': variance_thresholds, 'n_features': results})\n",
    "alt.Chart(d2).mark_line().encode(\n",
    "    x='threshold',\n",
    "    y='n_features')"
   ]
  },
  {
   "attachments": {},
   "cell_type": "markdown",
   "metadata": {},
   "source": [
    "Using a variance threshold to filter features does not do much to narrow things down in this case, focusing on only our numerical features. As stated above, we need to use a different approach to deal with sparse categorical features"
   ]
  },
  {
   "cell_type": "code",
   "execution_count": null,
   "metadata": {},
   "outputs": [],
   "source": []
  },
  {
   "attachments": {},
   "cell_type": "markdown",
   "metadata": {},
   "source": [
    "### Checking for outliers"
   ]
  },
  {
   "cell_type": "code",
   "execution_count": 14,
   "metadata": {},
   "outputs": [
    {
     "data": {
      "text/plain": [
       "{'whiskers': [<matplotlib.lines.Line2D at 0x2bae5f160>,\n",
       "  <matplotlib.lines.Line2D at 0x2bae5f400>],\n",
       " 'caps': [<matplotlib.lines.Line2D at 0x2bae5f6a0>,\n",
       "  <matplotlib.lines.Line2D at 0x2bae5f940>],\n",
       " 'boxes': [<matplotlib.lines.Line2D at 0x2bae37d30>],\n",
       " 'medians': [<matplotlib.lines.Line2D at 0x2bae5fbe0>],\n",
       " 'fliers': [<matplotlib.lines.Line2D at 0x2bae5fe80>],\n",
       " 'means': []}"
      ]
     },
     "execution_count": 14,
     "metadata": {},
     "output_type": "execute_result"
    },
    {
     "data": {
      "image/png": "[encoded data removed]",
      "text/plain": [
       "<Figure size 640x480 with 1 Axes>"
      ]
     },
     "metadata": {},
     "output_type": "display_data"
    }
   ],
   "source": [
    "plt.boxplot(data[' Total Backward Packets'])"
   ]
  },
  {
   "cell_type": "code",
   "execution_count": 15,
   "metadata": {},
   "outputs": [
    {
     "data": {
      "text/plain": [
       "{'whiskers': [<matplotlib.lines.Line2D at 0x2baf41fa0>,\n",
       "  <matplotlib.lines.Line2D at 0x2baf51280>],\n",
       " 'caps': [<matplotlib.lines.Line2D at 0x2baf51520>,\n",
       "  <matplotlib.lines.Line2D at 0x2baf517c0>],\n",
       " 'boxes': [<matplotlib.lines.Line2D at 0x2baf41c40>],\n",
       " 'medians': [<matplotlib.lines.Line2D at 0x2baf51a60>],\n",
       " 'fliers': [<matplotlib.lines.Line2D at 0x2baf51d00>],\n",
       " 'means': []}"
      ]
     },
     "execution_count": 15,
     "metadata": {},
     "output_type": "execute_result"
    },
    {
     "data": {
      "image/png": "[encoded data removed]",
      "text/plain": [
       "<Figure size 640x480 with 1 Axes>"
      ]
     },
     "metadata": {},
     "output_type": "display_data"
    }
   ],
   "source": [
    "plt.boxplot(data[' Fwd Packet Length Max'])"
   ]
  },
  {
   "cell_type": "code",
   "execution_count": 16,
   "metadata": {},
   "outputs": [],
   "source": [
    "def count_outliers(data):\n",
    "    q25, q75 = np.percentile(data, 25), np.percentile(data, 75)\n",
    "    iqr = q75 - q25\n",
    "    cut_off = iqr * 1.5\n",
    "    lower, upper = q25 - cut_off, q75 + cut_off\n",
    "    outliers = [x for x in data if x < lower or x > upper]\n",
    "    return len(outliers)"
   ]
  },
  {
   "cell_type": "code",
   "execution_count": 17,
   "metadata": {},
   "outputs": [
    {
     "data": {
      "text/plain": [
       "27617"
      ]
     },
     "execution_count": 17,
     "metadata": {},
     "output_type": "execute_result"
    }
   ],
   "source": [
    "count_outliers(data[' Fwd Packet Length Max'])"
   ]
  },
  {
   "cell_type": "code",
   "execution_count": 18,
   "metadata": {},
   "outputs": [
    {
     "name": "stdout",
     "output_type": "stream",
     "text": [
      " Source Port : 44853\n",
      " Destination Port : 45186\n",
      " Protocol : 78330\n",
      " Flow Duration : 48222\n",
      " Total Fwd Packets : 37357\n",
      " Total Backward Packets : 40319\n",
      "Total Length of Fwd Packets : 47050\n",
      " Total Length of Bwd Packets : 74730\n",
      " Fwd Packet Length Max : 27617\n",
      " Fwd Packet Length Min : 10516\n",
      " Fwd Packet Length Mean : 43532\n",
      " Fwd Packet Length Std : 41442\n",
      "Bwd Packet Length Max : 69790\n",
      " Bwd Packet Length Min : 75644\n",
      " Bwd Packet Length Mean : 57790\n",
      " Bwd Packet Length Std : 70423\n",
      "Flow Bytes/s : 56953\n",
      " Flow Packets/s : 62361\n",
      " Flow IAT Mean : 47625\n",
      " Flow IAT Std : 64917\n",
      " Flow IAT Max : 47051\n",
      " Flow IAT Min : 65336\n",
      "Fwd IAT Total : 52046\n",
      " Fwd IAT Mean : 58997\n",
      " Fwd IAT Std : 70052\n",
      " Fwd IAT Max : 55330\n",
      " Fwd IAT Min : 76128\n",
      "Bwd IAT Total : 65948\n",
      " Bwd IAT Mean : 70531\n",
      " Bwd IAT Std : 70783\n",
      " Bwd IAT Max : 64914\n",
      " Bwd IAT Min : 65283\n",
      "Fwd PSH Flags : 23034\n",
      " Bwd PSH Flags : 1\n",
      " Fwd URG Flags : 1\n",
      " Bwd URG Flags : 2\n",
      " Fwd Header Length : 49914\n",
      " Bwd Header Length : 45396\n",
      "Fwd Packets/s : 63032\n"
     ]
    }
   ],
   "source": [
    "for i in range(len(data.columns)):\n",
    "    try:\n",
    "        if count_outliers(data.iloc[:,i])>0:\n",
    "            print(data.columns[i],\":\",count_outliers(data.iloc[:,i]))\n",
    "    except:\n",
    "        continue"
   ]
  },
  {
   "cell_type": "code",
   "execution_count": 20,
   "metadata": {},
   "outputs": [
    {
     "data": {
      "text/plain": [
       "Android_Adware         147443\n",
       "Android_Scareware      117070\n",
       "Android_SMS_Malware     64524\n",
       "Benign                  23708\n",
       "Name: Label, dtype: int64"
      ]
     },
     "execution_count": 20,
     "metadata": {},
     "output_type": "execute_result"
    }
   ],
   "source": [
    "# Checking the balance of the output variable\n",
    "data['Label'].value_counts()"
   ]
  },
  {
   "cell_type": "code",
   "execution_count": 21,
   "metadata": {},
   "outputs": [
    {
     "data": {
      "text/plain": [
       "Flow ID                     1\n",
       " Bwd Packets/s              1\n",
       " Min Packet Length          1\n",
       " Max Packet Length          1\n",
       " Packet Length Mean         1\n",
       " Packet Length Std          1\n",
       " Packet Length Variance     1\n",
       "FIN Flag Count              1\n",
       " SYN Flag Count             1\n",
       " RST Flag Count             1\n",
       " PSH Flag Count             1\n",
       " ACK Flag Count             1\n",
       " URG Flag Count             1\n",
       " CWE Flag Count             1\n",
       " Down/Up Ratio              2\n",
       " Average Packet Size        3\n",
       " Avg Fwd Segment Size       3\n",
       " Avg Bwd Segment Size       3\n",
       " Fwd Header Length.1        3\n",
       "Fwd Avg Bytes/Bulk          3\n",
       "Subflow Fwd Packets         4\n",
       " Subflow Fwd Bytes          4\n",
       " Subflow Bwd Packets        4\n",
       " Subflow Bwd Bytes          4\n",
       "Init_Win_bytes_forward      4\n",
       " Init_Win_bytes_backward    4\n",
       " act_data_pkt_fwd           4\n",
       " min_seg_size_forward       4\n",
       "Active Mean                 4\n",
       " Active Std                 4\n",
       " Active Max                 4\n",
       " Active Min                 4\n",
       "Idle Mean                   4\n",
       " Idle Std                   4\n",
       " Idle Max                   4\n",
       " Idle Min                   4\n",
       "dtype: int64"
      ]
     },
     "execution_count": 21,
     "metadata": {},
     "output_type": "execute_result"
    }
   ],
   "source": [
    "# Finding null values per column\n",
    "data.isna().sum()[data.isna().sum() > 0]"
   ]
  },
  {
   "cell_type": "code",
   "execution_count": 22,
   "metadata": {},
   "outputs": [],
   "source": [
    "data = data.dropna()"
   ]
  },
  {
   "cell_type": "code",
   "execution_count": 23,
   "metadata": {},
   "outputs": [
    {
     "data": {
      "text/plain": [
       "[' Source Port',\n",
       " ' Destination Port',\n",
       " ' Protocol',\n",
       " ' Flow Duration',\n",
       " ' Total Fwd Packets',\n",
       " ' Total Backward Packets',\n",
       " 'Total Length of Fwd Packets',\n",
       " ' Total Length of Bwd Packets',\n",
       " ' Fwd Packet Length Max',\n",
       " ' Fwd Packet Length Min',\n",
       " ' Fwd Packet Length Mean',\n",
       " ' Fwd Packet Length Std',\n",
       " 'Bwd Packet Length Max',\n",
       " ' Bwd Packet Length Min',\n",
       " ' Bwd Packet Length Mean',\n",
       " ' Bwd Packet Length Std',\n",
       " 'Flow Bytes/s',\n",
       " ' Flow Packets/s',\n",
       " ' Flow IAT Mean',\n",
       " ' Flow IAT Std',\n",
       " ' Flow IAT Max',\n",
       " ' Flow IAT Min',\n",
       " 'Fwd IAT Total',\n",
       " ' Fwd IAT Mean',\n",
       " ' Fwd IAT Std',\n",
       " ' Fwd IAT Max',\n",
       " ' Fwd IAT Min',\n",
       " 'Bwd IAT Total',\n",
       " ' Bwd IAT Mean',\n",
       " ' Bwd IAT Std',\n",
       " ' Bwd IAT Max',\n",
       " ' Bwd IAT Min',\n",
       " 'Fwd PSH Flags',\n",
       " ' Bwd PSH Flags',\n",
       " ' Fwd URG Flags',\n",
       " ' Bwd URG Flags',\n",
       " ' Fwd Header Length',\n",
       " ' Bwd Header Length',\n",
       " 'Fwd Packets/s',\n",
       " ' Bwd Packets/s',\n",
       " ' Min Packet Length',\n",
       " ' Max Packet Length',\n",
       " ' Packet Length Mean',\n",
       " ' Packet Length Std',\n",
       " ' Packet Length Variance',\n",
       " 'FIN Flag Count',\n",
       " ' SYN Flag Count',\n",
       " ' RST Flag Count',\n",
       " ' PSH Flag Count',\n",
       " ' ACK Flag Count',\n",
       " ' URG Flag Count',\n",
       " ' Average Packet Size',\n",
       " ' Avg Fwd Segment Size',\n",
       " ' Avg Bwd Segment Size',\n",
       " ' Fwd Header Length.1',\n",
       " 'Subflow Fwd Packets',\n",
       " ' Subflow Fwd Bytes',\n",
       " ' Subflow Bwd Packets',\n",
       " ' Subflow Bwd Bytes',\n",
       " 'Init_Win_bytes_forward',\n",
       " ' Init_Win_bytes_backward',\n",
       " ' act_data_pkt_fwd',\n",
       " ' min_seg_size_forward',\n",
       " 'Active Mean',\n",
       " ' Active Std',\n",
       " ' Active Max',\n",
       " ' Active Min',\n",
       " 'Idle Mean',\n",
       " ' Idle Std',\n",
       " ' Idle Max',\n",
       " ' Idle Min',\n",
       " 'Label']"
      ]
     },
     "execution_count": 23,
     "metadata": {},
     "output_type": "execute_result"
    }
   ],
   "source": [
    "list(data.select_dtypes(exclude=np.dtype('object')).columns) + ['Label']"
   ]
  },
  {
   "cell_type": "code",
   "execution_count": 26,
   "metadata": {},
   "outputs": [],
   "source": [
    "from sklearn.ensemble import RandomForestClassifier\n",
    "from sklearn.model_selection import train_test_split\n",
    "from sklearn.metrics import ConfusionMatrixDisplay\n",
    "\n",
    "rfc = RandomForestClassifier(n_jobs=-1)\n",
    "\n",
    "# The data is not yet clean, so we will use just the numerical data as a worst-case-scenario baseline\n",
    "\n",
    "data_num = data[list(data.select_dtypes(exclude=np.dtype('object')).columns) + ['Label']]\n",
    "\n",
    "X = data_num.drop(columns='Label')\n",
    "Y = data_num['Label']\n",
    "\n",
    "x_train, x_val, y_train, y_val = train_test_split(X, Y, train_size=0.8, random_state=1)\n"
   ]
  },
  {
   "cell_type": "code",
   "execution_count": 27,
   "metadata": {},
   "outputs": [
    {
     "data": {
      "image/png": "[encoded data removed]",
      "text/plain": [
       "<Figure size 640x480 with 2 Axes>"
      ]
     },
     "metadata": {},
     "output_type": "display_data"
    }
   ],
   "source": [
    "rfc.fit(x_train, y_train)\n",
    "\n",
    "ConfusionMatrixDisplay.from_estimator(rfc, x_val, y_val)\n",
    "\n",
    "plt.show()"
   ]
  },
  {
   "attachments": {},
   "cell_type": "markdown",
   "metadata": {},
   "source": [
    "Initial results seem poor, likely due to a painfully unbalanced dataset, among other factors. Due to the volume of data availible, balancing will be a simple as downsampling the positive classes to fall in line with the benign class. In an actual model use case, a higher false positive rate will be beneficial as with most antivirus solutions."
   ]
  }
 ],
 "metadata": {
  "kernelspec": {
   "display_name": "BD",
   "language": "python",
   "name": "python3"
  },
  "language_info": {
   "codemirror_mode": {
    "name": "ipython",
    "version": 3
   },
   "file_extension": ".py",
   "mimetype": "text/x-python",
   "name": "python",
   "nbconvert_exporter": "python",
   "pygments_lexer": "ipython3",
   "version": "3.9.15"
  },
  "orig_nbformat": 4
 },
 "nbformat": 4,
 "nbformat_minor": 2
}
